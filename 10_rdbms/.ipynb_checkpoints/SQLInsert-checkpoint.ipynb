{
 "cells": [
  {
   "cell_type": "code",
   "execution_count": 1,
   "id": "8da49118-bb4b-4907-acd8-63e6ee12e2bf",
   "metadata": {},
   "outputs": [
    {
     "name": "stdout",
     "output_type": "stream",
     "text": [
      "Requirement already satisfied: psycopg2-binary in /opt/anaconda3/lib/python3.11/site-packages (2.9.9)\n",
      "Note: you may need to restart the kernel to use updated packages.\n"
     ]
    }
   ],
   "source": [
    "pip install psycopg2-binary"
   ]
  },
  {
   "cell_type": "code",
   "execution_count": 2,
   "id": "724f5c4c-9a2f-44cf-917e-f14d63c633b5",
   "metadata": {},
   "outputs": [],
   "source": [
    "import psycopg2\n",
    "import pandas as pd\n",
    "import ast"
   ]
  },
  {
   "cell_type": "code",
   "execution_count": 3,
   "id": "07533fed-0e80-4d26-882e-d7072b4470a4",
   "metadata": {},
   "outputs": [],
   "source": [
    "# Database connection parameters\n",
    "conn = psycopg2.connect(\n",
    "    dbname=\"AccidentAnalytics\",\n",
    "    user=\"postgres\",\n",
    "    password=\"fullerton\",\n",
    "    host=\"localhost\"\n",
    ")\n",
    "cur = conn.cursor()"
   ]
  },
  {
   "cell_type": "code",
   "execution_count": 4,
   "id": "29dbac2f-9249-48dc-9c4f-20a21770db15",
   "metadata": {},
   "outputs": [],
   "source": [
    "data =pd.read_csv('transformed.csv')"
   ]
  },
  {
   "cell_type": "code",
   "execution_count": 5,
   "id": "b6f05914-234d-4200-ac7d-d7c40c9af228",
   "metadata": {},
   "outputs": [
    {
     "data": {
      "text/plain": [
       "<bound method NDFrame.describe of              id                          place  \\\n",
       "0     107938160                      Sultanpur   \n",
       "1     107821301                         Jaipur   \n",
       "2     107790964                        Raichur   \n",
       "3     107737101                      New Delhi   \n",
       "4     107897709                      Hyderabad   \n",
       "...         ...                            ...   \n",
       "6745   70438045                         Rajkot   \n",
       "6746   69529927                      Bengaluru   \n",
       "6747   69168530                Ambala/Parwanoo   \n",
       "6748   69652686                        Madurai   \n",
       "6749   64101878  Padiyan Ka Purwa (Rae Bareli)   \n",
       "\n",
       "                                                   link  \\\n",
       "0     https://timesofindia.indiatimes.com/city/allah...   \n",
       "1     https://timesofindia.indiatimes.com/city/jaipu...   \n",
       "2     https://timesofindia.indiatimes.com/city/benga...   \n",
       "3     https://timesofindia.indiatimes.com/city/delhi...   \n",
       "4     https://timesofindia.indiatimes.com/city/hyder...   \n",
       "...                                                 ...   \n",
       "6745  https://timesofindia.indiatimes.com/city/rajko...   \n",
       "6746  https://timesofindia.indiatimes.com/city/benga...   \n",
       "6747  https://timesofindia.indiatimes.com/city/gurga...   \n",
       "6748  https://timesofindia.indiatimes.com/city/chenn...   \n",
       "6749  https://timesofindia.indiatimes.com/city/gurga...   \n",
       "\n",
       "                                                content news_date  \\\n",
       "0     SULTANPUR : Three people lost their lives on F...  23/02/24   \n",
       "1     JAIPUR: Three people died in a car accident in...  19/02/24   \n",
       "2     RAICHUR: Two women killed and five others were...  18/02/24   \n",
       "3     New Delhi: Two students were injured after a s...  16/02/24   \n",
       "4     Hyderabad: A newlywed software engineer , his ...  22/02/24   \n",
       "...                                                 ...       ...   \n",
       "6745  RAJKOT: Three including two members of Jasdan ...  30/07/19   \n",
       "6746  BENGALURU: Five members of a family, including...  28/05/19   \n",
       "6747  AMBALA/PARWANOO: Three members of a family wer...  04/05/19   \n",
       "6748  MADURAI: Three men, including the manager of a...  04/06/19   \n",
       "6749  PADIYAN KA PURWA (RAE BARELI): The death of th...  10/05/18   \n",
       "\n",
       "                                             first_line   latitude  longitude  \\\n",
       "0     Three people lost their lives on Friday in a c...  26.334588  81.996789   \n",
       "1     Three people died in a car accident in Rajasth...  26.915458  75.818982   \n",
       "2     Two women killed and five others were seriousl...  16.083333  77.166667   \n",
       "3     Two students were injured after a speeding car...  28.613895  77.209006   \n",
       "4     A newlywed software engineer , his father-in-l...  17.360589  78.474061   \n",
       "...                                                 ...        ...        ...   \n",
       "6745  Three including two members of Jasdan Diamond ...  22.305326  70.802838   \n",
       "6746  Five members of a family, including a 14-year-...  12.976794  77.590082   \n",
       "6747  Three members of a family were killed after th...        NaN        NaN   \n",
       "6748  Three men, including the manager of a national...   9.926115  78.114098   \n",
       "6749  The death of the 28-year-old cab driver in a c...        NaN        NaN   \n",
       "\n",
       "              state  week_avg_weather  precipitation_3days  age  \\\n",
       "0     Uttar Pradesh         18.672459             0.200000  NaN   \n",
       "1         Rajasthan         18.577219             0.000000  NaN   \n",
       "2         Karnataka         29.642168             0.000000  NaN   \n",
       "3             Delhi         18.050730             0.000000  NaN   \n",
       "4         Telangana         26.445761             0.000000  NaN   \n",
       "...             ...               ...                  ...  ...   \n",
       "6745        Gujarat         27.055136            73.299995  NaN   \n",
       "6746      Karnataka         25.609011             5.900000   14   \n",
       "6747            NaN               NaN                  NaN  NaN   \n",
       "6748     Tamil Nadu         30.240919            30.000000  NaN   \n",
       "6749            NaN               NaN                  NaN   28   \n",
       "\n",
       "                       vehicle_type     reason  fatalities  injured gender  \\\n",
       "0                               Car        NaN         3.0      NaN    NaN   \n",
       "1                               NaN        NaN         3.0      NaN    NaN   \n",
       "2     ['Car', 'Commercial Vehicle']  Collision         2.0      5.0    NaN   \n",
       "3                               NaN      Speed         NaN      2.0    NaN   \n",
       "4                               NaN        NaN         NaN      NaN    NaN   \n",
       "...                             ...        ...         ...      ...    ...   \n",
       "6745                            Car        NaN         3.0      NaN    NaN   \n",
       "6746  ['Car', 'Commercial Vehicle']        NaN         5.0      NaN   Male   \n",
       "6747                            Car        NaN         3.0      NaN    NaN   \n",
       "6748  ['Car', 'Commercial Vehicle']  Collision         3.0      NaN   Male   \n",
       "6749                            Car        NaN         NaN      NaN    NaN   \n",
       "\n",
       "         time  \n",
       "0         NaN  \n",
       "1         NaN  \n",
       "2     Morning  \n",
       "3         NaN  \n",
       "4       Night  \n",
       "...       ...  \n",
       "6745      NaN  \n",
       "6746    Night  \n",
       "6747    Night  \n",
       "6748      NaN  \n",
       "6749      NaN  \n",
       "\n",
       "[6750 rows x 18 columns]>"
      ]
     },
     "execution_count": 5,
     "metadata": {},
     "output_type": "execute_result"
    }
   ],
   "source": [
    "data.describe"
   ]
  },
  {
   "cell_type": "code",
   "execution_count": 6,
   "id": "ccd38967-7140-4501-a25e-b0196e7d1220",
   "metadata": {},
   "outputs": [],
   "source": [
    "def parse_column(data):\n",
    "    if pd.isna(data):\n",
    "        return []\n",
    "    try:\n",
    "        if isinstance(data, str) and (data.startswith('[') and data.endswith(']')):\n",
    "            return ast.literal_eval(data)\n",
    "        else:\n",
    "            return [data]\n",
    "    except ValueError:\n",
    "        return [data]"
   ]
  },
  {
   "cell_type": "code",
   "execution_count": 7,
   "id": "fa4ac66e-74ec-4f82-a8ab-8c4ab28a16fa",
   "metadata": {},
   "outputs": [],
   "source": [
    "cur.execute(\"SET DateStyle = 'ISO, DMY';\")\n",
    "data['news_date'] = data['news_date'].apply(lambda x: None if pd.isna(x) else x)\n",
    "# Process each row in the DataFrame\n",
    "for index, row in data.iterrows():\n",
    "    # Ensure non-None and non-NaN data for the Accidents table\n",
    "    content = row['content'] if pd.notna(row['content']) else None\n",
    "    first_line = row['first_line'] if pd.notna(row['first_line']) else None\n",
    "    reason = row['reason'] if pd.notna(row['reason']) else None\n",
    "    fatalities = int(row['fatalities']) if pd.notna(row['fatalities']) else None\n",
    "    injured = int(row['injured']) if pd.notna(row['injured']) else None\n",
    "    time = row['time'] if pd.notna(row['time']) else None\n",
    "\n",
    "    # Insert data into Accidents table\n",
    "    cur.execute(\n",
    "        \"\"\"\n",
    "        INSERT INTO Accidents (accident_id, place, link, content, news_date, first_line, latitude, longitude, state, week_avg_weather, precipitation_3days, reason, fatalities, injured, time)\n",
    "        VALUES (%s, %s, %s, %s, %s, %s, %s, %s, %s, %s, %s, %s, %s, %s, %s)\n",
    "        ON CONFLICT (accident_id) DO NOTHING;\n",
    "        \"\"\",\n",
    "        (row['id'], row['place'], row['link'], content, row['news_date'], first_line, row['latitude'], row['longitude'], row['state'], row['week_avg_weather'], row['precipitation_3days'], reason, fatalities, injured, time)\n",
    "    )\n",
    "    \n",
    "    # Insert ages associated with the accident\n",
    "    ages = parse_column(row['age'])\n",
    "    for age in ages:\n",
    "        if pd.notna(age):  # Ensure age is not NaN\n",
    "            cur.execute(\n",
    "                \"INSERT INTO AccidentAges (accident_id, age) VALUES (%s, %s) ON CONFLICT DO NOTHING;\",\n",
    "                (row['id'], float(age))\n",
    "            )\n",
    "\n",
    "    # Insert vehicle types associated with the accident\n",
    "    vehicles = parse_column(row['vehicle_type'])\n",
    "    for vehicle in vehicles:\n",
    "        if vehicle:  # Ensure vehicle is not None or empty\n",
    "            cur.execute(\n",
    "                \"INSERT INTO AccidentVehicles (accident_id, vehicle_type) VALUES (%s, %s) ON CONFLICT DO NOTHING;\",\n",
    "                (row['id'], vehicle)\n",
    "            )\n",
    "\n",
    "    # Insert genders associated with the accident\n",
    "    genders = parse_column(row['gender'])\n",
    "    for gender in genders:\n",
    "        if gender:  # Ensure gender is not None or empty\n",
    "            cur.execute(\n",
    "                \"INSERT INTO AccidentGenders (accident_id, gender) VALUES (%s, %s) ON CONFLICT DO NOTHING;\",\n",
    "                (row['id'], gender)\n",
    "            )"
   ]
  },
  {
   "cell_type": "code",
   "execution_count": 8,
   "id": "f308c785-9b7f-4514-a7ad-88a075938a6e",
   "metadata": {},
   "outputs": [],
   "source": [
    " # Commit after processing each row to ensure data integrity\n",
    "conn.commit()"
   ]
  },
  {
   "cell_type": "code",
   "execution_count": 9,
   "id": "ccb6d10a-e647-4472-add0-4d186c0db855",
   "metadata": {},
   "outputs": [],
   "source": [
    "# Close the cursor\n",
    "cur.close()\n",
    "# Close the connection\n",
    "conn.close()"
   ]
  },
  {
   "cell_type": "code",
   "execution_count": null,
   "id": "b22cd945-9d23-4d93-a494-7b4ce2c2613c",
   "metadata": {},
   "outputs": [],
   "source": []
  },
  {
   "cell_type": "code",
   "execution_count": null,
   "id": "5793a409-d2ee-44ec-933a-cebff931ccf5",
   "metadata": {},
   "outputs": [],
   "source": []
  },
  {
   "cell_type": "code",
   "execution_count": null,
   "id": "3f188b0f-6e95-4f10-b0fe-6bcf785b8fac",
   "metadata": {},
   "outputs": [],
   "source": []
  }
 ],
 "metadata": {
  "kernelspec": {
   "display_name": "Python 3 (ipykernel)",
   "language": "python",
   "name": "python3"
  },
  "language_info": {
   "codemirror_mode": {
    "name": "ipython",
    "version": 3
   },
   "file_extension": ".py",
   "mimetype": "text/x-python",
   "name": "python",
   "nbconvert_exporter": "python",
   "pygments_lexer": "ipython3",
   "version": "3.11.7"
  }
 },
 "nbformat": 4,
 "nbformat_minor": 5
}
