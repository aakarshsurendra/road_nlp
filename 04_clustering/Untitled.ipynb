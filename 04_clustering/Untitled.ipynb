{
 "cells": [
  {
   "cell_type": "code",
   "execution_count": 1,
   "id": "f6504fad-6903-47a1-8b52-e3dcef820027",
   "metadata": {
    "tags": []
   },
   "outputs": [],
   "source": [
    "import pandas as pd\n",
    "data = pd.read_csv('dataframe_lat_long.csv')"
   ]
  },
  {
   "cell_type": "code",
   "execution_count": 2,
   "id": "4d840845-32c1-4360-94d5-12f97b28af4a",
   "metadata": {
    "tags": []
   },
   "outputs": [],
   "source": [
    "places = data['place']"
   ]
  },
  {
   "cell_type": "code",
   "execution_count": null,
   "id": "5837dff9-490b-4c5d-aa8d-ae57034f714c",
   "metadata": {
    "tags": []
   },
   "outputs": [],
   "source": [
    "list(places)"
   ]
  },
  {
   "cell_type": "code",
   "execution_count": 6,
   "id": "eb449a39-78d7-4c6e-9410-c03513ab8104",
   "metadata": {
    "tags": []
   },
   "outputs": [
    {
     "name": "stdout",
     "output_type": "stream",
     "text": [
      "Collecting geopy\n",
      "  Downloading geopy-2.4.1-py3-none-any.whl (125 kB)\n",
      "\u001b[2K     \u001b[90m━━━━━━━━━━━━━━━━━━━━━━━━━━━━━━━━━━━━━━━\u001b[0m \u001b[32m125.4/125.4 kB\u001b[0m \u001b[31m2.3 MB/s\u001b[0m eta \u001b[36m0:00:00\u001b[0ma \u001b[36m0:00:01\u001b[0m\n",
      "\u001b[?25hCollecting geographiclib<3,>=1.52 (from geopy)\n",
      "  Downloading geographiclib-2.0-py3-none-any.whl (40 kB)\n",
      "\u001b[2K     \u001b[90m━━━━━━━━━━━━━━━━━━━━━━━━━━━━━━━━━━━━━━━━\u001b[0m \u001b[32m40.3/40.3 kB\u001b[0m \u001b[31m4.0 MB/s\u001b[0m eta \u001b[36m0:00:00\u001b[0m\n",
      "\u001b[?25hInstalling collected packages: geographiclib, geopy\n",
      "Successfully installed geographiclib-2.0 geopy-2.4.1\n",
      "Note: you may need to restart the kernel to use updated packages.\n"
     ]
    }
   ],
   "source": [
    "pip install geopy"
   ]
  },
  {
   "cell_type": "code",
   "execution_count": 7,
   "id": "ff2e96e9-d3f4-4fc8-84e7-eb09aa4c7f74",
   "metadata": {
    "tags": []
   },
   "outputs": [],
   "source": [
    "from geopy.geocoders import get_geocoder_for_service\n",
    "def geocode(geocoder, config, query):\n",
    "    cls = get_geocoder_for_service(geocoder)\n",
    "    geolocator = cls(**config)\n",
    "    location = geolocator.geocode(query)\n",
    "    return location.address"
   ]
  },
  {
   "cell_type": "code",
   "execution_count": null,
   "id": "232eb26b-6eca-42ee-8ac5-e39a5bed5d59",
   "metadata": {
    "tags": []
   },
   "outputs": [
    {
     "name": "stderr",
     "output_type": "stream",
     "text": [
      "Processing:   1%|          | 35/6750 [00:18<53:06,  2.11it/s]  "
     ]
    }
   ],
   "source": [
    "import pandas as pd\n",
    "from geopy.geocoders import Nominatim\n",
    "from tqdm import tqdm\n",
    "\n",
    "geolocator = Nominatim(user_agent=\"aakarshsurendra\")\n",
    "states = []\n",
    "\n",
    "for place in tqdm(places, desc=\"Processing\"):\n",
    "    try:\n",
    "        location = geolocator.geocode(place)\n",
    "        if location:\n",
    "            states.append(location.raw.get('address', {}).get('state', ''))\n",
    "        else:\n",
    "            states.append('')\n",
    "    except:\n",
    "        states.append('')"
   ]
  },
  {
   "cell_type": "code",
   "execution_count": null,
   "id": "70d2ab82-e59e-4d7f-b3fb-f41d4a27bed6",
   "metadata": {},
   "outputs": [],
   "source": []
  }
 ],
 "metadata": {
  "kernelspec": {
   "display_name": "Python 3 (ipykernel)",
   "language": "python",
   "name": "python3"
  },
  "language_info": {
   "codemirror_mode": {
    "name": "ipython",
    "version": 3
   },
   "file_extension": ".py",
   "mimetype": "text/x-python",
   "name": "python",
   "nbconvert_exporter": "python",
   "pygments_lexer": "ipython3",
   "version": "3.11.3"
  }
 },
 "nbformat": 4,
 "nbformat_minor": 5
}
