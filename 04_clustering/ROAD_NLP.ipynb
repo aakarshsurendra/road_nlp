{
 "cells": [
  {
   "cell_type": "markdown",
   "metadata": {
    "id": "thNGWZl-Y7sO",
    "tags": []
   },
   "source": [
    "# IMPORTING AND FILTERING THE NEWS"
   ]
  },
  {
   "cell_type": "code",
   "execution_count": 1,
   "metadata": {
    "colab": {
     "base_uri": "https://localhost:8080/",
     "height": 321
    },
    "id": "rOdRVReWWelP",
    "outputId": "ff6352b4-3a0c-46b2-b36a-bfe2a1a107ac"
   },
   "outputs": [],
   "source": [
    "# !pip install -U spacy\n",
    "# !pip install -U spacy-transformers\n",
    "#!python -m spacy download en_core_web_trf"
   ]
  },
  {
   "cell_type": "code",
   "execution_count": 1,
   "metadata": {
    "tags": []
   },
   "outputs": [
    {
     "name": "stderr",
     "output_type": "stream",
     "text": [
      "/Users/aakarshsurendra/anaconda3/lib/python3.11/site-packages/transformers/utils/generic.py:441: UserWarning: torch.utils._pytree._register_pytree_node is deprecated. Please use torch.utils._pytree.register_pytree_node instead.\n",
      "  _torch_pytree._register_pytree_node(\n",
      "/Users/aakarshsurendra/anaconda3/lib/python3.11/site-packages/transformers/utils/generic.py:309: UserWarning: torch.utils._pytree._register_pytree_node is deprecated. Please use torch.utils._pytree.register_pytree_node instead.\n",
      "  _torch_pytree._register_pytree_node(\n"
     ]
    }
   ],
   "source": [
    "import pandas as pd\n",
    "import spacy\n",
    "import pickle\n",
    "import re\n",
    "\n",
    "# Load the transformer model\n",
    "nlp = spacy.load(\"en_core_web_trf\")\n",
    "\n",
    "\n",
    "file_path = '/Users/aakarshsurendra/Desktop/ROAD_NLP/02_dataset/data_road.csv'\n",
    "\n",
    "dataframe = pd.read_csv(file_path)\n"
   ]
  },
  {
   "cell_type": "code",
   "execution_count": 2,
   "metadata": {
    "tags": []
   },
   "outputs": [
    {
     "name": "stdout",
     "output_type": "stream",
     "text": [
      "/Users/aakarshsurendra/anaconda3/lib/python3.11/site-packages/transformers/utils/generic.py:441: UserWarning: torch.utils._pytree._register_pytree_node is deprecated. Please use torch.utils._pytree.register_pytree_node instead.\n",
      "  _torch_pytree._register_pytree_node(\n",
      "\u001b[2K\u001b[38;5;2m✔ Loaded compatibility table\u001b[0m\n",
      "\u001b[1m\n",
      "================= Installed pipeline packages (spaCy v3.7.4) =================\u001b[0m\n",
      "\u001b[38;5;4mℹ spaCy installation:\n",
      "/Users/aakarshsurendra/anaconda3/lib/python3.11/site-packages/spacy\u001b[0m\n",
      "\n",
      "NAME              SPACY            VERSION                            \n",
      "en_core_web_sm    >=3.7.2,<3.8.0   \u001b[38;5;2m3.7.1\u001b[0m   \u001b[38;5;2m✔\u001b[0m\n",
      "en_core_web_lg    >=3.7.2,<3.8.0   \u001b[38;5;2m3.7.1\u001b[0m   \u001b[38;5;2m✔\u001b[0m\n",
      "en_core_web_trf   >=3.7.2,<3.8.0   \u001b[38;5;2m3.7.3\u001b[0m   \u001b[38;5;2m✔\u001b[0m\n",
      "\n"
     ]
    }
   ],
   "source": [
    "!python -m spacy validate"
   ]
  },
  {
   "cell_type": "code",
   "execution_count": 4,
   "metadata": {
    "tags": []
   },
   "outputs": [],
   "source": [
    "dataframe = dataframe.head(50) # debug"
   ]
  },
  {
   "cell_type": "markdown",
   "metadata": {},
   "source": [
    "### CREATING IDs FOR EACH NEWS"
   ]
  },
  {
   "cell_type": "code",
   "execution_count": 2,
   "metadata": {
    "tags": []
   },
   "outputs": [],
   "source": [
    "# Function to extract id from link\n",
    "def extract_id(link):\n",
    "    match = re.search(r'\\b(\\d{6,11})\\b', link)\n",
    "    if match:\n",
    "        return match.group(1)\n",
    "    else:\n",
    "        return None\n",
    "    \n",
    "# Apply the function to extract ids\n",
    "dataframe['id'] = dataframe['Link'].apply(extract_id)\n",
    "order = ['id','Link','content','News_date']\n",
    "dataframe = dataframe[order]"
   ]
  },
  {
   "cell_type": "code",
   "execution_count": 3,
   "metadata": {
    "tags": []
   },
   "outputs": [],
   "source": [
    "# Display the DataFrame\n",
    "dataframe.to_csv('dataframe_id.csv',index = False)"
   ]
  },
  {
   "cell_type": "markdown",
   "metadata": {},
   "source": [
    "## TEXT PRE-PROCESSING FUNCTION"
   ]
  },
  {
   "cell_type": "code",
   "execution_count": 4,
   "metadata": {
    "id": "eVE0_QAGbneE",
    "tags": []
   },
   "outputs": [],
   "source": [
    "# Function to preprocess text using SpaCy\n",
    "def preprocess_text_spacy(text):\n",
    "    # Tokenize text and remove stopwords, punctuation, and lemmatize tokens\n",
    "    doc = nlp(text)\n",
    "    processed_tokens = [token.lemma_ for token in doc if not token.is_stop and not token.is_punct]\n",
    "    return processed_tokens"
   ]
  },
  {
   "cell_type": "markdown",
   "metadata": {
    "tags": []
   },
   "source": [
    "# STAGE I CLUSTERING"
   ]
  },
  {
   "cell_type": "markdown",
   "metadata": {
    "tags": []
   },
   "source": [
    "## DO NOT RUN "
   ]
  },
  {
   "cell_type": "markdown",
   "metadata": {},
   "source": [
    "#### Run only once and store the output TF-IDF vector file as pickle - "
   ]
  },
  {
   "cell_type": "code",
   "execution_count": 5,
   "metadata": {
    "colab": {
     "base_uri": "https://localhost:8080/"
    },
    "id": "DrMRmzeBcDkD",
    "outputId": "ad3424a6-8331-4ae0-9138-2670614cab4d"
   },
   "outputs": [
    {
     "name": "stderr",
     "output_type": "stream",
     "text": [
      "/Users/aakarshsurendra/anaconda3/lib/python3.11/site-packages/sklearn/feature_extraction/text.py:528: UserWarning: The parameter 'token_pattern' will not be used since 'tokenizer' is not None'\n",
      "  warnings.warn(\n"
     ]
    }
   ],
   "source": [
    "from sklearn.feature_extraction.text import TfidfVectorizer\n",
    "\n",
    "# Complete data (list of article texts)\n",
    "article_texts = dataframe.content\n",
    "\n",
    "# Handling NaN values by replacing them with empty strings\n",
    "article_texts_cleaned = article_texts.fillna('')\n",
    "\n",
    "# Initialize TF-IDF vectorizer\n",
    "tfidf_vectorizer = TfidfVectorizer(tokenizer=preprocess_text_spacy)\n",
    "\n",
    "# Fit and transform the data\n",
    "tfidf_matrix = tfidf_vectorizer.fit_transform(dataframe)\n",
    "\n",
    "#### Exporting the pickle file\n",
    "\n",
    "# Specify the file path where you want to save the TF-IDF matrix\n",
    "file_path = \"tfidf_matrix.pkl\"\n",
    "\n",
    "# Save the TF-IDF matrix to a file\n",
    "with open(file_path, 'wb') as f:\n",
    "    pickle.dump(tfidf_matrix, f)"
   ]
  },
  {
   "cell_type": "markdown",
   "metadata": {
    "tags": []
   },
   "source": [
    "## Load Pickle"
   ]
  },
  {
   "cell_type": "markdown",
   "metadata": {},
   "source": [
    "#### Importing the pickle file - Run this"
   ]
  },
  {
   "cell_type": "code",
   "execution_count": 4,
   "metadata": {
    "tags": []
   },
   "outputs": [],
   "source": [
    "# Specify the file path where the TF-IDF matrix is saved\n",
    "file_path = \"/Users/aakarshsurendra/Desktop/ROAD_NLP/07_pickle_files/tfidf_matrix.pkl\"\n",
    "\n",
    "# Load the TF-IDF matrix from the file\n",
    "with open(file_path, 'rb') as f:\n",
    "    tfidf_matrix = pickle.load(f)"
   ]
  },
  {
   "cell_type": "code",
   "execution_count": 5,
   "metadata": {
    "tags": []
   },
   "outputs": [
    {
     "data": {
      "text/plain": [
       "<50x2083 sparse matrix of type '<class 'numpy.float64'>'\n",
       "\twith 4581 stored elements in Compressed Sparse Row format>"
      ]
     },
     "execution_count": 5,
     "metadata": {},
     "output_type": "execute_result"
    }
   ],
   "source": [
    "tfidf_matrix"
   ]
  },
  {
   "cell_type": "markdown",
   "metadata": {
    "id": "DGXZHl2QZAFu"
   },
   "source": [
    "### Clustering - To remove the unrelated news"
   ]
  },
  {
   "cell_type": "code",
   "execution_count": null,
   "metadata": {
    "id": "jnrC2Gwyk4gZ",
    "tags": []
   },
   "outputs": [],
   "source": [
    "#Model 1\n",
    "from sklearn.cluster import KMeans\n",
    "\n",
    "# Initialize K-means clustering\n",
    "num_clusters = 2  # You can adjust this based on the number of desired clusters\n",
    "# kmeans = KMeans(n_clusters=num_clusters, random_state=42)\n",
    "kmeans = KMeans(n_clusters=num_clusters, init='k-means++', n_init=18, random_state=42)\n",
    "\n",
    "# Fit the clustering model\n",
    "kmeans.fit(tfidf_matrix)\n",
    "\n",
    "# Get the cluster labels\n",
    "cluster_labels = kmeans.labels_"
   ]
  },
  {
   "cell_type": "markdown",
   "metadata": {
    "id": "lxvCb5F2eCE1"
   },
   "source": [
    "### PCA"
   ]
  },
  {
   "cell_type": "code",
   "execution_count": null,
   "metadata": {
    "colab": {
     "base_uri": "https://localhost:8080/",
     "height": 718
    },
    "id": "ConGlL0bi2Wm",
    "outputId": "9c8d8d27-3a26-4e8f-8e65-bb0dae7dd3ab"
   },
   "outputs": [],
   "source": [
    "import numpy as np\n",
    "\n",
    "# Get cluster centers from K-means model\n",
    "cluster_centers = kmeans.cluster_centers_\n",
    "\n",
    "# Visualize clusters with cluster centers\n",
    "plt.figure(figsize=(10, 8))\n",
    "for cluster_label in range(num_clusters):\n",
    "    plt.scatter(tfidf_matrix_2d[cluster_labels == cluster_label, 0],\n",
    "                tfidf_matrix_2d[cluster_labels == cluster_label, 1],\n",
    "                label=f'Cluster {cluster_label}')\n",
    "plt.scatter(cluster_centers[:, 0], cluster_centers[:, 1],\n",
    "            marker='x', color='black', label='Cluster Centers')\n",
    "plt.title('Clustering of News Articles on Road Accidents with Cluster Centers')\n",
    "plt.xlabel('Principal Component 1')\n",
    "plt.ylabel('Principal Component 2')\n",
    "plt.legend()\n",
    "plt.show()\n"
   ]
  },
  {
   "cell_type": "markdown",
   "metadata": {
    "id": "s4gM7Fu6qIbq"
   },
   "source": [
    "### Cluster Extraction, Model Difference and Extracting the Unwanted News Dataset"
   ]
  },
  {
   "cell_type": "code",
   "execution_count": 6,
   "metadata": {
    "colab": {
     "base_uri": "https://localhost:8080/"
    },
    "id": "C2559kcRlGv6",
    "outputId": "d7b87cb7-8829-4db8-d76b-985834486afd",
    "tags": []
   },
   "outputs": [
    {
     "ename": "NameError",
     "evalue": "name 'tfidf_matrix_2d' is not defined",
     "output_type": "error",
     "traceback": [
      "\u001b[0;31m---------------------------------------------------------------------------\u001b[0m",
      "\u001b[0;31mNameError\u001b[0m                                 Traceback (most recent call last)",
      "Cell \u001b[0;32mIn[6], line 1\u001b[0m\n\u001b[0;32m----> 1\u001b[0m Model1_cluster_0_points \u001b[38;5;241m=\u001b[39m [i \u001b[38;5;28;01mfor\u001b[39;00m i \u001b[38;5;129;01min\u001b[39;00m \u001b[38;5;28mrange\u001b[39m(\u001b[38;5;28mlen\u001b[39m(tfidf_matrix_2d)) \u001b[38;5;28;01mif\u001b[39;00m cluster_labels[i] \u001b[38;5;241m==\u001b[39m \u001b[38;5;241m0\u001b[39m]\n\u001b[1;32m      2\u001b[0m Model1_cluster_1_points \u001b[38;5;241m=\u001b[39m [i \u001b[38;5;28;01mfor\u001b[39;00m i \u001b[38;5;129;01min\u001b[39;00m \u001b[38;5;28mrange\u001b[39m(\u001b[38;5;28mlen\u001b[39m(tfidf_matrix_2d)) \u001b[38;5;28;01mif\u001b[39;00m cluster_labels[i] \u001b[38;5;241m==\u001b[39m \u001b[38;5;241m1\u001b[39m]\n",
      "\u001b[0;31mNameError\u001b[0m: name 'tfidf_matrix_2d' is not defined"
     ]
    }
   ],
   "source": [
    "Model1_cluster_0_points = [i for i in range(len(tfidf_matrix_2d)) if cluster_labels[i] == 0]\n",
    "Model1_cluster_1_points = [i for i in range(len(tfidf_matrix_2d)) if cluster_labels[i] == 1]\n",
    "\n",
    "\n",
    "#print(\"Cluster 0 points:\", Model1_cluster_0_points)\n",
    "#print(\"Cluster 1 points:\", Model1_cluster_1_points)"
   ]
  },
  {
   "cell_type": "code",
   "execution_count": 7,
   "metadata": {
    "colab": {
     "base_uri": "https://localhost:8080/"
    },
    "id": "-vWeHBQ9mdF_",
    "outputId": "c2072e5b-3ec7-4b66-8831-b1641d9b661d",
    "tags": []
   },
   "outputs": [
    {
     "ename": "NameError",
     "evalue": "name 'Model1_cluster_0_points' is not defined",
     "output_type": "error",
     "traceback": [
      "\u001b[0;31m---------------------------------------------------------------------------\u001b[0m",
      "\u001b[0;31mNameError\u001b[0m                                 Traceback (most recent call last)",
      "Cell \u001b[0;32mIn[7], line 2\u001b[0m\n\u001b[1;32m      1\u001b[0m \u001b[38;5;28;01mimport\u001b[39;00m \u001b[38;5;21;01mrandom\u001b[39;00m\n\u001b[0;32m----> 2\u001b[0m random_10_elements \u001b[38;5;241m=\u001b[39m random\u001b[38;5;241m.\u001b[39msample(Model1_cluster_0_points, k\u001b[38;5;241m=\u001b[39m\u001b[38;5;241m15\u001b[39m)\n\u001b[1;32m      3\u001b[0m \u001b[38;5;28mprint\u001b[39m(random_10_elements)\n",
      "\u001b[0;31mNameError\u001b[0m: name 'Model1_cluster_0_points' is not defined"
     ]
    }
   ],
   "source": [
    "import random\n",
    "random_10_elements = random.sample(Model1_cluster_0_points, k=15)\n",
    "print(random_10_elements)"
   ]
  },
  {
   "cell_type": "markdown",
   "metadata": {
    "id": "Snd-YgtbqZas"
   },
   "source": [
    "#### Verifying the unwanted news"
   ]
  },
  {
   "cell_type": "code",
   "execution_count": 15,
   "metadata": {
    "id": "noLNgcPAm_66"
   },
   "outputs": [
    {
     "name": "stdout",
     "output_type": "stream",
     "text": [
      "News Article 9750:\n",
      "MADHYAMGRAM: A pleasure trip to Himachal Pradesh’s popular Shimla-Kullu-Manali circuit during Puja ended in tragedy for 10 tourists in Kolkata who met with an accident at Manali on Sunday, four days after they had started the journey together from Madhyamgram’s Nandankanan. The relatives of the 10 tourists from Madhyamgram, among whom a 28-year-old youth died and nine others suffered grievous injuries after their SUV plunged into a 100-metre gorge near Chaudah-Mor between Manali and Rohtang pass on Sunday morning, on Monday caught a flight and boarded a train to bring them back. Family members at the victim’s home in Chandpara The 10-member tourist team — couples Himanish Das(25) and Shampa Das (22) from Madhyamgram and Suman Das (31) and Tuktuki Das (23) from Barasat, and Subho Roy (25), Mithun Biswas (27), Salim Ali (24), Bubai Das (24), Prasanta Das (26) and Biswajit Das (28) from Madhyamgram, Sodepur and Gaighata — had started out on October 16. Gaighata resident Biswajit, who sat in the front seat of the SUV that was serving as their taxi, died on the spot after their driver lost control and the car plunged headlong into a deep gorge. The vehicle was in an accident-prone stretch between Manali and Rohtang Pass. The eight who sustained serious injuries, including multiple fractures, are undergoing treatment at private and government hospitals in Manali. SUV driver Sanju, a resident of Mandi in Himachal Pradesh, was also admitted to hospital with several injuries. Only Prasanta Das escaped unhurt. A pall of gloom descended on Biswajit’s residence and neighbourhood at Dehpool near Gaighata’s Chandpara in North 24-Parganas at the news of his death. While relatives, friends and neighbours were mourning him, his ailing parents were yet to be informed. “Biswajit, a Howrah-based private firm employee had planned the tour with his childhood friends from Madhyamgram nearly four months back and had even bought the train tickets. He was upbeat about their Himachal Pradesh tour, but we never imagined this tragedy would occur. I still can’t believe that he is no more,” said Biplab Roy, Biswajit’s friend. “We haven’t been able to inform his elderly parents yet. His brother and two relatives have boarded a flight to Shimla .” The family members of six others from Madhyamgram are spending anxious hours since they heard the news on Sunday afternoon. “I took my elder brother, Mithun, to Howrah station on the day they had started out. They were supposed to return on October 24, on Laxmi Puja. My brother was also seriously injured. We don’t know how he is. My uncle and brother-in-law have started out for Shimla,” said Milan, Mithun’s brother. Explore Your Financial Landscape with Personalized Credit Insights.\n",
      "\n",
      "News Article 2189:\n",
      "Former Australian cricketer Andrew Symonds died in a road accident. Statement issued by the police suggests his car, which was being driven on Hervey Range Road, left the roadway shortly after 11 pm and rolled. Emergency services tried to rescue the 46-year-old driver, however he died of his injuries. Post his retirement from cricket in February of 2012, the all-rounder cricketer got into sports commentary and broadcasting. He was a renowned face on Fox Sports. The deadly truth about road accidents Approximately 1.3 million people die each year as a result of road traffic crashes. As per data, a total of 4,37,396 road accident cases were reported during 2019 in India alone. The cases have decreased from 4,45,514 in 2018 to 4,37,396 in 2019. However, the fatalities in such accidents have increased by 1.3% (from 1,52,780 in 2018 to 1,54,732 in 2019). The World Report on Road Traffic Injury Prevention, indicates that road traffic accidents are a major killer accounting for half a million deaths and 15 million disability adjusted life years lost. It has been seen that victims of major road accidents in India have a much higher risk of death as compared to developed nations. FILE - Australia's batsman Andrew Symonds bats during the Cricket World Cup final between Australia and Sri Lanka at the Kensington Oval in Bridgetown, Barbados, on April 28, 2007. The former Australian test cricketer was killed in an auto crash near Townsville in northeast Australia on Saturday night, May 14, 2022, Cricket Australia said. He was 46. (AP Photo/Themba Hadebe, File) The golden hour Dr Kaushal Malhan, Director-Orthopedics and Joint Replacement, Fortis Hospital, Mulund stresses on the significance of the golden hour. “Accident victims deteriorate quickly after injury, delay in treatment has shown to significantly increase mortality. The first 60 minutes, also called the ‘Golden Hour’ is crucial and affects chances of survival for trauma victims. The golden hour rule can be summarized by the ‘3R rule of getting the right patient to the right place at the right time’. The role of good and swift emergency medical transport with trained paramedics or medics cannot be over emphasized. This is because appropriate trauma-centers may not always be nearby and the medical team can provide trauma care at the scene and on-route to hospital.” How can you help? Emergency medical transport may not always be available on time and therefore the community at large along with Police, Fire Fighters etc., should be trained to provide on-site first aid. This is based on the principles of ATLS-Advanced Trauma Life Support. The primary role is to cause no harm and call for help. Emergency on-site care by lay public should follow the following protocol: A-Airway maintenance with cervical spine protection - Check if there is any removable obstruction to breathing. Prevent aspiration by correct positioning. Avoid moving the neck and stabilize it in place using some supporting object on either side. Do not forcibly remove a helmet and cause unnecessary neck movement B-Breathing and ventilation – Give oxygen if available and mouth to mouth resuscitation for victims who are not breathing in spite of a clear airway C-Circulation with hemorrhage control - provide external cardiac massage in pulseless patients. Stop bleeding by applying direct pressure on bleeding area, apply splint to broken limbs D-Disability - Gross assessment of state of consciousness, power and sensation in the limbs will be useful later to decide about progress and clinical worsening E-Exposure - Cover the patient and protect them from cold and transfer safely without unnecessary movement\n",
      "\n",
      "News Article 686:\n",
      "MUMBAI: A man, identified as Mohammed Sarfaraz Shaikh , has been booked by the Mumbai police following an accident at a toll plaza towards Bandra resulting in three deaths. Mumbai's fatal multiple-car crash on Bandra-Worli Sea Link Late on Thursday night, a speeding car, reportedly coming from Worli, collided with six parked vehicles at the toll plaza. The victims included two women, and 12 people were injured, three of whom are in critical condition. The police have registered a case against the car driver under Section 304 (2) of the Indian Penal Code . Zone 9 DCP Krishnakant Upadhyay provided details, stating that around 10:15 pm on Thursday, the vehicle was heading north from Worli towards Bandra. Approximately 100 meters before the toll plaza on the sea link , it collided with a vehicle, then accelerated and collided with 2-3 more vehicles at the toll plaza, impacting a total of six vehicles. The investigation is ongoing, and further details on the incident are awaited. (With agency inputs) Explore Your Financial Landscape with Personalized Credit Insights.\n",
      "\n",
      "News Article 7249:\n",
      "NEW DELHI: The sudden push for electric vehicles from the government along with Tesla CEO Elon Musk giving hopes to Indians about a possible launch of the first Tesla car in the country as early next year raises one question -- is it possible for India to have self-driving cars soon as well? The arrival of 5G in the next couple of years would definitely boost the chances but can India support self-driving cars with the existing infrastructure. Sanjay Gupta, vice president and country manager, India, NXP Semiconductors in an interaction with The Times of India-Gadgets Now feels that the question that needs to be asked is whether India needs self-driving cars or not. “Before asking whether our existing roads and infrastructure is capable of handling of self-driving cars, one should ask the purpose. Of course, no one can deny the usefulness of self-driving cars but at the same time the adoption of self-driving cars in India will be in small case purpose driven,” said Gupta. Sanjay Gupta, vice president and country manager, India, NXP Semiconductors. For those unaware, NXP is a global semiconductor company with its centres in Delhi, Noida, Bengaluru, Hyderabad and Pune. The company supplies chips and other hardware for leading car makers in India including Maruti and Tata Motors. As far as the feasibility is concerned, in a controlled environment of a campus or factory, the private companies can actually look at adopting self-driving cars much faster but it is too early to expect the government to start making arrangements for self-driving cars in India right now. “We would need dedicated lanes for self-driving cars only, which is not possible right now,” added Gupta while emphasizing the lack of lane discipline among Indian drivers. “The reality is we already have certain ‘self-driving features’ in top-end cars in India already in the form of Cruise Control, Advanced Automatic Collision system, Lane assist, Parking assist, etc. These systems are already working fine in luxury cars with the existing infrastructure in India. However, moving beyond hype of self-driving cars, the real purpose these automated systems serve is the fact that it makes driving safe. So, the next big innovation for the automobile segment in India should be focused on enhancing safety for the person inside the car and also for others on the road,” he said. Talking about road safety, certain features like anti-lock braking system (ABS), Electronic brakeforce distribution (EBD), airbags and seat belts are slowing becoming a standard. “These safety features are, of course, a necessity and it is good news that most car makers are slowly offering them across all variants. But when it comes to computer-assisted safety features, car makers are still reserving Advanced Driver-Assistance Systems (ADAS) for top-end cars only,” said Gupta. “The transition to self-driving cars will not happen suddenly in India. It will happen in phases as and when required. But if road safety is the primary motivating factor to embrace self-driving cars, then the government should look at making ADAS mandatory in all cars. The technology is already there and it doesn’t require any new investments from the government. Like seat belts, the government should think of making ADAS mandatory in all cars,” he added. ADAS helps drivers avoid accidents made due to human error. It provides crash avoidance, satellite traffic warning, lane departure warning, alert of blind spots, etc. “If ADAS is made mandatory, every car will talk to each other automatically to control speed and turns making it safer to travel on the road. Having ADAS as standard, would be the first major step for getting self-driving cars on Indian roads,” he added. Explore Your Financial Landscape with Personalized Credit Insights.\n",
      "\n",
      "News Article 2810:\n",
      "Mangaluru: MLA and deputy leader of opposition in assembly, U T Khader , had a miraculous escape after the SUV he was travelling in developed a technical glitch in the brake system on Friday. Khader’s PA Mohammed Libzeth , who was driving the car, said though he initially lost control over the wheels due to the brake failure, he managed to stop the vehicle without causing injuries to anyone in the vehicle. Later, the MLA continued his journey in another vehicle and attended a programme as planned. Libzeth said the former minister and others in the car were heading towards Mangaluru city for a programme along with party workers. “I could manage to control the vehicle soon after realizing the brake failure. The MLA was on his way to Mangaluru city after participating in a programme in his constituency. A technical glitch in the brake system was noticed when the car reached Padil,” Libzeth said, adding he changed the gear and pulled the hand-brake to slow down the car and stop it. The car was sent to a showroom for service, he added. Explore Your Financial Landscape with Personalized Credit Insights.\n",
      "\n",
      "News Article 2411:\n",
      "MUMBAI: Thane resident Saiyog Pawar died Monday after a tree branch, hit by an excavator, fell on the front portion of the his car roof and windshield of the car while he was waiting at a signal near the Mahalaxmi Racecourse . Pawar, a resident of Padwal Nagar in Wagle Estate, was rushed to Nair hospital, where he was declared brought dead. \"The arm of the excavator hit the branch of the tree, as it was in a lifted position. As per rules, the arm had to be in a horizontal position. Had it been in the horizontal position, it would not have hit the branches of the tree. The driver of the excavator was said to be moving fast and driving close to the kerb when it halted ahead of the car and its arm hit the branch of the tree. The excavator was moving from Mahalakshmi towards Prabhadevi and would have hit some cables or some overhead structures with the arm in that position,\" said Avinash Yadav, assistant superintendent of gardens, G-South ward. BMC officials said the car was hired by a BMC department and Pawar had dropped a BMC official at the civic headquarters at CSMT and was returning to the municipal engineering hub on the Dr E Moses Road in Worli when the mishap took place. Pawar worked as a driver and was unmarried. He is survived by a 'divyang' brother and a father, who drives a taxi. Pawar lost his mother last year, said a friend. The police were in the process of registering a first information report late on Monday. A policeman will be the complainant in the case, said a source. The police said they will invoke Section 304A (causing death by negligence) of the IPC against the excavator driver. \"The excavator collided with a tree and the tree's branch fell on the car,\" said Vivek Shende, senior inspector of the Tardeo police station. The excavator belonged to MS Enterprises, a civil contractor and stone aggregates supplier based in Turbhe. (With inputs from Manoj Badgeri and Mateen Hafeez) Explore Your Financial Landscape with Personalized Credit Insights.\n",
      "\n",
      "News Article 6549:\n",
      "MIAMI: Former US President Donald Trump predicted that Tiger Woods , his occasional golfing partner, will recover from severe injuries suffered in a Tuesday car crash and return to the PGA Tour. \"He will be back. I have no doubt about it. He will be back,\" Trump told Fox News on Tuesday. Woods received a Presidential Medal of Freedom from Trump in 2019 just weeks after winning the Masters for his 15th major title and the first since the 2008 US Open. \"This is very tragic,\" Trump said. \"He made a lot of progress from that day and then this has to happen. \"He has overcome a lot, but he has had an incredible life and he's going to continue to have an incredible life. He will recover from this and it's pretty bad on the legs I understand. He will figure a way. He's a wonderful person.\" Woods also earned the praise of another former president and golfing partner, Barack Obama , who tweeted his support to the 45-year-old golf legend. \"Sending my prayers to @TigerWoods and his family tonight -- here's to a speedy recovery for the GOAT (Greatest of all Time) of golf. If we've learned anything over the years, it's to never count Tiger out.\" Woods overcame four back operations to make a comeback that culminated with the 2019 Masters victory and his most recent win at the 2019 Zozo Championship in Japan -- a victory that matched him with Sam Snead on an all-time record 82 career US PGA wins. Trump noted how golf events draw much higher television ratings when Woods is playing. \"All I say is get better and get out there, because we all miss him. We need Tiger,\" Trump said. \"It's very few people that cause that kind of a phenomenon.\" Explore Your Financial Landscape with Personalized Credit Insights.\n",
      "\n",
      "News Article 1813:\n",
      "Actress Yashika Aannand , who had gotten into a car accident last year that claimed the life of her friend, hit back at a troll for insinuating that she was drunk behind the wheel when the mishap happened. The Dhuruvangal Pathinaaru actress had started an AMA on her Twitter handle on March 30, asking followers to ask her anything. \"#askyashika anything 😍😋,\" she had posted. Many fans had replied with questions over her current health status post the accident and the usual ones like asking her about what she thought of their favourite star. \"Hi vanakkam! I’m doing pretty better now . Recovering and getting Stronger with your blessings 🙏🤍 hope u doing good too !,\" she had replied to one of the fans. However, one user quizzed her about the status of her accident case, claiming that it was a drunk and drive episode, and asked her how she felt about \"killing\" her friend. \"What is the status of that drink and drive accident case?? How you feel after killing your friend?\" asked a user, whose handle name was Indian Stock . The actress, understandably, was miffed with the rudeness of the query, and shot back, \"it's not a *drink* n drive. As i was unconscious when I was taken to apollo hospital. N reports also claim to confirm that i wasn't drunk. Before judging anything without any proper information don't spread rumours. Wish dint have these fractures n could hv gone instead.\" However, the actress latter deleted the tweet and also stopped replying to the #askyashika posts.\n",
      "\n",
      "News Article 2069:\n",
      "CHANDIGARH: The clamour against cow vigilantes reached the Haryana legislative assembly on Wednesday. On the second day of the assembly’s ongoing budget session, two MLAs of the Congress, Mamman Khan and Mohammad Iliyas, said more incidents, like the one in which two men from Rajasthan were killed in Bhiwani recently, had occurred in Mewat in the past. Khan is the MLA from Ferozepur Jhirka, while Iliyas represents Punahana. They claimed that a youth from Mewat had died because of cow vigilantism in the past, but his death had been passed off as accidental. Taking note of their allegations, raised during zero hour, deputy chief minister Dushyant Chautala announced a probe by IG of Rewari into Mewat youth’s death. Dushyant’s announcement came after Khan went to the extent of claiming that the BJP-JJP government was patronising criminals who were terrorising and torturing minorities in Mewat district. The youth whose death was raised by Khan and Iliyas was Waris, who died in January. Waris and his two friends, claimed the Congress MLAs, were kidnapped by a group led by a cow vigilante and a BJP worker from Manesar. It has been alleged that the group took the three youths to a gaushala where they torturued them. Initially, they tortured them in car and then at a gaushala. While Waris died, his friends survived, said the MLAs. “That a PCR vehicle had gone to the gaushala twice is a matter of record. According to family, they got a call from the police station that Waris had died in a road accident . The parents lodged a complaint. They showed the viral video, but no case has been registered. The cops too should be booked,” said Khan. Khan gave two more examples where youth were terrorized in March and August last year. He said police had instead filed cases against villagers who protested against such incidents. “The government is recklessly issuing arms licences to such goons. They used a vehicle of the panchayat department to kidnap the youth. Incidents of gau rakshaks (cow vigilantes) terrorising and harassing women going to the fields in areas around Mewat is quite common,” said Khan. Explore Your Financial Landscape with Personalized Credit Insights.\n",
      "\n",
      "News Article 1031:\n",
      "GHAZIABAD : The accident that killed six persons of a family on the Delhi-Meerut Expressway on Tuesday morning renewed questions on the lack of vigil on the speedway, where vehicles are allowed to hit a maximum speed of 100kmph. Driving on the wrong side to save a few minutes and litres of fuel and illegal parking are the key traffic violations on DME and NH-9, which run parallelly. On Tuesday, too, the bus that crashed into the car had travelled for almost 8km on the wrong side, but there was no one on the entire stretch to stop the errant driver. The lack of vigil is also evident from the number of accidents on the expressway. This year, till June 30, there were 37 accidents on the DME. A total of 28 people died and 27 were injured in these crashes. In comparison, 102 people died and 122 were injured in 166 accidents on the DME and Eastern Peripheral Expressway through last year. Indirapuram resident Ashutosh Mishra, who uses the DME frequently, said there were a few points on the stretch between Lal Kuan and UP Gate where wrong-side driving was rampant. “You’ll hardly find any cop on the entire DME stretch,” he added. Opened in April 2021, the 60km expressway connects Delhi’s Sarai Kale Khan with Meerut. Over 40km of the speedway is in Ghaziabad. Although the National Highways Authority of India (NHAI) has installed cameras on the stretch, they can only detect vehicles if they breach the speed limit. Ramanand Kushwaha, additional DCP (traffic) in Ghaziabad, said it was not easy to stop vehicles cruising at 100kmph on the DME. “You tell me, is it possible? However, we have a team of around 40 policemen to issue challans to offenders on the expressway.” Apart from wrong-side driving, parking of vehicles along the expressway is another cause for concern. Often, people behind the wheel for hours at a stretch stop their vehicles on one side of the DME to take a break. Drivers are not allowed to stop vehicles anywhere on the expressway. Tuesday’s accident triggered a blame game between the traffic police and NHAI. “We have often asked NHAI to allow us to monitor the footage of cameras installed on DME, but to no avail. If we have access to live footage, we can stop such violations. In December last year, NHAI had decided to install 232 cameras on DME, NH-9 and underpasses in the city. But they are yet to do it,” a police officer said. NHAI, on the other hand, blamed the lack of vigil by traffic cops. “We take every step to ensure a comfortable journey on the DME. But the onus of enforcing traffic rules is on cops from Delhi, Noida and Ghaziabad,” said Arvind Prasad, project director at NHAI. Explore Your Financial Landscape with Personalized Credit Insights.\n",
      "\n",
      "News Article 426:\n",
      "HYDERABAD: A day after booking a criminal case against Raheel Aamir , son of former Bodhan MLA Mohammed Shakeel Aamir of BRS, after he rammed his luxury car into the road divider outside Praja Bhavan in Begumpet early on Sunday, police found out that Raheel had left for Dubai via Mumbai on the same day to be with his father. A look-out circular (LOC) was issued against Raheel. Taking a serious view of the incident, Hyderabad police commissioner K Sreenivasa Reddy on Tuesday suspended Punjagutta inspector B Durga Rao for allegedly aiding Raheel in 'escaping' from the police station. \"Durga Rao has been suspended for false implication of another person instead of former Bodhan MLA Shakil Aamir's son for his involvement in a road accident in Punjagutta,\" the CP said. Police found out that after leaving the Punjagutta police station, Raheel went to Mumbai and from there to Dubai. \"Raheel's father Shakeel Aamir is in the UAE and Raheel went there on Sunday night,\" said a police source. An inquiry has been ordered into the incident to see if Raheel was deliberately set free by Punjagutta police before a breath analyser test could be performed on him. A source said the inquiry is still going on. Raheel and his driver have been made accused in the case. It is still not clear if Raheel was in an inebriated condition at the time of accident. At around 2.45 am on Sunday, a BMW driven by Raheel rammed the divider near Praja Bhavan. Immediately after the accident, he along with his three friends who were in the car escaped from the spot, leaving the car behind. \"Some time later, a person came to the spot to take the abandoned car and claimed that it was he who was at the wheel at the time of the accident. But when his claim was verified through CCTV footage, it turned out to be false. We found that he was an impersonator. It was Raheel who was driving the car. Fortunately, no one suffered injuries,\" said DCP (west zone) SM Vijay Kumar. Meanwhile, Durga Rao reportedly fell ill at the police station due to high blood pressure and was taken to a private hospital for treatment. Explore Your Financial Landscape with Personalized Credit Insights.\n",
      "\n",
      "News Article 579:\n",
      "In the heart of the film industry, a somber cloud looms as the world mourns the untimely demise of Taraja Ramsess . He was a revered stuntman whose remarkable work has left an indelible mark on the sets of iconic films such as ‘Avengers: Endgame’ and ‘Black Panther.’ Tragically, Ramsess and his two daughters, Sundari and Fujibo, met with a fatal accident in Atlanta on October 31, leaving a void that can never be filled. Taraja Ramsess, a name that resonates throughout Hollywood, was not merely a Border Tribe Warrior in ‘Avengers: Infinity War,’ but an incredibly versatile talent renowned for his prowess as a stunt performer. His exceptional skills were a cornerstone of countless productions across the Marvel and DC universes, contributing significantly to the success of numerous television shows and blockbuster movies. Ramsess' illustrious career was marked by an array of accomplishments, ranging from awe-inspiring stunts to his contributions as a set dresser and stunt double. His diverse portfolio includes involvement in series like ‘She-Hulk: Attorney at Law’ and movies such as ‘The Suicide Squad,’ underlining his far-reaching influence on the superhero genre. Justin Bieber gets bashed by netizens for sharing a picture of Gaza Strip and writing ‘Praying for Israel’ – ‘Celebs have no idea’ In the wake of this tragic loss, Taraja Ramsess' mother, Akili Ramsess, shared a tribute on her Instagram, painting a picture of her son's life brimming with passion. From his unwavering dedication to his family to his profound love for martial arts and the art of filmmaking, Taraja Ramsess was a man who poured his heart into every aspect of his life. He was known for his infectious sense of humor and an enduring devotion to his children, leaving a lasting impression on all who had the privilege of knowing him. Ava DuVernay, a distinguished filmmaker who had the honor of working alongside Ramsess, paid tribute to his memory, emphasizing his unwavering character and his boundless enthusiasm in contributing to the creative process. Taraja Ramsess' leadership and vibrant spirit reverberated within the industry, touching the lives of countless colleagues. In the wake of Taraja Ramsess' untimely departure, the film industry stands united in remembering the man behind the extraordinary stunts and cinematic magic, ensuring that his legacy lives on in the hearts and minds of all who were touched by his extraordinary talent and spirit. ‘Avengers: Endgame’ ‘Avengers: Endgame’ is a 2019 American superhero epic that draws its inspiration from the Marvel Comics superhero team known as the Avengers. It is a Marvel Studios production and serves as the direct sequel to its predecessor, ‘Avengers: Infinity War,’ and is the 22nd installment in the Marvel Cinematic Universe (MCU). Directed with finesse by Anthony and Joe Russo , and penned by the accomplished duo of Christopher Markus and Stephen McFeely , ‘Endgame’ intricately weaves together various storylines from preceding films within the Marvel Cinematic Universe, crafting a masterpiece that left an indelible mark on the world of cinema.\n",
      "\n",
      "News Article 5585:\n",
      "This place is becoming a dangerous place for vehicles due to parking of cars to buy plants on Hans bhugra, Kalina, opposite fire office Explore Your Financial Landscape with Personalized Credit Insights.\n",
      "\n",
      "News Article 962:\n",
      "NEW DELHI: Former England cricket captain Andrew \"Freddie\" Flintoff has made his first public statement since his hospitalization following an accident during the filming of the popular motoring show \" Top Gear .\" In a video shared by the England Cricket team on social media, Flintoff was seen presenting an England cap to current spin bowler Tom Hartley in recognition of his debut performance last month. During his speech, Flintoff expressed gratitude for the support he received following the December 2022 accident. The incident had left Flintoff with reported broken ribs and facial injuries, and nine months later, he still bears visible facial cuts and scars as a result. \"This cap changes your life. It's one of those things. It's before and after it,\" said an emotional Flintoff while addressing Hartley. \"This enables you to walk tall and move faster. Play with passion, play with pride, play with belief. And also, (be) part of a family of people. They'll share the good times with you, the successes. But, as I found over the past few months, they'll be there in the hardest times of your life; they will stand next to you.\" Flintoff has maintained a relatively low profile since the accident, with a rare public appearance during England's opening one-day international against New Zealand in September. In recent months, he began working casually with the England coaching staff. Retiring from all forms of cricket in 2010 at the age of 32 due to a persistent knee injury, Flintoff's cricket career was highlighted by leading England to victory in the Ashes in 2005, ending Australia's 18-year dominance. After retirement, Flintoff transitioned into the media, becoming a co-host of \"Top Gear\" in 2019. His association with the show has been marred by incidents, including a 2020 crash into a market stall while filming, where he escaped without injuries. In March of this year, the BBC suspended production on the latest \"Top Gear\" series as part of an investigation into Flintoff's December 2022 accident. Notably, Flintoff is not the sole \"Top Gear\" host to have experienced a high-speed crash while filming for the show. In 2006, Richard Hammond was involved in a severe accident when he crashed a Vampire jet car at a speed of 288 miles per hour. Hammond endured a two-week coma and sustained severe head injuries but ultimately recovered and returned to the series. Explore Your Financial Landscape with Personalized Credit Insights.\n",
      "\n",
      "News Article 9120:\n",
      "Car insurance is a contract between you (the car owner) and the insurance company that offers you cover against financial losses in case of a vehicle’s accident or theft. In return for the premium paid, the insurance company agrees to pay your losses as outlined in your policy. Car insurance offers coverage for: Property – such as damage to or theft of your car Medical – the cost of treating injuries, rehabilitation and sometimes lost wages and funeral expenses Liability – your legal responsibility to others for bodily injury or property damage Benefits of getting a car insurance: Car insurance offers you protection against the following situations: Coverage against loss/damage to the vehicle insured Accident cover Coverage against damage/loss caused by theft, fire, self-ignition, accident, strikes, accidents, lightning, terrorism and natural calamities Coverage against financial liability caused by death/injury of a third party What to compare before getting a car insurance Since there are a number of insurance policies in the market, it is always advised to compare all the policies available and go for the one that best suits your requirements. These are some of the things that you must compare before getting car insurance: Requirement of your coverage - Before opting for any car insurance, it is a mandate that you thoroughly compare and take a note of the various benefits and kind of coverage the policy offers. Compare the coverage option - The coverage that is given in all the policies varies from the comprehensive policy. The limit of the plan differs from plan to plan. Compare the Insured Declared Value - Insured Declared Value (IDV) is the current market value of the vehicle minus the depreciation on its parts. The different rate of IDV’s reflects different rates of premium. The rate of depreciation depends on the age of your car, meaning older the car, higher the depreciation and lower the IDV. Compare the Insurer’s Claim Settlement Practice - Every person who has an insurance policy expects a hassle-free claim process and smooth investment method the insurer plans to invest in. Each insurance company has their own procedure, thus it is important to compare all the protocols before settling the insurance plan.\n",
      "\n"
     ]
    }
   ],
   "source": [
    "import random\n",
    "\n",
    "for index in random_10_elements:\n",
    "    news_article = dataframe.loc[index, 'content']\n",
    "    print(f\"News Article {index}:\\n{news_article}\\n\")"
   ]
  },
  {
   "cell_type": "markdown",
   "metadata": {
    "id": "Yt1VivcErEek"
   },
   "source": [
    "#### EXTRACT THE STAGE I FILTERNED NEWS"
   ]
  },
  {
   "cell_type": "code",
   "execution_count": 60,
   "metadata": {
    "id": "w-PphspyrEOs"
   },
   "outputs": [],
   "source": [
    "#Filtered Dataset from Stage I Clustering\n",
    "filtered_dataset_1 = dataframe.drop(Model1_cluster_0_points)\n",
    "\n",
    "# Reset the index of the new DataFrame\n",
    "filtered_dataset_1.reset_index(drop=True, inplace=True)"
   ]
  },
  {
   "cell_type": "code",
   "execution_count": 61,
   "metadata": {},
   "outputs": [],
   "source": [
    "filtered_dataset_1.to_csv('Filtered_News_1.csv', index = False)"
   ]
  },
  {
   "cell_type": "markdown",
   "metadata": {},
   "source": [
    "#### EXTRACT THE UNWANTED NEWS TO FEED TO STAGE II CLUSTERING"
   ]
  },
  {
   "cell_type": "code",
   "execution_count": 17,
   "metadata": {},
   "outputs": [],
   "source": [
    "unwanted_news_stage1 = dataframe.drop(Model1_cluster_1_points)\n",
    "unwanted_news_stage_1.to_csv('Unwanted_News.csv', index = False)"
   ]
  },
  {
   "cell_type": "markdown",
   "metadata": {
    "tags": []
   },
   "source": [
    "# STAGE II CLUSTERING"
   ]
  },
  {
   "cell_type": "markdown",
   "metadata": {
    "jp-MarkdownHeadingCollapsed": true,
    "tags": []
   },
   "source": [
    "## DO NOT RUN"
   ]
  },
  {
   "cell_type": "markdown",
   "metadata": {},
   "source": [
    "#### Vectorize the Unwanted News"
   ]
  },
  {
   "cell_type": "code",
   "execution_count": 19,
   "metadata": {},
   "outputs": [
    {
     "name": "stderr",
     "output_type": "stream",
     "text": [
      "/Users/aakarshsurendra/anaconda3/lib/python3.11/site-packages/sklearn/feature_extraction/text.py:528: UserWarning: The parameter 'token_pattern' will not be used since 'tokenizer' is not None'\n",
      "  warnings.warn(\n"
     ]
    }
   ],
   "source": [
    "from sklearn.feature_extraction.text import TfidfVectorizer\n",
    "# Complete data (list of article texts)\n",
    "article_texts = unwanted_news.content\n",
    "\n",
    "# Handling NaN values by replacing them with empty strings\n",
    "unwanted_article_texts_cleaned = article_texts.fillna('')\n",
    "\n",
    "# Initialize TF-IDF vectorizer\n",
    "unwanted_tfidf_vectorizer = TfidfVectorizer(tokenizer=preprocess_text_spacy)\n",
    "\n",
    "# Fit and transform the data\n",
    "unwanted_tfidf_matrix = unwanted_tfidf_vectorizer.fit_transform(unwanted_article_texts_cleaned)"
   ]
  },
  {
   "cell_type": "markdown",
   "metadata": {},
   "source": [
    "#### Exporting the pickle file - DO NOT RUN THIS"
   ]
  },
  {
   "cell_type": "code",
   "execution_count": 22,
   "metadata": {},
   "outputs": [],
   "source": [
    "import pickle\n",
    "\n",
    "# Specify the file path where you want to save the TF-IDF matrix\n",
    "file_path = \"unwanted_tfidf_matrix.pkl\"\n",
    "\n",
    "# Save the TF-IDF matrix to a file\n",
    "with open(file_path, 'wb') as f:\n",
    "    pickle.dump(unwanted_tfidf_matrix, f)"
   ]
  },
  {
   "cell_type": "markdown",
   "metadata": {
    "tags": []
   },
   "source": [
    "## Importing the pickle file - RUN THIS"
   ]
  },
  {
   "cell_type": "code",
   "execution_count": 5,
   "metadata": {
    "tags": []
   },
   "outputs": [],
   "source": [
    "import pickle\n",
    "\n",
    "unwanted_news = pd.read_csv('unwanted_News.csv')\n",
    "# Specify the file path where the TF-IDF matrix is saved\n",
    "file_path = \"unwanted_tfidf_matrix.pkl\"\n",
    "\n",
    "# Load the TF-IDF matrix from the file\n",
    "with open(file_path, 'rb') as f:\n",
    "    unwanted_tfidf_matrix = pickle.load(f)"
   ]
  },
  {
   "cell_type": "markdown",
   "metadata": {},
   "source": [
    "#### Clustering the unwanted news for clusters"
   ]
  },
  {
   "cell_type": "code",
   "execution_count": null,
   "metadata": {
    "tags": []
   },
   "outputs": [],
   "source": [
    "from sklearn.cluster import KMeans\n",
    "\n",
    "# Initialize K-means clustering\n",
    "num_clusters = 2  # You can adjust this based on the number of desired clusters\n",
    "# kmeans = KMeans(n_clusters=num_clusters, random_state=42)\n",
    "kmeans = KMeans(n_clusters=num_clusters, init='k-means++', n_init=15, random_state=42)\n",
    "\n",
    "# Fit the clustering model\n",
    "kmeans.fit(unwanted_tfidf_matrix)\n",
    "\n",
    "# Get the cluster labels\n",
    "cluster_labels = kmeans.labels_"
   ]
  },
  {
   "cell_type": "code",
   "execution_count": 7,
   "metadata": {
    "tags": []
   },
   "outputs": [],
   "source": [
    "import matplotlib.pyplot as plt\n",
    "from sklearn.decomposition import PCA\n",
    "\n",
    "# Reduce dimensionality to 2 dimensions using PCA\n",
    "pca = PCA(n_components=2)\n",
    "tfidf_matrix_2d = pca.fit_transform(unwanted_tfidf_matrix.toarray())\n"
   ]
  },
  {
   "cell_type": "code",
   "execution_count": 8,
   "metadata": {
    "tags": []
   },
   "outputs": [
    {
     "ename": "NameError",
     "evalue": "name 'cluster_labels' is not defined",
     "output_type": "error",
     "traceback": [
      "\u001b[0;31m---------------------------------------------------------------------------\u001b[0m",
      "\u001b[0;31mNameError\u001b[0m                                 Traceback (most recent call last)",
      "Cell \u001b[0;32mIn[8], line 8\u001b[0m\n\u001b[1;32m      5\u001b[0m unwanted_cluster_0_points \u001b[38;5;241m=\u001b[39m []\n\u001b[1;32m      6\u001b[0m unwanted_cluster_1_points \u001b[38;5;241m=\u001b[39m []\n\u001b[0;32m----> 8\u001b[0m unwanted_cluster_0_points \u001b[38;5;241m=\u001b[39m [index \u001b[38;5;28;01mfor\u001b[39;00m index \u001b[38;5;129;01min\u001b[39;00m np\u001b[38;5;241m.\u001b[39mwhere(cluster_labels \u001b[38;5;241m==\u001b[39m \u001b[38;5;241m0\u001b[39m)[\u001b[38;5;241m0\u001b[39m] \u001b[38;5;28;01mif\u001b[39;00m index \u001b[38;5;129;01min\u001b[39;00m unwanted_news\u001b[38;5;241m.\u001b[39mindex]\n\u001b[1;32m      9\u001b[0m unwanted_cluster_1_points \u001b[38;5;241m=\u001b[39m [index \u001b[38;5;28;01mfor\u001b[39;00m index \u001b[38;5;129;01min\u001b[39;00m np\u001b[38;5;241m.\u001b[39mwhere(cluster_labels \u001b[38;5;241m==\u001b[39m \u001b[38;5;241m1\u001b[39m)[\u001b[38;5;241m0\u001b[39m] \u001b[38;5;28;01mif\u001b[39;00m index \u001b[38;5;129;01min\u001b[39;00m unwanted_news\u001b[38;5;241m.\u001b[39mindex]\n\u001b[1;32m     12\u001b[0m \u001b[38;5;66;03m# Get cluster centers from K-means model\u001b[39;00m\n",
      "\u001b[0;31mNameError\u001b[0m: name 'cluster_labels' is not defined"
     ]
    }
   ],
   "source": [
    "import numpy as np\n",
    "import matplotlib.pyplot as plt\n",
    "\n",
    "# Initialize lists to store indexes for each cluster\n",
    "unwanted_cluster_0_points = []\n",
    "unwanted_cluster_1_points = []\n",
    "\n",
    "unwanted_cluster_0_points = [index for index in np.where(cluster_labels == 0)[0] if index in unwanted_news.index]\n",
    "unwanted_cluster_1_points = [index for index in np.where(cluster_labels == 1)[0] if index in unwanted_news.index]\n",
    "\n",
    "\n",
    "# Get cluster centers from K-means model\n",
    "cluster_centers = kmeans.cluster_centers_\n",
    "\n",
    "# Visualize clusters with cluster centers\n",
    "plt.figure(figsize=(10, 8))\n",
    "for cluster_label in range(num_clusters):\n",
    "    cluster_indices = np.where(cluster_labels == cluster_label)[0]  # Get indices of data points in this cluster\n",
    "    if cluster_label == 0:\n",
    "        unwanted_cluster_0_points.extend(cluster_indices)  # Append indices to unwanted cluster 0 list\n",
    "    elif cluster_label == 1:\n",
    "        unwanted_cluster_1_points.extend(cluster_indices)  # Append indices to unwanted cluster 1 list\n",
    "    \n",
    "    plt.scatter(tfidf_matrix_2d[cluster_indices, 0],\n",
    "                tfidf_matrix_2d[cluster_indices, 1],\n",
    "                label=f'Cluster {cluster_label}')\n",
    "    # Add labels to each point\n",
    "    for i in range(len(tfidf_matrix_2d)):\n",
    "        plt.text(tfidf_matrix_2d[i, 0], tfidf_matrix_2d[i, 1], str(i), fontsize=8)\n",
    "\n",
    "plt.scatter(cluster_centers[:, 0], cluster_centers[:, 1],\n",
    "            marker='x', color='black', label='Cluster Centers')\n",
    "plt.title('Clustering of News Articles on Road Accidents with Cluster Centers')\n",
    "plt.xlabel('Principal Component 1')\n",
    "plt.ylabel('Principal Component 2')\n",
    "plt.legend()\n",
    "plt.show()\n",
    "\n",
    "# Now you can use unwanted_cluster_0_points and unwanted_cluster_1_points to access the indexes of data points in each cluster"
   ]
  },
  {
   "cell_type": "code",
   "execution_count": 83,
   "metadata": {
    "tags": []
   },
   "outputs": [
    {
     "name": "stdout",
     "output_type": "stream",
     "text": [
      "[3212, 1025, 342, 1707, 3208, 673, 496, 2980, 2479, 464, 1775, 1468, 900, 1516, 563]\n"
     ]
    }
   ],
   "source": [
    "import random\n",
    "random_10_elements = random.sample(unwanted_cluster_1_points, k=15)\n",
    "print(random_10_elements)"
   ]
  },
  {
   "cell_type": "code",
   "execution_count": 84,
   "metadata": {
    "tags": []
   },
   "outputs": [
    {
     "name": "stdout",
     "output_type": "stream",
     "text": [
      "News Article 3212:\n",
      "GUNTUR: In a humanitarian gesture, assembly speaker Dr Kodela Sivaprasada Rao rushed a road accident victim to the hospital by cancelling his official programmes on Tuesday night. Kodela, himself a surgeon by profession extended the first-aid at the accident spot before shifting the victim to the hospital. According to information, a shepherd Vemula Srinivasa Rao was severely injured when an unknown vehicle hit him and sheep near Issappalem village of Narasaraopet mandal. Assembly speaker Dr Kodela Sivaprasada Rao noticed Rao laying in a pool of blood while on his way to attend programmes in the mandal. The speaker immediately brought his convoy to the halt and rushed to the victim. He personally checked the pulse of the victim and shifted him into his staff car. He directed his staff to rush Rao to government hospital at Narasaraopet. Soon, Dr Kodela visited the hospital and directed the doctors to provide best medical care to shepherd Srinivasa Rao . Upon learning that the condition of Rao was deteriorating, the speaker directed the doctors to immediately shift the victim to the Government General Hospital (GGH), Guntur. He spoke to the GGH superintendent Dr DS Raju Naidu over-phone and instructed him to keep the experts ready to tackle case. Dr Kodela interacted with the family members of shepherd Rao who is native of Rupenaguntla village of Nakirekallu mandal and assured them of all support. The speaker had also instructed the local police to track the vehicle which hit the shepherd and ran away from the spot. He asked his personal staff to summon the veterinary staff to the spot and extend medical aid to the injured animals as five sheep were also injured in the incident. Later addressing a meeting of self-help groups in shadikhana in the town, Dr Kodela advised women to make use of the government schemes. He distributed cheques worth Rs 29.76 crore to about 2565 self-help groups in Narasaraopet and Rompicherla mandals. He said that any scheme could be successful only with the empowerment of the women. Explore Your Financial Landscape with Personalized Credit Insights.\n",
      "\n",
      "News Article 1025:\n",
      "DEHRADUN: District consumer court of Pithoragarh has ordered United India Insurance Company to pay Rs 15 lakh to the nominee of deceased Dhiraj Bankoti who was killed in a road accident on May 16, 2019 after the car he was travelling in fell into a gorge in Bageshwar district . The insurance company had rejected the claim saying that the registration number of the car was different from the number written on the papers. The court found deficiency in services on part of the company as the chassis number was correct and ordered to pay the said amount of compensation along with 6% interest within 30 days of the order. Explore Your Financial Landscape with Personalized Credit Insights.\n",
      "\n",
      "News Article 342:\n",
      "NEW DELHI: A woman was arrested on Monday following a collision involving her BMW and a parked vehicle, which then struck four pedestrians, causing critical injuries in South Delhi's Greater Kailash Enclave-II area . The incident occurred on Sunday night, and Mahak Kapoor (34), accompanied by her husband, was driving the car and was reportedly not under the influence of alcohol during the accident. The injured pedestrians, Yashwant Nalwade (58), Devraj Madhukar (50), Manohar (62), and Nitin, all from Maharashtra, were walking after dinner when the parked Maruti Ciaz was hit by Mahak's car. The impact of the collision resulted in all four pedestrians being thrown into the air before landing on the ground. CCTV footage captured the incident, and Mahak underwent a medical examination after the accident. She has been booked under sections 279 (rash driving) and 337 (causing hurt by an act that endangers human life) of the IPC at CR Police Station, and she has been arrested. During interrogation, Mahak explained that she lost control of the car while trying to avoid a two-wheeler that suddenly appeared in her path. (With agncy inputs) Explore Your Financial Landscape with Personalized Credit Insights.\n",
      "\n",
      "News Article 1707:\n",
      "HYDERABAD: As part of a special drive, city traffic police booked 4,280 car owners during the past one week for fixing black film on window glass. Police launched the special drive after a recent accident in which a toddler lost his life and five others sustained injuries at Road No 45. in Jubilee Hills. The SUV which was involved in this accident had tinted glasses in violation of MV Act that attracts 1,000 penalty. Cops also booked cases against 9,387 vehicle owners for using irregular number plates and 3,270 cases were booked against vehicles causing sound pollution with altered silencers. Explore Your Financial Landscape with Personalized Credit Insights.\n",
      "\n",
      "News Article 3208:\n",
      "AGRA: A 19-year-old German woman and her Indian husband, Abhijit Soni, 23, died in an accident on the Yamuna Expressway late on Thursday. Louisa Joan Rose, who worked as a car designer with Mercedes-Benz and had got married just six months ago, and Soni, who were on a motorcycle, collided with a potato-laden tractor-trolley on the expressway at milestone 131 near the Mathura-Agra border at around 11pm on Thursday night. Praveen Kumar, station officer of Baldeo police station, said, \"The two, who were on a motorbike with only Soni wearing a helmet, initially survived the impact, but vehicles coming from Delhi ran Soni over as he was thrown onto the middle of the expressway after colliding with the potato-laden tractor-trolley. Louisa died on her way to the S N Medical College in Agra.\" Soni was employed with a private shoe company in Kanpur. The two met through Facebook seven years ago and had got married just six months back in Kanpur. They had gone to Delhi to apply for Rose's Indian citizenship and were on their way back when the accident occurred. Deepti Soni, Abhijit's sister, told TOI, \"Louisa had tied the knot with my brother on September 17, 2016 after taking a break from her job with Mercedes-Benz. Since her visa was about to expire, the two had gone to Delhi to apply for Indian citizenship for her.\" \"The German embassy is making arrangements to send back the mortal remains of Louisa to her home in St. Johann Wurttemberg, 180km from Frankfurt. She was the youngest of three sisters. Her father, who isn't keeping well, wanted to see his daughter's body one last time.\" According to a recent RTI reply, the Yamuna Expressway saw 1,193 accidents in 2016, killing 128 persons. In 2015, 142 persons lost their lives in 919 accidents on the \"killer\" stretch. In the four and a half years since its opening, the expressway has seen the death of 548 people in 4,076 accidents, with 2016 reporting the highest number of accidents in a year. Explore Your Financial Landscape with Personalized Credit Insights.\n",
      "\n",
      "News Article 673:\n",
      "VIJAYAWADA: Sensational bodycam footage has emerged of Jahnavi Kandula from Kurnool being struck and killed by a police car in Seattle, USA. Jahnavi was killed on January 23 this year while crossing the street. She was fatally run over by a Seattle police car driven by Kevin Dave . According to FOX 13 Seattle, in the body camera video, a loud rumble of the engine was heard as Kevin's speedometer shows speeds of up to 74 mph. Kevin was also heard saying \"I f***** up\" in the video and performing CPR on Jahnavi after the accident. A loud engine noise could be heard in the bodycam video as Kevin's speedometer registered as much as 74 mph, much higher than the prescribed limits of 20 to 25 mph. \"Lights were on. I was chirping the sirens...she was in the crosswalk. She saw me, she started running through the crosswalk. Slammed on my breaks. Started staying back where she should before crossing,\" Dave can be heard in the video telling a responding officer. In other bodycam footage, Dave can be heard saying, \"I can have a hundred minutes. I could have...there's nothing for me to do right now, but sit. And that is the f****** worst thing that...you just have to sit here. So many questions that are unanswered, so many questions.\" The Office of Police Accountability continues investigating whether Dave complied with department policy. According to the media in the USA, the prosecutor's office said a decision on possible charges will likely come by early August. The 23-year-old girl Jahnavi was hit while walking near Dexter Avenue North and Thomas Street just after 8 pm on January 23. She was rushed to Harborview Medical Center where she succumbed to her injuries. According to Seattle police department, the driving officer was on a 'high priority one' call at the request of the Seattle fire department. Detectives from the Traffic Collision Investigation Squad took up an investigation. Jahnavi is the elder daughter of Vijayalakshmi and Srikanth who hailed from MIG colony in Adoni. She completed her Bachelor's in computer application in April 2019. She later went to Seattle to pursue her Master's in information systems at Northeastern University in September 2021. Explore Your Financial Landscape with Personalized Credit Insights.\n",
      "\n",
      "News Article 496:\n",
      "CHENNAI: Last week, Hemachandran, 42, an area manager and skilled mechanic working odd shifts and extra hours for his family, died in a road accident while returning home in Avadi. After long working hours, he was stressed and sleep-deprived. As a result, Hemachandran hit a lamp post on the road due to fatigue. Even though he wore a helmet, he suffered severe fatal head injuries. In another case, Karthikeyan, 27, a mechanical engineer working at a private firm in Avadi, met with an accident while rushing for his morning shift on his bike. Is there a way to prevent such mishaps? Yes, there is, say Avadi police. Industries and corporate firms can organise car-pooling or transport services for their employees, said A Arun, police commissioner of Avadi. Though most IT firms and top industries organise cabs or buses for their employees, not all extend such transport services. \"Large or medium-scale industries can afford to spend this additional amount. But it will be difficult for medium or small-scale companies, which have come out of pandemic losses just now,\" said Manikandan, a tool manufacturer in Pattabiram. In case a company is arranging a cab for four employees, who live in the same area, it has to spend around 2,500 per head. Most small and medium enterprises have 10 to 100 employees. Arranging cabs could cost them 25,000 to 2,50,000 per month, said Manikandan. Experts, however, say that industies can't put a monetary value on human lives. \"A medium enterprise makes a turnover of at least 50 crore every year. What is the point in claiming that they can't afford to spend a fraction of it for employee safety?\" asked R Rengachari, a transportation activist. Doctors say the possibility of accidents increase between midnight and 6am, or late afternoon. Explore Your Financial Landscape with Personalized Credit Insights.\n",
      "\n",
      "News Article 2980:\n",
      "NEW DELHI: At 27, Tikamchand was already a veteran in the powerlifting circuit. But for the accident that snuffed the life out of four of his companions, along with his own, he would likely be celebrating the birth of his first child. “All six of them (who met with the accident in Alipur) were dear friends and stuck together through thick and thin. Who knew they would be together even in their last moments,” rued a tearful Poonam, Tikamchand’s elder sister. “Tikamchand had planned to spend his birthday at home, as his wife was expected to deliver on Monday. We had never imagined that he would leave us like this — that too on his own birthday,” she said. Among the deceased was Yogesh, Tikamchand’s brother-in-law and a regular at state-level powerlifting championships for the last two years. He was to tie the knot in 15 days. “Everything was in place and celebrations had already begun. We were so excited. His death has broken everyone’s spirit,” Ravi, a relative, said. For other affected families, too, it was an evening of celebration that turned awry. Gaurav, brother of 18-year-old Saurabh Kashyap, a budding powerlifter, said: “I came to know about my brother’s death only when I reached the hospital. Yogesh’s family got a call about the incident and since I had a car, they woke me up and asked me to take them to hospital. Along the way, I was trying to console them. Little did I know that I would get to see my own brother’s body on a stretcher.” He added: “None of them had told us about the party, or any other plans for the night. From the missed call alerts, I found that Saurabh had called me at 1am, but I was fastasleep by then.” When Saksham Yadav, who won gold in the 2016 and 2017 world powerlifting championships, was brought to AIIMS Trauma Centre in the morning, doctors weren’t sure whether he could be saved, such was the extent of his head injuries. Later in the evening, he, too, succumbed to his injuries. Waiting outside the ICU, his father recalled how excited Saksham was about the upcoming world championships. Sunil Lochab, Saksham’s coach, was equally shaken. He had spent most of Saturday evening at a felicitation ceremony for Saksham. “Being sportspersons, they have very tight schedules and refrain from consuming alcohol, or partying late. Sunday was an exception. I wish I had stopped them like I always did,” he said. Rahul Minocha, a common friend, was lucky that he cancelled his plan to join them at the last moment. “Since I don’t eat out and had to leave for work early the next day, I went back home instead,” he said. “A couple of hours later, I woke up to a call from Saksham’s father.” Explore Your Financial Landscape with Personalized Credit Insights.\n",
      "\n",
      "News Article 2479:\n",
      "NEW DELHI: The Supreme Court on Monday rejected a plea by Kolkata’s biryani baron Akhtar Parwez seeking bail for his son Raghib, who is accused of causing death of two Bangladeshi nationals while driving his Jaguar F-Pace at a speed of 130-135 kph on August 17, 2019. Parwez’s counsel Kapil Sibal told a bench of Justices Sanjay Kishan Kaul and Hemant Gupta that Raghib suffers from Bipolar Affective Disorder and needed heavy medication for the mental illness, that he had cooperated with the investigations leading to filing of chargesheet and that no purpose would be served to send him back to jail after a year of being kept at home on interim bail, especially when the Covid-19 pandemic was raging. The bench reminded Sibal of the infamous BMW hit-and-run case involving Sanjeev Nanda and said rich brats driving their high-end cars at breakneck speed could not seek concessions. “If he is of unsound mental health, who allowed him to drive the Jaguar at such high speed? The parents in such cases need to be sent behind bars,” the bench said. The bench also said there was no determination by the trial court that Raghib was of unsound mind. Sibal said, “The chargesheet was filed on September 18, 2019. Raghib was in jail for eight months and was granted interim bail in April last year. What is the purpose of sending him to jail at this stage when the pandemic is raging? There is no allegation that he has influenced witnesses.” But the bench said Raghib fled to Dubai immediately after the accident. “You also attempted to change the driver. His conduct does not warrant any relief,” it said. Sibal said he had come back to India within 48 hours and surrendered to police for investigations. Raghib had come back after his elder brother Arsalan was arrested by Kolkata police for the accident. Refusing relief, the bench said Raghib should face trial and it was for the competent court to determine his mental condition. “We appreciate your (Sibal’s) arguments. But we are not able to persuade ourselves to agree with you on the relief you have sought,” the bench said and dismissed the father’s plea. Parwez, through advocate Ankur Chawla, said, “The trial is not likely to conclude shortly as the prosecution has cited 63 witnesses and voluminous evidence which is required to be recorded and sending Raghib to jail at this stage would be punitive in nature and contrary to the petitioner’s fundamental right to life guaranteed under Article 21 of the the Constitution of India.” Explore Your Financial Landscape with Personalized Credit Insights.\n",
      "\n",
      "News Article 464:\n",
      "MOHALI: Punjabi singer Amanjot Singh Pannu, popularly known as Alfaaz, was injured in a freak road accident on Banur-Landran road in the early hours of Sunday. A vehicle hit him while he was answering a call of nature at a roadside. Police said Alfaaz and his three friends, Kuljit Singh, Jeji and Gurpreet Singh, had gone for dinner at “Pal Dhaba”. While the three were conversing with the dhaba owner over a matter of payment of a dhaba employee, Alfaaz went to answer a call of nature. Meanwhile, the employee decided to take dhaba owner’s Tata Ace vehicle. As soon as he drove it away, he hit Alfaaz standing on the side. The employee fled, leaving the vehicle behind. Alfaaz is admitted to a private hospital, said police. Police registered a case under Sections 279, 337, 338 of the IPC against Vicky at police station Sohana . The singer is out of danger, cops said. Explore Your Financial Landscape with Personalized Credit Insights.\n",
      "\n",
      "News Article 1775:\n",
      "UDHAGAMANDALAM: Setting the stage for more twists in the further probe of the Kodanad estate murder-burglary case, special police teams will re-investigate the deaths of prime suspect Kanagaraj and Kodanad estate computer operator Dhinesh Kumar, besides those of K V Sayan’s wife and daughter in a road accident in Kerala. Of the five teams formed to hold further investigation of the Kodanad heist, one each will reinvestigate the FIRs on Kanagaraj’s death in a road accident in Salem district on April 28, 2017, the car crash death of Sayan’s family on April 29, 2017, and the apparent suicide of Dhinesh Kumar at his house on July 3, 2017. “The remaining two teams would concentrate on reinvestigating the prosecution witnesses and other suspected persons in connection with the main murder-burglary case at the Kodanad estate,” sources told TOI. On Monday, however, police questioned Shaji of Thrissur in Kerala for about five hours at the old SP office in Ooty. The inquiry which began at 10.15am, went on till 3.30pm. Shaji is the uncle of Jithin Joy (Accused-10). Earlier, Shaji was shown as prosecution witness (PW) 36 of the 103 witnesses identified in connection with the case by police. However, after 62 witnesses were dispensed with, he became PW23 of the 41 witnesses prosecuted earlier. He was summoned by police to appear before the special investigation team headed by additional superintendent of police Krishnamurthy for re-investigation on Monday. Five special teams have been formed by the Nilgiris police to reinvestigate the case. As part of the further investigation, so far, police have inquired Dhanabal, brother of Kanagaraj, and Natarajan (PW5), manager of Kodanad estate. Earlier, Natarajan’s name appeared in the dispensed list of witnesses and hence he was not prosecuted then. Kanagaraj’s wife and his brother-in-law were questioned by police in Coimbatore last Saturday. Meanwhile, a drone found hovering above the Kodanad bungalow, factory and office created a flutter in the area. Radhakrishnan, supervisor of the estate, lodged a complaint with the Sholurmattam police station in this connection. Sub-inspector Mohamaed Rafeeq conducted an inquiry. Explore Your Financial Landscape with Personalized Credit Insights.\n",
      "\n",
      "News Article 1468:\n",
      "HYDERABAD: A sedan vroomed past a police team probing serial murders at Bommalaramaram on Tuesday night. Police tried stopping the car, but youngsters in it sped away and minutes later it was involved in fatal crash near Mysireddypally. Bhongir inspector (Rural) Y Surendar Reddy’s team was at Bommalaramaram. “At about 10.30pm, we noticed a car going towards Warangal highway at high speed. We tried to stop the vehicle, but it sped away. Minutes later, we got to know about the accident a few kilometres away and our teams immediately shifted the bodies and the injured to hospitals,” the inspector said. DCP, Bhongir, K Narayan Reddy said the car was travelling at a high speed and the speedometer froze at 130 kmph. During the initial probe, police found the youngsters were coming from a farm house owned by S Venkateshwarulu, 50, at Bommalaramaram. Police said 17 students went to the farm house around 2pm in three cars and the farm house owner did not obtain permission to organise a party. “Around 7pm, nine of the 17 students went home. Of the remaining eight youngsters, five got into a car to get a cable to charge cell phones. The car belongs to one of the students, who was at the farm house,” the inspector said. Though locals said a girl was behind the wheel at the time of the accident, the inspector confirmed that Maneesh, who suffered critical injuries in the mishap, was driving the vehicle. The DCP said there was no street lights or required road safety signs. “The road turns right, but there are no signs to indicate there was a curve ahead. The 20-feet road has no railing or markers to indicate the margins. We will take up the issue with concerned authorities to rectify the problems to prevent such mishaps in future,” he added. Police seized liquor bottles and hookah from the farm house. DCP said that a case will be registred against the farm house owner for organising a party without obtaining permission. Explore Your Financial Landscape with Personalized Credit Insights.\n",
      "\n",
      "News Article 900:\n",
      "KOLHAPUR: Four pilgrims were killed and four injured when a speeding car rammed into their procession at Junoni village along Miraj-Pandharpur highway in Solapur district on Monday evening. According to the cops, the Warkari's, around 25 in number, were walking towards Pandharpur where they were supposed to attend the Kartiki Yatra taking place on November 4. A senior cop told TOI that the identification of the deceased and injured is under way but the preliminary information is that all are from Jatharwadi village near Kolhapur city. The cops also said that most of the dead are women and one of them seems to be a teenager. The injured have been admitted in the hospital for the treatment. The cops also said that the number of deceased individuals is likely to increase. The cops have arrested two, one of which is driver. The SUV is registered in Solapur. Chief minister Eknath Shinde's office issued a statement stating that the deceased families will get compensation of Rs 5 lakh each. The CM dialed local authorities and got the details of the incident. He asked the authorities to take care of the survivors. The local authorities have been ask to investigate the sequence of events which led to the accident. Explore Your Financial Landscape with Personalized Credit Insights.\n",
      "\n",
      "News Article 1516:\n",
      "I survived a road accident due to Pothole at Mira Bhayandar road on 31st Oct 2021 at 5:30pm. I was traveling on bike with all safety precautions on. Near Chenna garden(location shared in image), there are some large potholes on road. I could not see one such pothole because there was a car infront of me and the car crossed the pothole between it's tyres. The impact of the pothole was very large, however due to god's grace I survived the accident and I was able to balance my bike. I got a minor muscle injury on hand but my bike's one part got broken in the impact. I suffered Rs 2500 repair charges on my bike to get the part replaced.I somehow was lucky to survive the accident, but others may face fatal accidents. Requesting the municipal corporation to fix the pothole at the earliest. Explore Your Financial Landscape with Personalized Credit Insights.\n",
      "\n",
      "News Article 563:\n",
      "The ‘Titliyaan’ fame Punjabi lyricist and music composer Jaani met with an unfortunate road accident on Tuesday evening. According to the reports, his SUV in which he was traveling with two others collided with a car at the traffic lights near Sector 88. After the cars banged into each other at the intersection, the collision was so massive that the cars flipped twice before turning turtle. Jaani and the two traveling with him were rushed to a private hospital in Mohali. Reportedly, the occupants of the other vehicle also got some minor injuries. Further, according to the statement of the Sohana SHO Gurjit Singh, the accident victims were taken to the hospital before the police arrived. Investigation on who was driving the vehicle is still on, and so far no case has been registered, suggest the reports. Jaani is a name which has made place for himself in Bollywood as well. His work in collaboration with B Praak has broken records in the Hindi music world as well. His songs like 'Barish Ki Jaye', 'Filhall' has been massive success and Jaani is often refered as the 'Hit Machine' of the music industry.\n",
      "\n"
     ]
    }
   ],
   "source": [
    "import random\n",
    "\n",
    "# Assuming random_10_elements is a list containing 10 random indexes\n",
    "for index in random_10_elements:\n",
    "    if index in unwanted_news.index:\n",
    "        news_article = unwanted_news.loc[index, 'content']\n",
    "        print(f\"News Article {index}:\\n{news_article}\\n\")"
   ]
  },
  {
   "cell_type": "code",
   "execution_count": 95,
   "metadata": {
    "tags": []
   },
   "outputs": [
    {
     "ename": "AttributeError",
     "evalue": "'DataFrame' object has no attribute 'unwanted_cluster_1_points'",
     "output_type": "error",
     "traceback": [
      "\u001b[0;31m---------------------------------------------------------------------------\u001b[0m",
      "\u001b[0;31mAttributeError\u001b[0m                            Traceback (most recent call last)",
      "Cell \u001b[0;32mIn[95], line 1\u001b[0m\n\u001b[0;32m----> 1\u001b[0m unwanted_news\u001b[38;5;241m.\u001b[39munwanted_cluster_1_points\n",
      "File \u001b[0;32m~/anaconda3/lib/python3.11/site-packages/pandas/core/generic.py:5902\u001b[0m, in \u001b[0;36mNDFrame.__getattr__\u001b[0;34m(self, name)\u001b[0m\n\u001b[1;32m   5895\u001b[0m \u001b[38;5;28;01mif\u001b[39;00m (\n\u001b[1;32m   5896\u001b[0m     name \u001b[38;5;129;01mnot\u001b[39;00m \u001b[38;5;129;01min\u001b[39;00m \u001b[38;5;28mself\u001b[39m\u001b[38;5;241m.\u001b[39m_internal_names_set\n\u001b[1;32m   5897\u001b[0m     \u001b[38;5;129;01mand\u001b[39;00m name \u001b[38;5;129;01mnot\u001b[39;00m \u001b[38;5;129;01min\u001b[39;00m \u001b[38;5;28mself\u001b[39m\u001b[38;5;241m.\u001b[39m_metadata\n\u001b[1;32m   5898\u001b[0m     \u001b[38;5;129;01mand\u001b[39;00m name \u001b[38;5;129;01mnot\u001b[39;00m \u001b[38;5;129;01min\u001b[39;00m \u001b[38;5;28mself\u001b[39m\u001b[38;5;241m.\u001b[39m_accessors\n\u001b[1;32m   5899\u001b[0m     \u001b[38;5;129;01mand\u001b[39;00m \u001b[38;5;28mself\u001b[39m\u001b[38;5;241m.\u001b[39m_info_axis\u001b[38;5;241m.\u001b[39m_can_hold_identifiers_and_holds_name(name)\n\u001b[1;32m   5900\u001b[0m ):\n\u001b[1;32m   5901\u001b[0m     \u001b[38;5;28;01mreturn\u001b[39;00m \u001b[38;5;28mself\u001b[39m[name]\n\u001b[0;32m-> 5902\u001b[0m \u001b[38;5;28;01mreturn\u001b[39;00m \u001b[38;5;28mobject\u001b[39m\u001b[38;5;241m.\u001b[39m\u001b[38;5;21m__getattribute__\u001b[39m(\u001b[38;5;28mself\u001b[39m, name)\n",
      "\u001b[0;31mAttributeError\u001b[0m: 'DataFrame' object has no attribute 'unwanted_cluster_1_points'"
     ]
    }
   ],
   "source": []
  },
  {
   "cell_type": "code",
   "execution_count": 313,
   "metadata": {},
   "outputs": [
    {
     "ename": "KeyError",
     "evalue": "'[7, 18, 34, 38, 50, 56, 67, 113, 115, 122, 131, 132, 154, 176, 181, 204, 205, 206, 210, 214, 215, 216, 221, 222, 227, 229, 231, 251, 259, 270, 274, 279, 283, 285, 286, 297, 298, 299, 302, 303, 306, 308, 325, 329, 335, 336, 351, 355, 357, 358, 361, 364, 382, 390, 393, 408, 413, 423, 437, 442, 447, 450, 457, 461, 475, 477, 483, 489, 490, 495, 498, 501, 505, 517, 518, 519, 520, 523, 529, 530, 531, 534, 537, 543, 552, 574, 575, 580, 590, 591, 595, 607, 611, 619, 622, 623, 624, 625, 631, 647, 655, 657, 671, 672, 674, 685, 688, 692, 696, 702, 708, 726, 730, 731, 738, 741, 752, 753, 767, 782, 788, 791, 802, 817, 820, 822, 826, 830, 838, 844, 848, 849, 851, 853, 862, 863, 864, 867, 870, 877, 880, 882, 888, 908, 910, 920, 927, 931, 933, 937, 948, 951, 954, 955, 981, 985, 992, 996, 997, 1000, 1020, 1036, 1051, 1059, 1070, 1073, 1083, 1090, 1097, 1100, 1106, 1113, 1114, 1127, 1128, 1156, 1158, 1167, 1174, 1176, 1178, 1184, 1189, 1191, 1196, 1197, 1199, 1203, 1204, 1210, 1213, 1233, 1234, 1236, 1240, 1251, 1269, 1277, 1279, 1286, 1293, 1311, 1314, 1341, 1345, 1360, 1373, 1377, 1382, 1384, 1385, 1392, 1393, 1405, 1417, 1421, 1425, 1432, 1444, 1464, 1470, 1479, 1503, 1506, 1519, 1521, 1525, 1526, 1533, 1541, 1542, 1546, 1547, 1558, 1571, 1579, 1603, 1604, 1630, 1639, 1643, 1647, 1656, 1661, 1670, 1673, 1683, 1687, 1692, 1698, 1708, 1715, 1716, 1720, 1723, 1728, 1729, 1799, 1805, 1831, 1844, 1861, 1870, 1874, 1915, 1918, 1919, 1934, 1951, 1956, 1959, 1969, 1971, 1974, 1976, 1981, 1983, 1984, 1987, 1989, 1993, 1994, 2004, 2021, 2022, 2024, 2032, 2045, 2046, 2051, 2054, 2066, 2074, 2090, 2091, 2097, 2100, 2101, 2117, 2127, 2134, 2135, 2138, 2147, 2171, 2185, 2192, 2200, 2217, 2230, 2244, 2248, 2249, 2251, 2253, 2262, 2263, 2278, 2292, 2300, 2301, 2305, 2319, 2331, 2340, 2343, 2347, 2354, 2359, 2372, 2375, 2392, 2395, 2397, 2403, 2420, 2428, 2433, 2446, 2447, 2448, 2449, 2470, 2477, 2492, 2494, 2497, 2498, 2523, 2529, 2531, 2536, 2539, 2540, 2548, 2558, 2598, 2600, 2604, 2607, 2615, 2625, 2630, 2638, 2639, 2641, 2649, 2654, 2656, 2663, 2664, 2665, 2675, 2683, 2686, 2693, 2698, 2714, 2717, 2718, 2719, 2722, 2725, 2728, 2732, 2742, 2743, 2752, 2756, 2763, 2767, 2775, 2778, 2782, 2786, 2787, 2790, 2804, 2828, 2839, 2850, 2852, 2868, 2872, 2874, 2876, 2882, 2885, 2906, 2907, 2909, 2910, 2913, 2915, 2917, 2921, 2924, 2933, 2948, 2951, 2953, 2956, 2957, 2968, 2987, 2989, 2991, 2993, 3003, 3006, 3009, 3014, 3018, 3024, 3027, 3031, 3040, 3046, 3051, 3053, 3055, 3056, 3061, 3068, 3069, 3070, 3084, 3086, 3098, 3104, 3105, 3108, 3109, 3110, 3130, 3139, 3141, 3143, 3147, 3148, 3156, 3168, 3169, 3171, 3172, 3173, 3184, 3204, 3211, 3216, 3221, 3230, 3235, 3239, 3240, 3241, 3242, 3253] not found in axis'",
     "output_type": "error",
     "traceback": [
      "\u001b[0;31m---------------------------------------------------------------------------\u001b[0m",
      "\u001b[0;31mKeyError\u001b[0m                                  Traceback (most recent call last)",
      "Cell \u001b[0;32mIn[313], line 1\u001b[0m\n\u001b[0;32m----> 1\u001b[0m filtered_dataset_2 \u001b[38;5;241m=\u001b[39m unwanted_news\u001b[38;5;241m.\u001b[39mdrop(unwanted_cluster_1_points)\n\u001b[1;32m      3\u001b[0m \u001b[38;5;66;03m# Reset the index of the new DataFrame\u001b[39;00m\n\u001b[1;32m      4\u001b[0m filtered_dataset_2\u001b[38;5;241m.\u001b[39mreset_index(drop\u001b[38;5;241m=\u001b[39m\u001b[38;5;28;01mTrue\u001b[39;00m, inplace\u001b[38;5;241m=\u001b[39m\u001b[38;5;28;01mTrue\u001b[39;00m)\n",
      "File \u001b[0;32m~/anaconda3/lib/python3.11/site-packages/pandas/util/_decorators.py:331\u001b[0m, in \u001b[0;36mdeprecate_nonkeyword_arguments.<locals>.decorate.<locals>.wrapper\u001b[0;34m(*args, **kwargs)\u001b[0m\n\u001b[1;32m    325\u001b[0m \u001b[38;5;28;01mif\u001b[39;00m \u001b[38;5;28mlen\u001b[39m(args) \u001b[38;5;241m>\u001b[39m num_allow_args:\n\u001b[1;32m    326\u001b[0m     warnings\u001b[38;5;241m.\u001b[39mwarn(\n\u001b[1;32m    327\u001b[0m         msg\u001b[38;5;241m.\u001b[39mformat(arguments\u001b[38;5;241m=\u001b[39m_format_argument_list(allow_args)),\n\u001b[1;32m    328\u001b[0m         \u001b[38;5;167;01mFutureWarning\u001b[39;00m,\n\u001b[1;32m    329\u001b[0m         stacklevel\u001b[38;5;241m=\u001b[39mfind_stack_level(),\n\u001b[1;32m    330\u001b[0m     )\n\u001b[0;32m--> 331\u001b[0m \u001b[38;5;28;01mreturn\u001b[39;00m func(\u001b[38;5;241m*\u001b[39margs, \u001b[38;5;241m*\u001b[39m\u001b[38;5;241m*\u001b[39mkwargs)\n",
      "File \u001b[0;32m~/anaconda3/lib/python3.11/site-packages/pandas/core/frame.py:5399\u001b[0m, in \u001b[0;36mDataFrame.drop\u001b[0;34m(self, labels, axis, index, columns, level, inplace, errors)\u001b[0m\n\u001b[1;32m   5251\u001b[0m \u001b[38;5;129m@deprecate_nonkeyword_arguments\u001b[39m(version\u001b[38;5;241m=\u001b[39m\u001b[38;5;28;01mNone\u001b[39;00m, allowed_args\u001b[38;5;241m=\u001b[39m[\u001b[38;5;124m\"\u001b[39m\u001b[38;5;124mself\u001b[39m\u001b[38;5;124m\"\u001b[39m, \u001b[38;5;124m\"\u001b[39m\u001b[38;5;124mlabels\u001b[39m\u001b[38;5;124m\"\u001b[39m])\n\u001b[1;32m   5252\u001b[0m \u001b[38;5;28;01mdef\u001b[39;00m \u001b[38;5;21mdrop\u001b[39m(  \u001b[38;5;66;03m# type: ignore[override]\u001b[39;00m\n\u001b[1;32m   5253\u001b[0m     \u001b[38;5;28mself\u001b[39m,\n\u001b[0;32m   (...)\u001b[0m\n\u001b[1;32m   5260\u001b[0m     errors: IgnoreRaise \u001b[38;5;241m=\u001b[39m \u001b[38;5;124m\"\u001b[39m\u001b[38;5;124mraise\u001b[39m\u001b[38;5;124m\"\u001b[39m,\n\u001b[1;32m   5261\u001b[0m ) \u001b[38;5;241m-\u001b[39m\u001b[38;5;241m>\u001b[39m DataFrame \u001b[38;5;241m|\u001b[39m \u001b[38;5;28;01mNone\u001b[39;00m:\n\u001b[1;32m   5262\u001b[0m \u001b[38;5;250m    \u001b[39m\u001b[38;5;124;03m\"\"\"\u001b[39;00m\n\u001b[1;32m   5263\u001b[0m \u001b[38;5;124;03m    Drop specified labels from rows or columns.\u001b[39;00m\n\u001b[1;32m   5264\u001b[0m \n\u001b[0;32m   (...)\u001b[0m\n\u001b[1;32m   5397\u001b[0m \u001b[38;5;124;03m            weight  1.0     0.8\u001b[39;00m\n\u001b[1;32m   5398\u001b[0m \u001b[38;5;124;03m    \"\"\"\u001b[39;00m\n\u001b[0;32m-> 5399\u001b[0m     \u001b[38;5;28;01mreturn\u001b[39;00m \u001b[38;5;28msuper\u001b[39m()\u001b[38;5;241m.\u001b[39mdrop(\n\u001b[1;32m   5400\u001b[0m         labels\u001b[38;5;241m=\u001b[39mlabels,\n\u001b[1;32m   5401\u001b[0m         axis\u001b[38;5;241m=\u001b[39maxis,\n\u001b[1;32m   5402\u001b[0m         index\u001b[38;5;241m=\u001b[39mindex,\n\u001b[1;32m   5403\u001b[0m         columns\u001b[38;5;241m=\u001b[39mcolumns,\n\u001b[1;32m   5404\u001b[0m         level\u001b[38;5;241m=\u001b[39mlevel,\n\u001b[1;32m   5405\u001b[0m         inplace\u001b[38;5;241m=\u001b[39minplace,\n\u001b[1;32m   5406\u001b[0m         errors\u001b[38;5;241m=\u001b[39merrors,\n\u001b[1;32m   5407\u001b[0m     )\n",
      "File \u001b[0;32m~/anaconda3/lib/python3.11/site-packages/pandas/util/_decorators.py:331\u001b[0m, in \u001b[0;36mdeprecate_nonkeyword_arguments.<locals>.decorate.<locals>.wrapper\u001b[0;34m(*args, **kwargs)\u001b[0m\n\u001b[1;32m    325\u001b[0m \u001b[38;5;28;01mif\u001b[39;00m \u001b[38;5;28mlen\u001b[39m(args) \u001b[38;5;241m>\u001b[39m num_allow_args:\n\u001b[1;32m    326\u001b[0m     warnings\u001b[38;5;241m.\u001b[39mwarn(\n\u001b[1;32m    327\u001b[0m         msg\u001b[38;5;241m.\u001b[39mformat(arguments\u001b[38;5;241m=\u001b[39m_format_argument_list(allow_args)),\n\u001b[1;32m    328\u001b[0m         \u001b[38;5;167;01mFutureWarning\u001b[39;00m,\n\u001b[1;32m    329\u001b[0m         stacklevel\u001b[38;5;241m=\u001b[39mfind_stack_level(),\n\u001b[1;32m    330\u001b[0m     )\n\u001b[0;32m--> 331\u001b[0m \u001b[38;5;28;01mreturn\u001b[39;00m func(\u001b[38;5;241m*\u001b[39margs, \u001b[38;5;241m*\u001b[39m\u001b[38;5;241m*\u001b[39mkwargs)\n",
      "File \u001b[0;32m~/anaconda3/lib/python3.11/site-packages/pandas/core/generic.py:4505\u001b[0m, in \u001b[0;36mNDFrame.drop\u001b[0;34m(self, labels, axis, index, columns, level, inplace, errors)\u001b[0m\n\u001b[1;32m   4503\u001b[0m \u001b[38;5;28;01mfor\u001b[39;00m axis, labels \u001b[38;5;129;01min\u001b[39;00m axes\u001b[38;5;241m.\u001b[39mitems():\n\u001b[1;32m   4504\u001b[0m     \u001b[38;5;28;01mif\u001b[39;00m labels \u001b[38;5;129;01mis\u001b[39;00m \u001b[38;5;129;01mnot\u001b[39;00m \u001b[38;5;28;01mNone\u001b[39;00m:\n\u001b[0;32m-> 4505\u001b[0m         obj \u001b[38;5;241m=\u001b[39m obj\u001b[38;5;241m.\u001b[39m_drop_axis(labels, axis, level\u001b[38;5;241m=\u001b[39mlevel, errors\u001b[38;5;241m=\u001b[39merrors)\n\u001b[1;32m   4507\u001b[0m \u001b[38;5;28;01mif\u001b[39;00m inplace:\n\u001b[1;32m   4508\u001b[0m     \u001b[38;5;28mself\u001b[39m\u001b[38;5;241m.\u001b[39m_update_inplace(obj)\n",
      "File \u001b[0;32m~/anaconda3/lib/python3.11/site-packages/pandas/core/generic.py:4546\u001b[0m, in \u001b[0;36mNDFrame._drop_axis\u001b[0;34m(self, labels, axis, level, errors, only_slice)\u001b[0m\n\u001b[1;32m   4544\u001b[0m         new_axis \u001b[38;5;241m=\u001b[39m axis\u001b[38;5;241m.\u001b[39mdrop(labels, level\u001b[38;5;241m=\u001b[39mlevel, errors\u001b[38;5;241m=\u001b[39merrors)\n\u001b[1;32m   4545\u001b[0m     \u001b[38;5;28;01melse\u001b[39;00m:\n\u001b[0;32m-> 4546\u001b[0m         new_axis \u001b[38;5;241m=\u001b[39m axis\u001b[38;5;241m.\u001b[39mdrop(labels, errors\u001b[38;5;241m=\u001b[39merrors)\n\u001b[1;32m   4547\u001b[0m     indexer \u001b[38;5;241m=\u001b[39m axis\u001b[38;5;241m.\u001b[39mget_indexer(new_axis)\n\u001b[1;32m   4549\u001b[0m \u001b[38;5;66;03m# Case for non-unique axis\u001b[39;00m\n\u001b[1;32m   4550\u001b[0m \u001b[38;5;28;01melse\u001b[39;00m:\n",
      "File \u001b[0;32m~/anaconda3/lib/python3.11/site-packages/pandas/core/indexes/base.py:6934\u001b[0m, in \u001b[0;36mIndex.drop\u001b[0;34m(self, labels, errors)\u001b[0m\n\u001b[1;32m   6932\u001b[0m \u001b[38;5;28;01mif\u001b[39;00m mask\u001b[38;5;241m.\u001b[39many():\n\u001b[1;32m   6933\u001b[0m     \u001b[38;5;28;01mif\u001b[39;00m errors \u001b[38;5;241m!=\u001b[39m \u001b[38;5;124m\"\u001b[39m\u001b[38;5;124mignore\u001b[39m\u001b[38;5;124m\"\u001b[39m:\n\u001b[0;32m-> 6934\u001b[0m         \u001b[38;5;28;01mraise\u001b[39;00m \u001b[38;5;167;01mKeyError\u001b[39;00m(\u001b[38;5;124mf\u001b[39m\u001b[38;5;124m\"\u001b[39m\u001b[38;5;132;01m{\u001b[39;00m\u001b[38;5;28mlist\u001b[39m(labels[mask])\u001b[38;5;132;01m}\u001b[39;00m\u001b[38;5;124m not found in axis\u001b[39m\u001b[38;5;124m\"\u001b[39m)\n\u001b[1;32m   6935\u001b[0m     indexer \u001b[38;5;241m=\u001b[39m indexer[\u001b[38;5;241m~\u001b[39mmask]\n\u001b[1;32m   6936\u001b[0m \u001b[38;5;28;01mreturn\u001b[39;00m \u001b[38;5;28mself\u001b[39m\u001b[38;5;241m.\u001b[39mdelete(indexer)\n",
      "\u001b[0;31mKeyError\u001b[0m: '[7, 18, 34, 38, 50, 56, 67, 113, 115, 122, 131, 132, 154, 176, 181, 204, 205, 206, 210, 214, 215, 216, 221, 222, 227, 229, 231, 251, 259, 270, 274, 279, 283, 285, 286, 297, 298, 299, 302, 303, 306, 308, 325, 329, 335, 336, 351, 355, 357, 358, 361, 364, 382, 390, 393, 408, 413, 423, 437, 442, 447, 450, 457, 461, 475, 477, 483, 489, 490, 495, 498, 501, 505, 517, 518, 519, 520, 523, 529, 530, 531, 534, 537, 543, 552, 574, 575, 580, 590, 591, 595, 607, 611, 619, 622, 623, 624, 625, 631, 647, 655, 657, 671, 672, 674, 685, 688, 692, 696, 702, 708, 726, 730, 731, 738, 741, 752, 753, 767, 782, 788, 791, 802, 817, 820, 822, 826, 830, 838, 844, 848, 849, 851, 853, 862, 863, 864, 867, 870, 877, 880, 882, 888, 908, 910, 920, 927, 931, 933, 937, 948, 951, 954, 955, 981, 985, 992, 996, 997, 1000, 1020, 1036, 1051, 1059, 1070, 1073, 1083, 1090, 1097, 1100, 1106, 1113, 1114, 1127, 1128, 1156, 1158, 1167, 1174, 1176, 1178, 1184, 1189, 1191, 1196, 1197, 1199, 1203, 1204, 1210, 1213, 1233, 1234, 1236, 1240, 1251, 1269, 1277, 1279, 1286, 1293, 1311, 1314, 1341, 1345, 1360, 1373, 1377, 1382, 1384, 1385, 1392, 1393, 1405, 1417, 1421, 1425, 1432, 1444, 1464, 1470, 1479, 1503, 1506, 1519, 1521, 1525, 1526, 1533, 1541, 1542, 1546, 1547, 1558, 1571, 1579, 1603, 1604, 1630, 1639, 1643, 1647, 1656, 1661, 1670, 1673, 1683, 1687, 1692, 1698, 1708, 1715, 1716, 1720, 1723, 1728, 1729, 1799, 1805, 1831, 1844, 1861, 1870, 1874, 1915, 1918, 1919, 1934, 1951, 1956, 1959, 1969, 1971, 1974, 1976, 1981, 1983, 1984, 1987, 1989, 1993, 1994, 2004, 2021, 2022, 2024, 2032, 2045, 2046, 2051, 2054, 2066, 2074, 2090, 2091, 2097, 2100, 2101, 2117, 2127, 2134, 2135, 2138, 2147, 2171, 2185, 2192, 2200, 2217, 2230, 2244, 2248, 2249, 2251, 2253, 2262, 2263, 2278, 2292, 2300, 2301, 2305, 2319, 2331, 2340, 2343, 2347, 2354, 2359, 2372, 2375, 2392, 2395, 2397, 2403, 2420, 2428, 2433, 2446, 2447, 2448, 2449, 2470, 2477, 2492, 2494, 2497, 2498, 2523, 2529, 2531, 2536, 2539, 2540, 2548, 2558, 2598, 2600, 2604, 2607, 2615, 2625, 2630, 2638, 2639, 2641, 2649, 2654, 2656, 2663, 2664, 2665, 2675, 2683, 2686, 2693, 2698, 2714, 2717, 2718, 2719, 2722, 2725, 2728, 2732, 2742, 2743, 2752, 2756, 2763, 2767, 2775, 2778, 2782, 2786, 2787, 2790, 2804, 2828, 2839, 2850, 2852, 2868, 2872, 2874, 2876, 2882, 2885, 2906, 2907, 2909, 2910, 2913, 2915, 2917, 2921, 2924, 2933, 2948, 2951, 2953, 2956, 2957, 2968, 2987, 2989, 2991, 2993, 3003, 3006, 3009, 3014, 3018, 3024, 3027, 3031, 3040, 3046, 3051, 3053, 3055, 3056, 3061, 3068, 3069, 3070, 3084, 3086, 3098, 3104, 3105, 3108, 3109, 3110, 3130, 3139, 3141, 3143, 3147, 3148, 3156, 3168, 3169, 3171, 3172, 3173, 3184, 3204, 3211, 3216, 3221, 3230, 3235, 3239, 3240, 3241, 3242, 3253] not found in axis'"
     ]
    }
   ],
   "source": [
    "filtered_dataset_2 = unwanted_news.drop(unwanted_cluster_1_points)\n",
    "\n",
    "# Reset the index of the new DataFrame\n",
    "filtered_dataset_2.reset_index(drop=True, inplace=True)"
   ]
  },
  {
   "cell_type": "code",
   "execution_count": 257,
   "metadata": {},
   "outputs": [
    {
     "ename": "NameError",
     "evalue": "name 'filtered_dataset_2' is not defined",
     "output_type": "error",
     "traceback": [
      "\u001b[0;31m---------------------------------------------------------------------------\u001b[0m",
      "\u001b[0;31mNameError\u001b[0m                                 Traceback (most recent call last)",
      "Cell \u001b[0;32mIn[257], line 1\u001b[0m\n\u001b[0;32m----> 1\u001b[0m filtered_dataset_2\u001b[38;5;241m.\u001b[39mto_csv(\u001b[38;5;124m'\u001b[39m\u001b[38;5;124mFiltered_News_2.csv\u001b[39m\u001b[38;5;124m'\u001b[39m, index \u001b[38;5;241m=\u001b[39m \u001b[38;5;28;01mFalse\u001b[39;00m)\n",
      "\u001b[0;31mNameError\u001b[0m: name 'filtered_dataset_2' is not defined"
     ]
    }
   ],
   "source": [
    "filtered_dataset_2.to_csv('Filtered_News_2.csv', index = False)"
   ]
  },
  {
   "cell_type": "code",
   "execution_count": 119,
   "metadata": {
    "id": "8emDbyoar0Fi"
   },
   "outputs": [],
   "source": [
    "filtered_dataset = pd.concat([filtered_dataset_1, filtered_dataset_2], ignore_index=True)\n",
    "filtered_dataset.reset_index(drop=True, inplace=True)\n",
    "filtered_dataset.to_csv('Filtered_News.csv', index = False)"
   ]
  },
  {
   "cell_type": "markdown",
   "metadata": {
    "id": "yxtBeg6ftCy3",
    "jp-MarkdownHeadingCollapsed": true,
    "tags": []
   },
   "source": [
    "# EXTRACTING FIRST SENTENCE"
   ]
  },
  {
   "cell_type": "code",
   "execution_count": 16,
   "metadata": {
    "id": "Dfyhdgg-CErz"
   },
   "outputs": [],
   "source": [
    "df = pd.read_csv('Filtered_News_A.csv')"
   ]
  },
  {
   "cell_type": "code",
   "execution_count": 17,
   "metadata": {
    "id": "A7iD5VqrBxgg"
   },
   "outputs": [],
   "source": [
    "import spacy\n",
    "def One_Liners(dataset):\n",
    "    nlp = spacy.load(\"en_core_web_trf\")\n",
    "    extracted_text = []\n",
    "\n",
    "    for content in dataset['content']:\n",
    "        doc = nlp(content)\n",
    "        lines = content.split('\\n')\n",
    "        found = False\n",
    "        for line in lines:\n",
    "            if \":\" in line:\n",
    "                first_line_after_colon = line.split(\":\", 1)[1].strip()\n",
    "                text_till_period = first_line_after_colon.split(\".\")[0]\n",
    "                extracted_text.append(text_till_period)\n",
    "                found = True\n",
    "                break\n",
    "\n",
    "        if not found:\n",
    "            # Take the first row if no colon is found\n",
    "            extracted_text.append(content.split(\".\")[0])\n",
    "\n",
    "    # Append the extracted text to the dataset with a new column named \"First Line\"\n",
    "    dataset['First_Line'] = extracted_text"
   ]
  },
  {
   "cell_type": "code",
   "execution_count": 35,
   "metadata": {
    "id": "KDb_BADRC-1L"
   },
   "outputs": [],
   "source": [
    "One_Liners(df)"
   ]
  },
  {
   "cell_type": "markdown",
   "metadata": {
    "id": "4XtpmXZj20hU"
   },
   "source": [
    "Pre-Processing"
   ]
  },
  {
   "cell_type": "code",
   "execution_count": 36,
   "metadata": {
    "id": "j_CEiIfUCxef"
   },
   "outputs": [],
   "source": [
    "sentence = df.First_Line"
   ]
  },
  {
   "cell_type": "code",
   "execution_count": 37,
   "metadata": {
    "colab": {
     "base_uri": "https://localhost:8080/",
     "height": 588
    },
    "id": "VpsmS3y2De_D",
    "outputId": "319964a5-2cd1-4ff8-bd82-27326574b5ec"
   },
   "outputs": [
    {
     "data": {
      "text/html": [
       "<div>\n",
       "<style scoped>\n",
       "    .dataframe tbody tr th:only-of-type {\n",
       "        vertical-align: middle;\n",
       "    }\n",
       "\n",
       "    .dataframe tbody tr th {\n",
       "        vertical-align: top;\n",
       "    }\n",
       "\n",
       "    .dataframe thead th {\n",
       "        text-align: right;\n",
       "    }\n",
       "</style>\n",
       "<table border=\"1\" class=\"dataframe\">\n",
       "  <thead>\n",
       "    <tr style=\"text-align: right;\">\n",
       "      <th></th>\n",
       "      <th>Unnamed: 0</th>\n",
       "      <th>Link</th>\n",
       "      <th>content</th>\n",
       "      <th>News_date</th>\n",
       "      <th>First_Line</th>\n",
       "    </tr>\n",
       "  </thead>\n",
       "  <tbody>\n",
       "    <tr>\n",
       "      <th>0</th>\n",
       "      <td>0</td>\n",
       "      <td>https://timesofindia.indiatimes.com/city/allah...</td>\n",
       "      <td>SULTANPUR : Three people lost their lives on F...</td>\n",
       "      <td>Updated: Feb 23, 2024, 13:51 IST</td>\n",
       "      <td>Three people lost their lives on Friday in a c...</td>\n",
       "    </tr>\n",
       "    <tr>\n",
       "      <th>1</th>\n",
       "      <td>1</td>\n",
       "      <td>https://timesofindia.indiatimes.com/city/jaipu...</td>\n",
       "      <td>JAIPUR: Three people died in a car accident in...</td>\n",
       "      <td>Updated: Feb 19, 2024, 15:48 IST</td>\n",
       "      <td>Three people died in a car accident in Rajasth...</td>\n",
       "    </tr>\n",
       "    <tr>\n",
       "      <th>2</th>\n",
       "      <td>2</td>\n",
       "      <td>https://timesofindia.indiatimes.com/city/benga...</td>\n",
       "      <td>RAICHUR: Two women killed and five others were...</td>\n",
       "      <td>Updated: Feb 18, 2024, 11:34 IST</td>\n",
       "      <td>Two women killed and five others were seriousl...</td>\n",
       "    </tr>\n",
       "    <tr>\n",
       "      <th>3</th>\n",
       "      <td>3</td>\n",
       "      <td>https://timesofindia.indiatimes.com/city/delhi...</td>\n",
       "      <td>New Delhi: Two students were injured after a s...</td>\n",
       "      <td>Feb 16, 2024, 08:12 IST</td>\n",
       "      <td>Two students were injured after a speeding car...</td>\n",
       "    </tr>\n",
       "    <tr>\n",
       "      <th>4</th>\n",
       "      <td>4</td>\n",
       "      <td>https://timesofindia.indiatimes.com/city/hyder...</td>\n",
       "      <td>Hyderabad: A newlywed software engineer , his ...</td>\n",
       "      <td>Feb 22, 2024, 08:22 IST</td>\n",
       "      <td>A newlywed software engineer , his father-in-l...</td>\n",
       "    </tr>\n",
       "  </tbody>\n",
       "</table>\n",
       "</div>"
      ],
      "text/plain": [
       "   Unnamed: 0                                               Link  \\\n",
       "0           0  https://timesofindia.indiatimes.com/city/allah...   \n",
       "1           1  https://timesofindia.indiatimes.com/city/jaipu...   \n",
       "2           2  https://timesofindia.indiatimes.com/city/benga...   \n",
       "3           3  https://timesofindia.indiatimes.com/city/delhi...   \n",
       "4           4  https://timesofindia.indiatimes.com/city/hyder...   \n",
       "\n",
       "                                             content  \\\n",
       "0  SULTANPUR : Three people lost their lives on F...   \n",
       "1  JAIPUR: Three people died in a car accident in...   \n",
       "2  RAICHUR: Two women killed and five others were...   \n",
       "3  New Delhi: Two students were injured after a s...   \n",
       "4  Hyderabad: A newlywed software engineer , his ...   \n",
       "\n",
       "                          News_date  \\\n",
       "0  Updated: Feb 23, 2024, 13:51 IST   \n",
       "1  Updated: Feb 19, 2024, 15:48 IST   \n",
       "2  Updated: Feb 18, 2024, 11:34 IST   \n",
       "3           Feb 16, 2024, 08:12 IST   \n",
       "4           Feb 22, 2024, 08:22 IST   \n",
       "\n",
       "                                          First_Line  \n",
       "0  Three people lost their lives on Friday in a c...  \n",
       "1  Three people died in a car accident in Rajasth...  \n",
       "2  Two women killed and five others were seriousl...  \n",
       "3  Two students were injured after a speeding car...  \n",
       "4  A newlywed software engineer , his father-in-l...  "
      ]
     },
     "execution_count": 37,
     "metadata": {},
     "output_type": "execute_result"
    }
   ],
   "source": [
    "df.head()"
   ]
  },
  {
   "cell_type": "code",
   "execution_count": 38,
   "metadata": {
    "colab": {
     "base_uri": "https://localhost:8080/"
    },
    "id": "3dYnQ94ZssKM",
    "outputId": "39bd4534-0e2a-4a23-da49-e48244ef8913"
   },
   "outputs": [
    {
     "name": "stderr",
     "output_type": "stream",
     "text": [
      "[nltk_data] Downloading package stopwords to\n",
      "[nltk_data]     /Users/aakarshsurendra/nltk_data...\n",
      "[nltk_data]   Package stopwords is already up-to-date!\n",
      "[nltk_data] Downloading package punkt to\n",
      "[nltk_data]     /Users/aakarshsurendra/nltk_data...\n",
      "[nltk_data]   Package punkt is already up-to-date!\n"
     ]
    }
   ],
   "source": [
    "import nltk\n",
    "import spacy\n",
    "import pandas as pd\n",
    "from nltk.corpus import stopwords\n",
    "from nltk.tokenize import word_tokenize\n",
    "\n",
    "nltk.download('stopwords')\n",
    "nltk.download('punkt')\n",
    "\n",
    "nlp = spacy.load(\"en_core_web_trf\")\n",
    "\n",
    "def preprocess(sentence):\n",
    "    stop_words = set(stopwords.words('english'))\n",
    "    tokens = word_tokenize(sentence.lower())\n",
    "\n",
    "    # Lemmatize each word using spaCy\n",
    "    lemmatized_tokens = []\n",
    "    for token in nlp(sentence):\n",
    "        if token.text.isalnum() and token.text not in stop_words:\n",
    "            lemmatized_tokens.append(token.lemma_)\n",
    "\n",
    "    sentence_p = \" \".join(lemmatized_tokens)\n",
    "    return sentence_p\n",
    "\n",
    "df['first_line_l'] = df['First_Line'].apply(preprocess)\n"
   ]
  },
  {
   "cell_type": "code",
   "execution_count": 294,
   "metadata": {},
   "outputs": [],
   "source": [
    "first_50_rows_first_line = df['first_line_l'].head(50)"
   ]
  },
  {
   "cell_type": "code",
   "execution_count": 295,
   "metadata": {},
   "outputs": [
    {
     "name": "stdout",
     "output_type": "stream",
     "text": [
      "Text file 'first_line_l_text.txt' has been created.\n"
     ]
    }
   ],
   "source": [
    "# Define the output file path\n",
    "output_file = 'first_line_l_text.txt'\n",
    "\n",
    "# Open the output file in write mode\n",
    "with open(output_file, 'w') as file:\n",
    "    # Iterate over each element in the Series\n",
    "    for sentence in first_50_rows_first_line:\n",
    "        # Write the sentence to the file\n",
    "        file.write(sentence + '\\n')\n",
    "\n",
    "print(f\"Text file '{output_file}' has been created.\")\n"
   ]
  },
  {
   "cell_type": "markdown",
   "metadata": {
    "jp-MarkdownHeadingCollapsed": true,
    "tags": []
   },
   "source": [
    "# ANNOTATION"
   ]
  },
  {
   "cell_type": "markdown",
   "metadata": {
    "jp-MarkdownHeadingCollapsed": true,
    "tags": []
   },
   "source": [
    "## Dividing Data for Team Members Annotation"
   ]
  },
  {
   "cell_type": "code",
   "execution_count": 83,
   "metadata": {},
   "outputs": [],
   "source": [
    "annotation_1000 = filtered_dataset_1.head(1000)"
   ]
  },
  {
   "cell_type": "code",
   "execution_count": 19,
   "metadata": {},
   "outputs": [],
   "source": [
    "dataset = pd.read_csv('dataset_First_Line.csv')"
   ]
  },
  {
   "cell_type": "code",
   "execution_count": 20,
   "metadata": {},
   "outputs": [],
   "source": [
    "annotation_1000 = dataset.iloc[1000:2000,:]"
   ]
  },
  {
   "cell_type": "code",
   "execution_count": 21,
   "metadata": {},
   "outputs": [
    {
     "data": {
      "text/plain": [
       "Index(['Unnamed: 0.1', 'Unnamed: 0', 'Link', 'content', 'News_date',\n",
       "       'First_Line'],\n",
       "      dtype='object')"
      ]
     },
     "execution_count": 21,
     "metadata": {},
     "output_type": "execute_result"
    }
   ],
   "source": [
    "annotation_1000.columns"
   ]
  },
  {
   "cell_type": "code",
   "execution_count": 66,
   "metadata": {
    "scrolled": true
   },
   "outputs": [
    {
     "name": "stderr",
     "output_type": "stream",
     "text": [
      "/var/folders/p7/m480s0s56rb3pl4d11ss4wch0000gn/T/ipykernel_2234/3172095247.py:23: SettingWithCopyWarning: \n",
      "A value is trying to be set on a copy of a slice from a DataFrame.\n",
      "Try using .loc[row_indexer,col_indexer] = value instead\n",
      "\n",
      "See the caveats in the documentation: https://pandas.pydata.org/pandas-docs/stable/user_guide/indexing.html#returning-a-view-versus-a-copy\n",
      "  dataset['First_Line'] = extracted_text\n"
     ]
    }
   ],
   "source": [
    "One_Liners(annotation_1000)"
   ]
  },
  {
   "cell_type": "markdown",
   "metadata": {
    "jp-MarkdownHeadingCollapsed": true,
    "tags": []
   },
   "source": [
    "#### Craig's File for Annotation"
   ]
  },
  {
   "cell_type": "code",
   "execution_count": 22,
   "metadata": {},
   "outputs": [],
   "source": [
    "craig_annotation3 = annotation_1000['First_Line'].iloc[0:100]"
   ]
  },
  {
   "cell_type": "code",
   "execution_count": 271,
   "metadata": {},
   "outputs": [],
   "source": [
    "craig_annotation2 = annotation_1000['First_Line'].iloc[600:700]"
   ]
  },
  {
   "cell_type": "code",
   "execution_count": 24,
   "metadata": {},
   "outputs": [
    {
     "name": "stdout",
     "output_type": "stream",
     "text": [
      "Text file 'craig_annotation3.txt' has been created.\n"
     ]
    }
   ],
   "source": [
    "# Define the output file path\n",
    "output_file = 'craig_annotation3.txt'\n",
    "\n",
    "# Open the output file in write mode\n",
    "with open(output_file, 'w') as file:\n",
    "    # Iterate over each element in the Series\n",
    "    for sentence in craig_annotation3:\n",
    "        # Write the sentence to the file\n",
    "        file.write(sentence + '\\n')\n",
    "\n",
    "print(f\"Text file '{output_file}' has been created.\")\n"
   ]
  },
  {
   "cell_type": "markdown",
   "metadata": {
    "jp-MarkdownHeadingCollapsed": true,
    "tags": []
   },
   "source": [
    "#### Shirin's File for Annotation"
   ]
  },
  {
   "cell_type": "code",
   "execution_count": 25,
   "metadata": {},
   "outputs": [],
   "source": [
    "shirin_annotation3 = annotation_1000['First_Line'].iloc[100:200]"
   ]
  },
  {
   "cell_type": "code",
   "execution_count": 273,
   "metadata": {},
   "outputs": [],
   "source": [
    "shirin_annotation2 = annotation_1000['First_Line'].iloc[700:800]"
   ]
  },
  {
   "cell_type": "code",
   "execution_count": 26,
   "metadata": {},
   "outputs": [
    {
     "name": "stdout",
     "output_type": "stream",
     "text": [
      "Text file 'shirin_annotation3.txt' has been created.\n"
     ]
    }
   ],
   "source": [
    "# Define the output file path\n",
    "output_file = 'shirin_annotation3.txt'\n",
    "\n",
    "# Open the output file in write mode\n",
    "with open(output_file, 'w') as file:\n",
    "    # Iterate over each element in the Series\n",
    "    for sentence in shirin_annotation3:\n",
    "        # Write the sentence to the file\n",
    "        file.write(sentence + '\\n')\n",
    "\n",
    "print(f\"Text file '{output_file}' has been created.\")\n"
   ]
  },
  {
   "cell_type": "markdown",
   "metadata": {
    "jp-MarkdownHeadingCollapsed": true,
    "tags": []
   },
   "source": [
    "#### Gourav's File for Annotation"
   ]
  },
  {
   "cell_type": "code",
   "execution_count": 27,
   "metadata": {},
   "outputs": [],
   "source": [
    "gourav_annotation3 = annotation_1000['First_Line'].iloc[200:300]"
   ]
  },
  {
   "cell_type": "code",
   "execution_count": 236,
   "metadata": {},
   "outputs": [],
   "source": [
    "gourav_annotation2 = annotation_1000['First_Line'].iloc[500:600]"
   ]
  },
  {
   "cell_type": "code",
   "execution_count": 28,
   "metadata": {},
   "outputs": [
    {
     "name": "stdout",
     "output_type": "stream",
     "text": [
      "Text file 'gourav_annotation3.txt' has been created.\n"
     ]
    }
   ],
   "source": [
    "# Define the output file path\n",
    "output_file = 'gourav_annotation3.txt'\n",
    "\n",
    "# Open the output file in write mode\n",
    "with open(output_file, 'w') as file:\n",
    "    # Iterate over each element in the Series\n",
    "    for sentence in gourav_annotation3:\n",
    "        # Write the sentence to the file\n",
    "        file.write(sentence + '\\n')\n",
    "\n",
    "print(f\"Text file '{output_file}' has been created.\")\n"
   ]
  },
  {
   "cell_type": "markdown",
   "metadata": {
    "jp-MarkdownHeadingCollapsed": true,
    "tags": []
   },
   "source": [
    "#### Aakarsh's File for Annotation"
   ]
  },
  {
   "cell_type": "code",
   "execution_count": 29,
   "metadata": {},
   "outputs": [],
   "source": [
    "aakarsh_annotation3 = annotation_1000['First_Line'].iloc[300:400]"
   ]
  },
  {
   "cell_type": "code",
   "execution_count": 275,
   "metadata": {},
   "outputs": [],
   "source": [
    "aakarsh_annotation2 = annotation_1000['First_Line'].iloc[800:900]"
   ]
  },
  {
   "cell_type": "code",
   "execution_count": 30,
   "metadata": {},
   "outputs": [
    {
     "name": "stdout",
     "output_type": "stream",
     "text": [
      "Text file 'aakarsh_annotation3.txt' has been created.\n"
     ]
    }
   ],
   "source": [
    "# Define the output file path\n",
    "output_file = 'aakarsh_annotation3.txt'\n",
    "\n",
    "# Open the output file in write mode\n",
    "with open(output_file, 'w') as file:\n",
    "    # Iterate over each element in the Series\n",
    "    for sentence in aakarsh_annotation3:\n",
    "        # Write the sentence to the file\n",
    "        file.write(sentence + '\\n')\n",
    "\n",
    "print(f\"Text file '{output_file}' has been created.\")"
   ]
  },
  {
   "cell_type": "markdown",
   "metadata": {
    "jp-MarkdownHeadingCollapsed": true,
    "tags": []
   },
   "source": [
    "#### Pallavi's File for Annotation"
   ]
  },
  {
   "cell_type": "code",
   "execution_count": 31,
   "metadata": {},
   "outputs": [],
   "source": [
    "pallavi_annotation3 = annotation_1000['First_Line'].iloc[400:500]"
   ]
  },
  {
   "cell_type": "code",
   "execution_count": 279,
   "metadata": {},
   "outputs": [],
   "source": [
    "pallavi_annotation2 = annotation_1000['First_Line'].iloc[900:1000]"
   ]
  },
  {
   "cell_type": "code",
   "execution_count": 32,
   "metadata": {},
   "outputs": [
    {
     "name": "stdout",
     "output_type": "stream",
     "text": [
      "Text file 'pallavi_annotation3.txt' has been created.\n"
     ]
    }
   ],
   "source": [
    "# Define the output file path\n",
    "output_file = 'pallavi_annotation3.txt'\n",
    "\n",
    "# Open the output file in write mode\n",
    "with open(output_file, 'w') as file:\n",
    "    # Iterate over each element in the Series\n",
    "    for sentence in pallavi_annotation3:\n",
    "        # Write the sentence to the file\n",
    "        file.write(sentence + '\\n')\n",
    "\n",
    "print(f\"Text file '{output_file}' has been created.\")"
   ]
  }
 ],
 "metadata": {
  "colab": {
   "collapsed_sections": [
    "thNGWZl-Y7sO"
   ],
   "provenance": []
  },
  "kernelspec": {
   "display_name": "Python 3 (ipykernel)",
   "language": "python",
   "name": "python3"
  },
  "language_info": {
   "codemirror_mode": {
    "name": "ipython",
    "version": 3
   },
   "file_extension": ".py",
   "mimetype": "text/x-python",
   "name": "python",
   "nbconvert_exporter": "python",
   "pygments_lexer": "ipython3",
   "version": "3.11.3"
  }
 },
 "nbformat": 4,
 "nbformat_minor": 4
}
