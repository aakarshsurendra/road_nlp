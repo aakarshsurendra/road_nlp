{
 "cells": [
  {
   "cell_type": "markdown",
   "id": "9c70c7b3-11b7-46c0-81ac-e4e32dd684b0",
   "metadata": {
    "jp-MarkdownHeadingCollapsed": true,
    "tags": []
   },
   "source": [
    "# init"
   ]
  },
  {
   "cell_type": "code",
   "execution_count": 49,
   "id": "50f6a09f-0866-449a-91fa-59372132c78b",
   "metadata": {
    "tags": []
   },
   "outputs": [],
   "source": [
    "import numpy as np\n",
    "import time\n",
    "import requests\n",
    "import pandas as pd\n",
    "from tqdm import tqdm\n",
    "from datetime import datetime, timedelta\n",
    "from geopy.geocoders import get_geocoder_for_service\n",
    "import openmeteo_requests\n",
    "import requests_cache\n",
    "from retry_requests import retry"
   ]
  },
  {
   "cell_type": "code",
   "execution_count": 28,
   "id": "77b43000-f67d-4a4d-8846-30ffc51e7e09",
   "metadata": {},
   "outputs": [
    {
     "name": "stdout",
     "output_type": "stream",
     "text": [
      "Requirement already satisfied: openmeteo-requests in /Users/aakarshsurendra/anaconda3/lib/python3.11/site-packages (1.2.0)\n",
      "Requirement already satisfied: openmeteo-sdk>=1.4.0 in /Users/aakarshsurendra/anaconda3/lib/python3.11/site-packages (from openmeteo-requests) (1.11.4)\n",
      "Requirement already satisfied: requests in /Users/aakarshsurendra/anaconda3/lib/python3.11/site-packages (from openmeteo-requests) (2.29.0)\n",
      "Requirement already satisfied: flatbuffers>=24.0.0 in /Users/aakarshsurendra/anaconda3/lib/python3.11/site-packages (from openmeteo-sdk>=1.4.0->openmeteo-requests) (24.3.25)\n",
      "Requirement already satisfied: charset-normalizer<4,>=2 in /Users/aakarshsurendra/anaconda3/lib/python3.11/site-packages (from requests->openmeteo-requests) (2.0.4)\n",
      "Requirement already satisfied: idna<4,>=2.5 in /Users/aakarshsurendra/anaconda3/lib/python3.11/site-packages (from requests->openmeteo-requests) (3.4)\n",
      "Requirement already satisfied: urllib3<1.27,>=1.21.1 in /Users/aakarshsurendra/anaconda3/lib/python3.11/site-packages (from requests->openmeteo-requests) (1.26.16)\n",
      "Requirement already satisfied: certifi>=2017.4.17 in /Users/aakarshsurendra/anaconda3/lib/python3.11/site-packages (from requests->openmeteo-requests) (2023.5.7)\n",
      "Requirement already satisfied: requests-cache in /Users/aakarshsurendra/anaconda3/lib/python3.11/site-packages (1.2.0)\n",
      "Requirement already satisfied: retry-requests in /Users/aakarshsurendra/anaconda3/lib/python3.11/site-packages (2.0.0)\n",
      "Requirement already satisfied: numpy in /Users/aakarshsurendra/anaconda3/lib/python3.11/site-packages (1.24.3)\n",
      "Requirement already satisfied: pandas in /Users/aakarshsurendra/anaconda3/lib/python3.11/site-packages (1.5.3)\n",
      "Requirement already satisfied: attrs>=21.2 in /Users/aakarshsurendra/anaconda3/lib/python3.11/site-packages (from requests-cache) (23.2.0)\n",
      "Requirement already satisfied: cattrs>=22.2 in /Users/aakarshsurendra/anaconda3/lib/python3.11/site-packages (from requests-cache) (23.2.3)\n",
      "Requirement already satisfied: platformdirs>=2.5 in /Users/aakarshsurendra/anaconda3/lib/python3.11/site-packages (from requests-cache) (2.5.2)\n",
      "Requirement already satisfied: requests>=2.22 in /Users/aakarshsurendra/anaconda3/lib/python3.11/site-packages (from requests-cache) (2.29.0)\n",
      "Requirement already satisfied: url-normalize>=1.4 in /Users/aakarshsurendra/anaconda3/lib/python3.11/site-packages (from requests-cache) (1.4.3)\n",
      "Requirement already satisfied: urllib3>=1.25.5 in /Users/aakarshsurendra/anaconda3/lib/python3.11/site-packages (from requests-cache) (1.26.16)\n",
      "Requirement already satisfied: python-dateutil>=2.8.1 in /Users/aakarshsurendra/anaconda3/lib/python3.11/site-packages (from pandas) (2.8.2)\n",
      "Requirement already satisfied: pytz>=2020.1 in /Users/aakarshsurendra/anaconda3/lib/python3.11/site-packages (from pandas) (2022.7)\n",
      "Requirement already satisfied: six>=1.5 in /Users/aakarshsurendra/anaconda3/lib/python3.11/site-packages (from python-dateutil>=2.8.1->pandas) (1.16.0)\n",
      "Requirement already satisfied: charset-normalizer<4,>=2 in /Users/aakarshsurendra/anaconda3/lib/python3.11/site-packages (from requests>=2.22->requests-cache) (2.0.4)\n",
      "Requirement already satisfied: idna<4,>=2.5 in /Users/aakarshsurendra/anaconda3/lib/python3.11/site-packages (from requests>=2.22->requests-cache) (3.4)\n",
      "Requirement already satisfied: certifi>=2017.4.17 in /Users/aakarshsurendra/anaconda3/lib/python3.11/site-packages (from requests>=2.22->requests-cache) (2023.5.7)\n"
     ]
    }
   ],
   "source": [
    "!pip install openmeteo-requests\n",
    "!pip install requests-cache retry-requests numpy pandas\n",
    "!pip install geopy"
   ]
  },
  {
   "cell_type": "markdown",
   "id": "e22c0ed1-e80b-447a-a578-35d753b43b90",
   "metadata": {},
   "source": [
    "## Import Dataset"
   ]
  },
  {
   "cell_type": "code",
   "execution_count": 29,
   "id": "c9a1010d-809b-4e03-98c5-3b6f9f1c167b",
   "metadata": {
    "tags": []
   },
   "outputs": [],
   "source": [
    "df = pd.read_csv('input/filtered_dataset_oneliner.csv')"
   ]
  },
  {
   "cell_type": "markdown",
   "id": "70456125-348d-4e82-b0e3-9b3f9284d556",
   "metadata": {},
   "source": [
    "## Functions"
   ]
  },
  {
   "cell_type": "code",
   "execution_count": 31,
   "id": "fa0eae3d-ca98-4c7e-8dbb-8ba93b3b20b0",
   "metadata": {},
   "outputs": [],
   "source": [
    "# Function to get Latitude and Longitudes\n",
    "def get_lat_long(place):\n",
    "    if len(place) > 30:\n",
    "        print(f\"Skipping place '{place}' as length is more than 30 characters.\")\n",
    "        return None, None\n",
    "    \n",
    "    url = f\"https://geocode.maps.co/search?q={place.replace(' ', '+')}&api_key={apikey}\"\n",
    "    response = requests.get(url)\n",
    "    if response.status_code == 200:\n",
    "        try:\n",
    "            data = response.json()\n",
    "            if data:\n",
    "                return data[0]['lat'], data[0]['lon']\n",
    "        except ValueError as e:\n",
    "            print(f\"Error parsing JSON: {e}\")\n",
    "    else:\n",
    "        print(f\"Error: {response.status_code}, {response.text}\")\n",
    "    return None, None"
   ]
  },
  {
   "cell_type": "code",
   "execution_count": 50,
   "id": "05d3f84d-eedf-43f1-a48e-9a34061f4b4b",
   "metadata": {},
   "outputs": [],
   "source": [
    "#Function to extract states\n",
    "def geocode(geocoder, config, query):\n",
    "    cls = get_geocoder_for_service(geocoder)\n",
    "    geolocator = cls(**config)\n",
    "    location = geolocator.geocode(query)\n",
    "    return location.address"
   ]
  },
  {
   "cell_type": "code",
   "execution_count": 33,
   "id": "aaeb0ef7-b790-4678-9f9e-c6bc9c1e13ed",
   "metadata": {},
   "outputs": [],
   "source": [
    "#Extracting dates and Average Weather Functions\n",
    "\n",
    "def extract_date(date_str):\n",
    "    date_str = date_str.strip() if date_str else ''  # Remove leading and trailing whitespaces, handle None\n",
    "    try:\n",
    "        return datetime.strptime(date_str, 'Updated: %b %d, %Y, %H:%M IST').strftime('%Y-%m-%d')\n",
    "    except ValueError:\n",
    "        try:\n",
    "            return datetime.strptime(date_str, '%b %d, %Y, %H:%M IST').strftime('%Y-%m-%d')\n",
    "        except ValueError:\n",
    "            return '1970-01-01'  # Return a default date for invalid dates or None\n",
    "\n",
    "def get_week_avg_weather(lat, lon, start_date, end_date):\n",
    "    if pd.isnull(lat):  # Skip rows with missing latitude\n",
    "        return None\n",
    "    \n",
    "    params = {\n",
    "        \"latitude\": lat,\n",
    "        \"longitude\": lon,\n",
    "        \"start_date\": start_date,\n",
    "        \"end_date\": end_date,\n",
    "        \"hourly\": \"temperature_2m\"\n",
    "    }\n",
    "    responses = openmeteo.weather_api(\"https://archive-api.open-meteo.com/v1/archive\", params=params)\n",
    "    response = responses[0]  # Assuming only one location is being queried\n",
    "    hourly = response.Hourly()\n",
    "    hourly_temperature_2m = hourly.Variables(0).ValuesAsNumpy()\n",
    "    return pd.Series(hourly_temperature_2m).mean()"
   ]
  },
  {
   "cell_type": "code",
   "execution_count": 34,
   "id": "6cef1bd2-8ac1-4071-9766-5a308153b685",
   "metadata": {},
   "outputs": [],
   "source": [
    "# Extracting date for precipitation\n",
    "def extract_date(date_str):\n",
    "    date_str = date_str.strip()  # Remove leading and trailing whitespaces\n",
    "    try:\n",
    "        return datetime.strptime(date_str, 'Updated: %b %d, %Y, %H:%M IST').strftime('%Y-%m-%d')\n",
    "    except ValueError:\n",
    "        return datetime.strptime(date_str, '%b %d, %Y, %H:%M IST').strftime('%Y-%m-%d')"
   ]
  },
  {
   "cell_type": "code",
   "execution_count": 35,
   "id": "b83a7944-eedc-4378-a2fd-b83651579532",
   "metadata": {},
   "outputs": [],
   "source": [
    "# Exracting Precipitation Data - 3 day average\n",
    "\n",
    "def get_precipitation_3days(lat, lon, start_date):\n",
    "    if pd.isnull(lat):  # Skip rows with missing latitude\n",
    "        return None\n",
    "    \n",
    "    total_precipitation = 0\n",
    "    for i in range(-1, 2):  # Loop for the current day and the two days before and after\n",
    "        date = (datetime.strptime(start_date, '%Y-%m-%d') + timedelta(days=i)).strftime('%Y-%m-%d')\n",
    "        params = {\n",
    "            \"latitude\": lat,\n",
    "            \"longitude\": lon,\n",
    "            \"start_date\": date,\n",
    "            \"end_date\": date,\n",
    "            \"hourly\": \"precipitation\"\n",
    "        }\n",
    "        responses = openmeteo.weather_api(\"https://archive-api.open-meteo.com/v1/archive\", params=params)\n",
    "        response = responses[0]  # Assuming only one location is being queried\n",
    "        hourly_precipitation = response.Hourly().Variables(0).ValuesAsNumpy()\n",
    "        total_precipitation += hourly_precipitation.sum()\n",
    "    \n",
    "    return total_precipitation"
   ]
  },
  {
   "cell_type": "markdown",
   "id": "aa69bf39-408e-4188-96ef-88b6f84829e6",
   "metadata": {
    "jp-MarkdownHeadingCollapsed": true,
    "tags": []
   },
   "source": [
    "# PLACE OF ACCIDENT"
   ]
  },
  {
   "cell_type": "code",
   "execution_count": 36,
   "id": "dffec903-b587-43fc-99b5-9dcb774ad1c1",
   "metadata": {
    "tags": []
   },
   "outputs": [],
   "source": [
    "# Split 'content' column by ':' and extract the first part\n",
    "df['place'] = df['content'].str.split(':').str[0].str.strip().str.title()"
   ]
  },
  {
   "cell_type": "markdown",
   "id": "0bc54572-9f2d-452d-a484-0b713bbb860b",
   "metadata": {
    "jp-MarkdownHeadingCollapsed": true,
    "tags": []
   },
   "source": [
    "# LATITUDE AND LONGITUDE"
   ]
  },
  {
   "cell_type": "code",
   "execution_count": 37,
   "id": "98176e63-a619-47c5-966a-2f51c7e68d81",
   "metadata": {
    "tags": []
   },
   "outputs": [
    {
     "name": "stderr",
     "output_type": "stream",
     "text": [
      "100%|██████████| 5/5 [00:06<00:00,  1.34s/it]"
     ]
    },
    {
     "name": "stdout",
     "output_type": "stream",
     "text": [
      "            id                                               link  \\\n",
      "5581  71099572  https://timesofindia.indiatimes.com/city/chand...   \n",
      "540   99448268  https://timesofindia.indiatimes.com/india/4-in...   \n",
      "2049  96043991  https://timesofindia.indiatimes.com/city/indor...   \n",
      "3435  90648272  https://timesofindia.indiatimes.com/city/mumba...   \n",
      "2730  78991646  https://timesofindia.indiatimes.com/city/amara...   \n",
      "\n",
      "                                                content  \\\n",
      "5581  AMBALA: At least six people were injured after...   \n",
      "540   KATHMANDU : Four Indians were killed and anoth...   \n",
      "2049  Indore: Two persons were killed and one injure...   \n",
      "3435  MUMBAI: Two second-year college students were ...   \n",
      "2730  HYDERABAD: Four red sanders smugglers were cha...   \n",
      "\n",
      "                             news_date  \\\n",
      "5581  Updated: Sep 12, 2019, 19:38 IST   \n",
      "540   Updated: Apr 13, 2023, 06:54 IST   \n",
      "2049   Updated: Dec 7, 2022, 09:29 IST   \n",
      "3435            Apr 4, 2022, 21:51 IST   \n",
      "2730            Nov 2, 2020, 09:33 IST   \n",
      "\n",
      "                                             first_line      place  \\\n",
      "5581  At least six people were injured after a car p...     Ambala   \n",
      "540   Four Indians were killed and another was serio...  Kathmandu   \n",
      "2049  Two persons were killed and one injured in thr...     Indore   \n",
      "3435  Two second-year college students were killed a...     Mumbai   \n",
      "2730  Four red sanders smugglers were charred to dea...  Hyderabad   \n",
      "\n",
      "         latitude          longitude  \n",
      "5581   30.3843674          76.770421  \n",
      "540     27.708317         85.3205817  \n",
      "2049   22.7203616         75.8681996  \n",
      "3435  19.08157715  72.88662753964906  \n",
      "2730    17.360589         78.4740613  \n"
     ]
    },
    {
     "name": "stderr",
     "output_type": "stream",
     "text": [
      "\n"
     ]
    }
   ],
   "source": [
    "with open(\"geocode_api.txt\") as apikey_file:\n",
    "    apikey = apikey_file.readline()\n",
    "# Function to get latitude and longitude for a place\n",
    "\n",
    "# Apply function to DataFrame with delay\n",
    "df['latitude'] = None\n",
    "df['longitude'] = None\n",
    "for index, row in tqdm(df.iterrows(), total=len(df)):\n",
    "    if len(row['place']) <= 30:\n",
    "        latitude, longitude = get_lat_long(row['place'])\n",
    "        df.at[index, 'latitude'] = latitude\n",
    "        df.at[index, 'longitude'] = longitude\n",
    "    else:\n",
    "        print(f\"Skipping place '{row['place']}' as length is more than 30 characters.\")\n",
    "    time.sleep(1)  # Delay of 1 second\n",
    "\n",
    "# Display the DataFrame with latitude and longitude\n",
    "print(df)"
   ]
  },
  {
   "cell_type": "markdown",
   "id": "883e208f-f5a4-4d07-b99c-d384459f0c1b",
   "metadata": {
    "jp-MarkdownHeadingCollapsed": true,
    "tags": []
   },
   "source": [
    "# STATES"
   ]
  },
  {
   "cell_type": "code",
   "execution_count": 51,
   "id": "785c31bc-fe2b-4535-83de-f3b003eb471e",
   "metadata": {
    "tags": []
   },
   "outputs": [],
   "source": [
    "place = list(df['place'])"
   ]
  },
  {
   "cell_type": "code",
   "execution_count": 52,
   "id": "189942e7-004b-4142-9652-6736e778933a",
   "metadata": {
    "tags": []
   },
   "outputs": [
    {
     "name": "stderr",
     "output_type": "stream",
     "text": [
      "Processing: 100%|██████████| 5/5 [00:02<00:00,  2.14it/s]\n"
     ]
    }
   ],
   "source": [
    "from tqdm import tqdm\n",
    "\n",
    "# Dictionary of Indian states\n",
    "indian_states = {\n",
    "    'Andaman and Nicobar Islands', 'Andhra Pradesh', 'Arunachal Pradesh', 'Assam', 'Bihar', 'Chandigarh', 'Chhattisgarh',\n",
    "    'Dadra and Nagar Haveli and Daman and Diu', 'Delhi', 'Goa', 'Gujarat', 'Haryana', 'Himachal Pradesh', 'Jammu and Kashmir',\n",
    "    'Jharkhand', 'Karnataka', 'Kerala', 'Ladakh', 'Lakshadweep', 'Madhya Pradesh', 'Maharashtra', 'Manipur', 'Meghalaya',\n",
    "    'Mizoram', 'Nagaland', 'Odisha', 'Puducherry', 'Punjab', 'Rajasthan', 'Sikkim', 'Tamil Nadu', 'Telangana', 'Tripura',\n",
    "    'Uttar Pradesh', 'Uttarakhand', 'West Bengal'\n",
    "}\n",
    "\n",
    "states = []\n",
    "\n",
    "for i in tqdm(range(len(place)), desc=\"Processing\"):\n",
    "    try:\n",
    "        split_result = geocode(\"nominatim\", dict(user_agent=\"aakarshsurendra\"), place[i]).split(',')\n",
    "        state = None\n",
    "        for part in split_result:\n",
    "            part = part.strip()\n",
    "            if part in indian_states:\n",
    "                state = part\n",
    "                break\n",
    "            elif part and not any(char.isdigit() or char.isalpha() for char in part):\n",
    "                # Skip parts that are not alphanumeric (e.g., blank, unwanted characters)\n",
    "                continue\n",
    "        states.append(state)\n",
    "    except:\n",
    "        states.append(None)"
   ]
  },
  {
   "cell_type": "code",
   "execution_count": 53,
   "id": "d27bcdaf-a249-4f6b-b179-329959f1a98a",
   "metadata": {
    "tags": []
   },
   "outputs": [],
   "source": [
    "df['state']=states"
   ]
  },
  {
   "cell_type": "code",
   "execution_count": 58,
   "id": "bf9791f4-48ad-4c1f-8994-88535be469c1",
   "metadata": {
    "tags": []
   },
   "outputs": [
    {
     "data": {
      "text/html": [
       "<div>\n",
       "<style scoped>\n",
       "    .dataframe tbody tr th:only-of-type {\n",
       "        vertical-align: middle;\n",
       "    }\n",
       "\n",
       "    .dataframe tbody tr th {\n",
       "        vertical-align: top;\n",
       "    }\n",
       "\n",
       "    .dataframe thead th {\n",
       "        text-align: right;\n",
       "    }\n",
       "</style>\n",
       "<table border=\"1\" class=\"dataframe\">\n",
       "  <thead>\n",
       "    <tr style=\"text-align: right;\">\n",
       "      <th></th>\n",
       "      <th>id</th>\n",
       "      <th>link</th>\n",
       "      <th>content</th>\n",
       "      <th>news_date</th>\n",
       "      <th>first_line</th>\n",
       "      <th>place</th>\n",
       "      <th>latitude</th>\n",
       "      <th>longitude</th>\n",
       "      <th>state</th>\n",
       "      <th>week_avg_weather</th>\n",
       "      <th>precipitation_3days</th>\n",
       "    </tr>\n",
       "  </thead>\n",
       "  <tbody>\n",
       "    <tr>\n",
       "      <th>5581</th>\n",
       "      <td>71099572</td>\n",
       "      <td>https://timesofindia.indiatimes.com/city/chand...</td>\n",
       "      <td>AMBALA: At least six people were injured after...</td>\n",
       "      <td>1970-01-01</td>\n",
       "      <td>At least six people were injured after a car p...</td>\n",
       "      <td>Ambala</td>\n",
       "      <td>30.3843674</td>\n",
       "      <td>76.770421</td>\n",
       "      <td>Haryana</td>\n",
       "      <td>13.874687</td>\n",
       "      <td>0.0</td>\n",
       "    </tr>\n",
       "    <tr>\n",
       "      <th>540</th>\n",
       "      <td>99448268</td>\n",
       "      <td>https://timesofindia.indiatimes.com/india/4-in...</td>\n",
       "      <td>KATHMANDU : Four Indians were killed and anoth...</td>\n",
       "      <td>1970-01-01</td>\n",
       "      <td>Four Indians were killed and another was serio...</td>\n",
       "      <td>Kathmandu</td>\n",
       "      <td>27.708317</td>\n",
       "      <td>85.3205817</td>\n",
       "      <td>None</td>\n",
       "      <td>10.140416</td>\n",
       "      <td>0.0</td>\n",
       "    </tr>\n",
       "    <tr>\n",
       "      <th>2049</th>\n",
       "      <td>96043991</td>\n",
       "      <td>https://timesofindia.indiatimes.com/city/indor...</td>\n",
       "      <td>Indore: Two persons were killed and one injure...</td>\n",
       "      <td>1970-01-01</td>\n",
       "      <td>Two persons were killed and one injured in thr...</td>\n",
       "      <td>Indore</td>\n",
       "      <td>22.7203616</td>\n",
       "      <td>75.8681996</td>\n",
       "      <td>Madhya Pradesh</td>\n",
       "      <td>19.730093</td>\n",
       "      <td>0.0</td>\n",
       "    </tr>\n",
       "    <tr>\n",
       "      <th>3435</th>\n",
       "      <td>90648272</td>\n",
       "      <td>https://timesofindia.indiatimes.com/city/mumba...</td>\n",
       "      <td>MUMBAI: Two second-year college students were ...</td>\n",
       "      <td>1970-01-01</td>\n",
       "      <td>Two second-year college students were killed a...</td>\n",
       "      <td>Mumbai</td>\n",
       "      <td>19.08157715</td>\n",
       "      <td>72.88662753964906</td>\n",
       "      <td>Maharashtra</td>\n",
       "      <td>24.148325</td>\n",
       "      <td>0.0</td>\n",
       "    </tr>\n",
       "    <tr>\n",
       "      <th>2730</th>\n",
       "      <td>78991646</td>\n",
       "      <td>https://timesofindia.indiatimes.com/city/amara...</td>\n",
       "      <td>HYDERABAD: Four red sanders smugglers were cha...</td>\n",
       "      <td>1970-01-01</td>\n",
       "      <td>Four red sanders smugglers were charred to dea...</td>\n",
       "      <td>Hyderabad</td>\n",
       "      <td>17.360589</td>\n",
       "      <td>78.4740613</td>\n",
       "      <td>Telangana</td>\n",
       "      <td>20.315657</td>\n",
       "      <td>0.0</td>\n",
       "    </tr>\n",
       "  </tbody>\n",
       "</table>\n",
       "</div>"
      ],
      "text/plain": [
       "            id                                               link  \\\n",
       "5581  71099572  https://timesofindia.indiatimes.com/city/chand...   \n",
       "540   99448268  https://timesofindia.indiatimes.com/india/4-in...   \n",
       "2049  96043991  https://timesofindia.indiatimes.com/city/indor...   \n",
       "3435  90648272  https://timesofindia.indiatimes.com/city/mumba...   \n",
       "2730  78991646  https://timesofindia.indiatimes.com/city/amara...   \n",
       "\n",
       "                                                content   news_date  \\\n",
       "5581  AMBALA: At least six people were injured after...  1970-01-01   \n",
       "540   KATHMANDU : Four Indians were killed and anoth...  1970-01-01   \n",
       "2049  Indore: Two persons were killed and one injure...  1970-01-01   \n",
       "3435  MUMBAI: Two second-year college students were ...  1970-01-01   \n",
       "2730  HYDERABAD: Four red sanders smugglers were cha...  1970-01-01   \n",
       "\n",
       "                                             first_line      place  \\\n",
       "5581  At least six people were injured after a car p...     Ambala   \n",
       "540   Four Indians were killed and another was serio...  Kathmandu   \n",
       "2049  Two persons were killed and one injured in thr...     Indore   \n",
       "3435  Two second-year college students were killed a...     Mumbai   \n",
       "2730  Four red sanders smugglers were charred to dea...  Hyderabad   \n",
       "\n",
       "         latitude          longitude           state  week_avg_weather  \\\n",
       "5581   30.3843674          76.770421         Haryana         13.874687   \n",
       "540     27.708317         85.3205817            None         10.140416   \n",
       "2049   22.7203616         75.8681996  Madhya Pradesh         19.730093   \n",
       "3435  19.08157715  72.88662753964906     Maharashtra         24.148325   \n",
       "2730    17.360589         78.4740613       Telangana         20.315657   \n",
       "\n",
       "      precipitation_3days  \n",
       "5581                  0.0  \n",
       "540                   0.0  \n",
       "2049                  0.0  \n",
       "3435                  0.0  \n",
       "2730                  0.0  "
      ]
     },
     "execution_count": 58,
     "metadata": {},
     "output_type": "execute_result"
    }
   ],
   "source": [
    "df"
   ]
  },
  {
   "cell_type": "markdown",
   "id": "c9d23153-51be-4d72-82fe-2f52104b11ac",
   "metadata": {
    "jp-MarkdownHeadingCollapsed": true,
    "tags": []
   },
   "source": [
    "# WEATHER AND PRECIPITATION"
   ]
  },
  {
   "cell_type": "code",
   "execution_count": 55,
   "id": "70c5a4bd-31c7-4ba5-89ec-218dca5c00e5",
   "metadata": {
    "tags": []
   },
   "outputs": [
    {
     "name": "stderr",
     "output_type": "stream",
     "text": [
      "Calculating weather: 100%|██████████| 5/5 [00:00<00:00, 403.75it/s]"
     ]
    },
    {
     "name": "stdout",
     "output_type": "stream",
     "text": [
      "          place   news_date  week_avg_weather\n",
      "5581     Ambala  1970-01-01         13.874687\n",
      "540   Kathmandu  1970-01-01         10.140416\n",
      "2049     Indore  1970-01-01         19.730093\n",
      "3435     Mumbai  1970-01-01         24.148325\n",
      "2730  Hyderabad  1970-01-01         20.315657\n"
     ]
    },
    {
     "name": "stderr",
     "output_type": "stream",
     "text": [
      "\n"
     ]
    }
   ],
   "source": [
    "# Setup the Open-Meteo API client with cache and retry on error\n",
    "cache_session = requests_cache.CachedSession('.cache', expire_after=-1)\n",
    "retry_session = retry(cache_session, retries=5, backoff_factor=0.2)\n",
    "openmeteo = openmeteo_requests.Client(session=retry_session)\n",
    "\n",
    "\n",
    "# Add a new column 'week_avg_weather' to the DataFrame\n",
    "df['news_date'] = df['news_date'].apply(extract_date)\n",
    "\n",
    "tqdm.pandas(desc=\"Calculating weather\")\n",
    "df['week_avg_weather'] = df.progress_apply(lambda row: get_week_avg_weather(row['latitude'], row['longitude'], row['news_date'], (datetime.strptime(row['news_date'], '%Y-%m-%d') + timedelta(days=7)).strftime('%Y-%m-%d')), axis=1)\n",
    "\n",
    "print(df[['place', 'news_date', 'week_avg_weather']])"
   ]
  },
  {
   "cell_type": "markdown",
   "id": "dade89ac-d853-47b1-9e14-75a5643e28ae",
   "metadata": {},
   "source": [
    "## Precipitation"
   ]
  },
  {
   "cell_type": "code",
   "execution_count": 56,
   "id": "17f5251f-d11e-4243-8bbb-5b69a6becd11",
   "metadata": {
    "tags": []
   },
   "outputs": [
    {
     "name": "stderr",
     "output_type": "stream",
     "text": [
      "100%|██████████| 5/5 [00:00<00:00, 209.06it/s]\n"
     ]
    }
   ],
   "source": [
    "# Setup the Open-Meteo API client with cache and retry on error\n",
    "cache_session = requests_cache.CachedSession('.cache', expire_after=-1)\n",
    "retry_session = retry(cache_session, retries=5, backoff_factor=0.2)\n",
    "openmeteo = openmeteo_requests.Client(session=retry_session)\n",
    "\n",
    "# Add a new column 'precipitation_3days' to the DataFrame\n",
    "df['news_date'] = df['news_date'].apply(extract_date)\n",
    "\n",
    "tqdm.pandas()\n",
    "df['precipitation_3days'] = df.progress_apply(lambda row: get_precipitation_3days(row['latitude'], row['longitude'], row['news_date']), axis=1)"
   ]
  },
  {
   "cell_type": "code",
   "execution_count": 59,
   "id": "aa007c43-a131-49bd-949c-429ed0507520",
   "metadata": {},
   "outputs": [],
   "source": [
    "df.to_csv('output/entity_extracted.csv', index = False)"
   ]
  },
  {
   "cell_type": "code",
   "execution_count": null,
   "id": "ef863f6c-836c-4346-bed5-fcc1adc401dc",
   "metadata": {
    "tags": []
   },
   "outputs": [],
   "source": [
    "import pandas as pd\n",
    "\n",
    "# Find major cities (places with more than 20 occurrences)\n",
    "major_cities = df['place'].value_counts()[df['place'].value_counts() > 20].index.tolist()\n",
    "\n",
    "# Initialize a dictionary to store combined city data\n",
    "combined_cities = {}\n",
    "\n",
    "# Iterate through each major city\n",
    "for city in major_cities:\n",
    "    # Find other cities within +/- 0.2 latitude and longitude difference\n",
    "    nearby_cities = df[(df['place'] != city) & \n",
    "                       (df['latitude'].between(df[df['place'] == city]['latitude'].iloc[0] - 0.2, \n",
    "                                               df[df['place'] == city]['latitude'].iloc[0] + 0.2)) &\n",
    "                       (df['longitude'].between(df[df['place'] == city]['longitude'].iloc[0] - 0.2, \n",
    "                                                df[df['place'] == city]['longitude'].iloc[0] + 0.2))]\n",
    "    \n",
    "    # Combine the cities into the major city\n",
    "    combined_cities[city] = nearby_cities['place'].tolist()\n",
    "\n",
    "# Update the DataFrame with the combined city names and adjust latitudes and longitudes\n",
    "for major_city, cities_to_combine in combined_cities.items():\n",
    "    # Update place names to the major city name\n",
    "    df.loc[df['place'].isin(cities_to_combine), 'place'] = major_city\n",
    "    # Update latitudes and longitudes to the major city's values\n",
    "    df.loc[df['place'] == major_city, 'latitude'] = df[df['place'] == major_city]['latitude'].mean()\n",
    "    df.loc[df['place'] == major_city, 'longitude'] = df[df['place'] == major_city]['longitude'].mean()\n",
    "\n",
    "# Save the updated DataFrame to a new Excel file\n",
    "df.to_excel('updated_cities.xlsx', index=False)\n"
   ]
  }
 ],
 "metadata": {
  "kernelspec": {
   "display_name": "Python 3 (ipykernel)",
   "language": "python",
   "name": "python3"
  },
  "language_info": {
   "codemirror_mode": {
    "name": "ipython",
    "version": 3
   },
   "file_extension": ".py",
   "mimetype": "text/x-python",
   "name": "python",
   "nbconvert_exporter": "python",
   "pygments_lexer": "ipython3",
   "version": "3.11.3"
  }
 },
 "nbformat": 4,
 "nbformat_minor": 5
}
