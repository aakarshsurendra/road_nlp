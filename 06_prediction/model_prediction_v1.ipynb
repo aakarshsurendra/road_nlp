{
 "cells": [
  {
   "cell_type": "markdown",
   "id": "85e92be1-ba67-4e1c-8490-76e74eb80821",
   "metadata": {
    "tags": []
   },
   "source": [
    "# __ init __"
   ]
  },
  {
   "cell_type": "code",
   "execution_count": 1,
   "id": "c11ce47e-64ea-49a7-b5ea-7e7249d9a6f2",
   "metadata": {
    "tags": []
   },
   "outputs": [],
   "source": [
    "import pandas as pd\n",
    "import pickle\n",
    "import regex as re\n",
    "import numpy as np\n"
   ]
  },
  {
   "cell_type": "code",
   "execution_count": 2,
   "id": "064cc8ed-1a90-477c-b7bf-21c58bb14656",
   "metadata": {
    "tags": []
   },
   "outputs": [],
   "source": [
    "import pickle\n",
    "def load_data_from_pickle(filename):\n",
    "    \"\"\"\n",
    "    Load data from a pickle file.\n",
    "    \n",
    "    Parameters:\n",
    "        filename (str): The filename of the pickle file.\n",
    "        \n",
    "    Returns:\n",
    "        The loaded data.\n",
    "    \"\"\"\n",
    "    with open(filename, 'rb') as f:\n",
    "        data = pickle.load(f)\n",
    "    print(f\"Data loaded from {filename} successfully.\")\n",
    "    return data"
   ]
  },
  {
   "cell_type": "code",
   "execution_count": 3,
   "id": "0869372a-0a38-489d-a29c-3c0c23c89614",
   "metadata": {
    "tags": []
   },
   "outputs": [
    {
     "name": "stdout",
     "output_type": "stream",
     "text": [
      "Data loaded from input/train_data.pickle successfully.\n"
     ]
    }
   ],
   "source": [
    "train_data = load_data_from_pickle(\"input/train_data.pickle\")"
   ]
  },
  {
   "cell_type": "code",
   "execution_count": 4,
   "id": "65882bdb-6901-45a3-8f1f-9ee1c65a1087",
   "metadata": {
    "tags": []
   },
   "outputs": [
    {
     "name": "stdout",
     "output_type": "stream",
     "text": [
      "Data loaded from input/test_data.pickle successfully.\n"
     ]
    }
   ],
   "source": [
    "test_data = load_data_from_pickle(\"input/test_data.pickle\")"
   ]
  },
  {
   "cell_type": "markdown",
   "id": "500e1c96-6cfc-4593-80ec-b20a1e4337f2",
   "metadata": {
    "tags": []
   },
   "source": [
    "# Predictions (Live data)"
   ]
  },
  {
   "cell_type": "markdown",
   "id": "35c29a69-08b5-4332-a2ba-c1dc8edd1873",
   "metadata": {
    "tags": []
   },
   "source": [
    "## Load Model"
   ]
  },
  {
   "cell_type": "code",
   "execution_count": 6,
   "id": "b02a7da9-cbf6-4dc7-ad32-b5faabf32851",
   "metadata": {
    "tags": []
   },
   "outputs": [],
   "source": [
    "import spacy\n",
    "test_nlp = spacy.load('./output/xlnet_800/model-best')"
   ]
  },
  {
   "cell_type": "code",
   "execution_count": 7,
   "id": "92c4eed4-e7d7-4988-9a9c-98a3d99c51c7",
   "metadata": {
    "tags": []
   },
   "outputs": [
    {
     "data": {
      "text/plain": [
       "('AGE', 'FATALITIES', 'GENDER', 'INJURED', 'REASON', 'TIME', 'VEHICLE TYPE')"
      ]
     },
     "execution_count": 7,
     "metadata": {},
     "output_type": "execute_result"
    }
   ],
   "source": [
    "test_nlp.get_pipe('ner').labels"
   ]
  },
  {
   "cell_type": "markdown",
   "id": "5175ae9b-ba69-46c8-bf2c-14189f819b87",
   "metadata": {
    "tags": []
   },
   "source": [
    "## Extract Live data and exclude test data"
   ]
  },
  {
   "cell_type": "code",
   "execution_count": 5,
   "id": "fff1e983-6031-44b8-8fb3-2ed934b75ea1",
   "metadata": {
    "tags": []
   },
   "outputs": [],
   "source": [
    "# Read the live data that needs to be classified\n",
    "df_livedata = pd.read_csv('input/filtered_dataset_oneliner.csv')"
   ]
  },
  {
   "cell_type": "markdown",
   "id": "5f844331-6527-4196-a756-b732a68a44f9",
   "metadata": {
    "tags": []
   },
   "source": [
    "## Individual sentence predictions"
   ]
  },
  {
   "cell_type": "code",
   "execution_count": 15,
   "id": "68f86607-6c76-41db-a4ac-359c8257f54f",
   "metadata": {
    "tags": []
   },
   "outputs": [],
   "source": [
    "text = test_nlp(df_livedata.First_Line[2000])\n",
    "doc = test_nlp(df_livedata.First_Line[2000])"
   ]
  },
  {
   "cell_type": "code",
   "execution_count": 18,
   "id": "c4797737-418d-4938-9e49-eb291fadb126",
   "metadata": {
    "tags": []
   },
   "outputs": [],
   "source": [
    "light_colors = {\n",
    "    \"AGE\": \"#FFDDC1\",          # Light orange\n",
    "    \"VEHICLE TYPE\": \"#D0E1F9\", # Light blue\n",
    "    \"REASON\": \"#FFB6C1\",       # Light peach\n",
    "    \"FATALITIES\": \"#C8E6C9\",   # Light green\n",
    "    \"INJURED\": \"#FFE0B2\",      # Light amber\n",
    "    \"GENDER\": \"#F0F4C3\",       # Light yellow\n",
    "    \"TIME\": \"#E1BEE7\"          # Light purple\n",
    "}"
   ]
  },
  {
   "cell_type": "code",
   "execution_count": 19,
   "id": "b54f8359-a67a-45a2-a029-a4d170367f9a",
   "metadata": {
    "tags": []
   },
   "outputs": [
    {
     "data": {
      "text/html": [
       "<span class=\"tex2jax_ignore\"><div class=\"entities\" style=\"line-height: 2.5; direction: ltr\">A \n",
       "<mark class=\"entity\" style=\"background: #FFDDC1; padding: 0.45em 0.6em; margin: 0 0.25em; line-height: 1; border-radius: 0.35em;\">\n",
       "    30-year-old\n",
       "    <span style=\"font-size: 0.8em; font-weight: bold; line-height: 1; border-radius: 0.35em; vertical-align: middle; margin-left: 0.5rem\">AGE</span>\n",
       "</mark>\n",
       " \n",
       "<mark class=\"entity\" style=\"background: #F0F4C3; padding: 0.45em 0.6em; margin: 0 0.25em; line-height: 1; border-radius: 0.35em;\">\n",
       "    man\n",
       "    <span style=\"font-size: 0.8em; font-weight: bold; line-height: 1; border-radius: 0.35em; vertical-align: middle; margin-left: 0.5rem\">GENDER</span>\n",
       "</mark>\n",
       " was killed after a \n",
       "<mark class=\"entity\" style=\"background: #FFB6C1; padding: 0.45em 0.6em; margin: 0 0.25em; line-height: 1; border-radius: 0.35em;\">\n",
       "    speeding\n",
       "    <span style=\"font-size: 0.8em; font-weight: bold; line-height: 1; border-radius: 0.35em; vertical-align: middle; margin-left: 0.5rem\">REASON</span>\n",
       "</mark>\n",
       " \n",
       "<mark class=\"entity\" style=\"background: #D0E1F9; padding: 0.45em 0.6em; margin: 0 0.25em; line-height: 1; border-radius: 0.35em;\">\n",
       "    car\n",
       "    <span style=\"font-size: 0.8em; font-weight: bold; line-height: 1; border-radius: 0.35em; vertical-align: middle; margin-left: 0.5rem\">VEHICLE TYPE</span>\n",
       "</mark>\n",
       " rammed another \n",
       "<mark class=\"entity\" style=\"background: #D0E1F9; padding: 0.45em 0.6em; margin: 0 0.25em; line-height: 1; border-radius: 0.35em;\">\n",
       "    car\n",
       "    <span style=\"font-size: 0.8em; font-weight: bold; line-height: 1; border-radius: 0.35em; vertical-align: middle; margin-left: 0.5rem\">VEHICLE TYPE</span>\n",
       "</mark>\n",
       " on Barapullah flyover late on Friday \n",
       "<mark class=\"entity\" style=\"background: #E1BEE7; padding: 0.45em 0.6em; margin: 0 0.25em; line-height: 1; border-radius: 0.35em;\">\n",
       "    night\n",
       "    <span style=\"font-size: 0.8em; font-weight: bold; line-height: 1; border-radius: 0.35em; vertical-align: middle; margin-left: 0.5rem\">TIME</span>\n",
       "</mark>\n",
       "</div></span>"
      ],
      "text/plain": [
       "<IPython.core.display.HTML object>"
      ]
     },
     "metadata": {},
     "output_type": "display_data"
    }
   ],
   "source": [
    "spacy.displacy.render(doc, style=\"ent\", jupyter=True , options={\"colors\": light_colors})"
   ]
  },
  {
   "cell_type": "code",
   "execution_count": 20,
   "id": "b8bdc221-566b-4b9d-b7c1-2265ee593dc8",
   "metadata": {
    "tags": []
   },
   "outputs": [],
   "source": [
    "predicted_entities = {(ent.start_char, ent.end_char, ent.label_) for ent in doc.ents}"
   ]
  },
  {
   "cell_type": "code",
   "execution_count": 21,
   "id": "3ea9a824-85fb-4633-b16b-093113ee6a14",
   "metadata": {
    "tags": []
   },
   "outputs": [
    {
     "name": "stdout",
     "output_type": "stream",
     "text": [
      "Entity Label (AGE) ----------------- 30-year-old\n",
      "Entity Label (GENDER) -------------- man\n",
      "Entity Label (REASON) -------------- speeding\n",
      "Entity Label (VEHICLE TYPE) -------- car\n",
      "Entity Label (VEHICLE TYPE) -------- car\n",
      "Entity Label (TIME) ---------------- night\n"
     ]
    }
   ],
   "source": [
    "for ent in doc.ents:\n",
    "    print(f'Entity Label ({ent.label_}) {\"-\"*(20 - len(ent.label_))} {ent}')"
   ]
  },
  {
   "cell_type": "markdown",
   "id": "1d146fe3-38d9-4799-a9cb-958f9e8f51de",
   "metadata": {
    "tags": []
   },
   "source": [
    "## Predictions for all live data"
   ]
  },
  {
   "cell_type": "code",
   "execution_count": 18,
   "id": "4d05fc51-8aee-4cdb-9645-9eace0f7d47e",
   "metadata": {
    "tags": []
   },
   "outputs": [
    {
     "name": "stderr",
     "output_type": "stream",
     "text": [
      "100%|██████████| 6750/6750 [05:59<00:00, 18.76it/s]\n"
     ]
    }
   ],
   "source": [
    "from tqdm import tqdm  # Import tqdm for progress visualization\n",
    "import pandas as pd\n",
    "\n",
    "def transform_set_to_dict(input_set):\n",
    "    # Convert set of tuples to dictionary\n",
    "    transformed_dict = {}\n",
    "    for key, value in input_set:\n",
    "        transformed_dict.setdefault(key, []).append(value)\n",
    "    # Flatten dictionary if value lists have length 1\n",
    "    final_dict = {key: value[0] if len(value) == 1 else value for key, value in transformed_dict.items()}\n",
    "    return final_dict\n",
    "\n",
    "# Assuming df_livedata_ is already defined and populated\n",
    "df_livedata_ = df_livedata\n",
    "\n",
    "# Iterate over DataFrame rows and collect results\n",
    "data = {\n",
    "    'ID': [],\n",
    "    'CONTENT': [],\n",
    "    'FIRST_LINE': [],\n",
    "    'PREDICTED_ENTITIES_DICT': []\n",
    "}\n",
    "\n",
    "for index, row in tqdm(df_livedata_.iterrows(), total=len(df_livedata_)):\n",
    "    text = row['First_Line']\n",
    "    doc = test_nlp(text)\n",
    "    \n",
    "    # Extract named entities and convert to dictionary\n",
    "    predicted_entities = {(ent.label_, ent) for ent in doc.ents}  # set\n",
    "    predicted_entities_dict = transform_set_to_dict(predicted_entities)  # dict\n",
    "    \n",
    "    # Append data to the dictionary\n",
    "    data['ID'].append(row['id'])\n",
    "    data['CONTENT'].append(row['content'])\n",
    "    data['FIRST_LINE'].append(row['First_Line'])\n",
    "    data['PREDICTED_ENTITIES_DICT'].append(predicted_entities_dict)\n",
    "\n",
    "# Create DataFrame\n",
    "df = pd.DataFrame(data)\n",
    "\n",
    "# Define keys and initialize lists\n",
    "keys = [\"AGE\", \"VEHICLE TYPE\", \"REASON\", \"FATALITIES\", \"INJURED\", \"GENDER\", \"TIME\"]\n",
    "empty_value = np.nan\n",
    "empty_data = {key: [] for key in keys}\n",
    "\n",
    "# Iterate through each dictionary in df.PREDICTED_ENTITIES_DICT\n",
    "for dictionary in df.PREDICTED_ENTITIES_DICT:\n",
    "    for key in keys:\n",
    "        # Append the value to the corresponding list, or 'na' if key doesn't exist\n",
    "        empty_data[key].append(dictionary.get(key, empty_value))\n",
    "\n",
    "# Create DataFrame from empty_data\n",
    "df_empty = pd.DataFrame(empty_data)\n",
    "\n",
    "# Merge DataFrames on index\n",
    "df = pd.concat([df, df_empty], axis=1)\n",
    "\n",
    "# Optionally, drop PREDICTED_ENTITIES_DICT column\n",
    "df.drop(columns=['PREDICTED_ENTITIES_DICT'], inplace=True)\n"
   ]
  },
  {
   "cell_type": "code",
   "execution_count": 19,
   "id": "c2586249-b7c1-4d91-9596-9bf5b46fb38f",
   "metadata": {
    "tags": []
   },
   "outputs": [
    {
     "data": {
      "text/html": [
       "<div>\n",
       "<style scoped>\n",
       "    .dataframe tbody tr th:only-of-type {\n",
       "        vertical-align: middle;\n",
       "    }\n",
       "\n",
       "    .dataframe tbody tr th {\n",
       "        vertical-align: top;\n",
       "    }\n",
       "\n",
       "    .dataframe thead th {\n",
       "        text-align: right;\n",
       "    }\n",
       "</style>\n",
       "<table border=\"1\" class=\"dataframe\">\n",
       "  <thead>\n",
       "    <tr style=\"text-align: right;\">\n",
       "      <th></th>\n",
       "      <th>ID</th>\n",
       "      <th>CONTENT</th>\n",
       "      <th>FIRST_LINE</th>\n",
       "      <th>AGE</th>\n",
       "      <th>VEHICLE TYPE</th>\n",
       "      <th>REASON</th>\n",
       "      <th>FATALITIES</th>\n",
       "      <th>INJURED</th>\n",
       "      <th>GENDER</th>\n",
       "      <th>TIME</th>\n",
       "    </tr>\n",
       "  </thead>\n",
       "  <tbody>\n",
       "    <tr>\n",
       "      <th>0</th>\n",
       "      <td>107938160</td>\n",
       "      <td>SULTANPUR : Three people lost their lives on F...</td>\n",
       "      <td>Three people lost their lives on Friday in a c...</td>\n",
       "      <td>NaN</td>\n",
       "      <td>(car)</td>\n",
       "      <td>NaN</td>\n",
       "      <td>(Three)</td>\n",
       "      <td>NaN</td>\n",
       "      <td>NaN</td>\n",
       "      <td>NaN</td>\n",
       "    </tr>\n",
       "    <tr>\n",
       "      <th>1</th>\n",
       "      <td>107821301</td>\n",
       "      <td>JAIPUR: Three people died in a car accident in...</td>\n",
       "      <td>Three people died in a car accident in Rajasth...</td>\n",
       "      <td>NaN</td>\n",
       "      <td>NaN</td>\n",
       "      <td>NaN</td>\n",
       "      <td>(Three)</td>\n",
       "      <td>NaN</td>\n",
       "      <td>NaN</td>\n",
       "      <td>NaN</td>\n",
       "    </tr>\n",
       "    <tr>\n",
       "      <th>2</th>\n",
       "      <td>107790964</td>\n",
       "      <td>RAICHUR: Two women killed and five others were...</td>\n",
       "      <td>Two women killed and five others were seriousl...</td>\n",
       "      <td>NaN</td>\n",
       "      <td>(car, -, bus)</td>\n",
       "      <td>(collision)</td>\n",
       "      <td>(Two)</td>\n",
       "      <td>(five)</td>\n",
       "      <td>NaN</td>\n",
       "      <td>(morning)</td>\n",
       "    </tr>\n",
       "    <tr>\n",
       "      <th>3</th>\n",
       "      <td>107737101</td>\n",
       "      <td>New Delhi: Two students were injured after a s...</td>\n",
       "      <td>Two students were injured after a speeding car...</td>\n",
       "      <td>NaN</td>\n",
       "      <td>NaN</td>\n",
       "      <td>(speeding)</td>\n",
       "      <td>NaN</td>\n",
       "      <td>(Two)</td>\n",
       "      <td>NaN</td>\n",
       "      <td>NaN</td>\n",
       "    </tr>\n",
       "    <tr>\n",
       "      <th>4</th>\n",
       "      <td>107897709</td>\n",
       "      <td>Hyderabad: A newlywed software engineer , his ...</td>\n",
       "      <td>A newlywed software engineer , his father-in-l...</td>\n",
       "      <td>NaN</td>\n",
       "      <td>NaN</td>\n",
       "      <td>(veered)</td>\n",
       "      <td>NaN</td>\n",
       "      <td>NaN</td>\n",
       "      <td>(father, -, in, -, law)</td>\n",
       "      <td>(wee)</td>\n",
       "    </tr>\n",
       "  </tbody>\n",
       "</table>\n",
       "</div>"
      ],
      "text/plain": [
       "          ID                                            CONTENT  \\\n",
       "0  107938160  SULTANPUR : Three people lost their lives on F...   \n",
       "1  107821301  JAIPUR: Three people died in a car accident in...   \n",
       "2  107790964  RAICHUR: Two women killed and five others were...   \n",
       "3  107737101  New Delhi: Two students were injured after a s...   \n",
       "4  107897709  Hyderabad: A newlywed software engineer , his ...   \n",
       "\n",
       "                                          FIRST_LINE  AGE   VEHICLE TYPE  \\\n",
       "0  Three people lost their lives on Friday in a c...  NaN          (car)   \n",
       "1  Three people died in a car accident in Rajasth...  NaN            NaN   \n",
       "2  Two women killed and five others were seriousl...  NaN  (car, -, bus)   \n",
       "3  Two students were injured after a speeding car...  NaN            NaN   \n",
       "4  A newlywed software engineer , his father-in-l...  NaN            NaN   \n",
       "\n",
       "        REASON FATALITIES INJURED                   GENDER       TIME  \n",
       "0          NaN    (Three)     NaN                      NaN        NaN  \n",
       "1          NaN    (Three)     NaN                      NaN        NaN  \n",
       "2  (collision)      (Two)  (five)                      NaN  (morning)  \n",
       "3   (speeding)        NaN   (Two)                      NaN        NaN  \n",
       "4     (veered)        NaN     NaN  (father, -, in, -, law)      (wee)  "
      ]
     },
     "execution_count": 19,
     "metadata": {},
     "output_type": "execute_result"
    }
   ],
   "source": [
    "df.head()"
   ]
  },
  {
   "cell_type": "markdown",
   "id": "742a808d-41b3-40c3-bad9-40c86c67a277",
   "metadata": {
    "tags": []
   },
   "source": [
    "## Save to csv"
   ]
  },
  {
   "cell_type": "code",
   "execution_count": 21,
   "id": "aa4f3f32-dd33-4521-8fe4-44b524fd8f8a",
   "metadata": {
    "tags": []
   },
   "outputs": [],
   "source": [
    "df.to_csv('output/predicted.csv',index = False)"
   ]
  }
 ],
 "metadata": {
  "kernelspec": {
   "display_name": "Python 3 (ipykernel)",
   "language": "python",
   "name": "python3"
  },
  "language_info": {
   "codemirror_mode": {
    "name": "ipython",
    "version": 3
   },
   "file_extension": ".py",
   "mimetype": "text/x-python",
   "name": "python",
   "nbconvert_exporter": "python",
   "pygments_lexer": "ipython3",
   "version": "3.11.3"
  }
 },
 "nbformat": 4,
 "nbformat_minor": 5
}
