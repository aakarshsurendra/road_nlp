{
 "cells": [
  {
   "cell_type": "markdown",
   "id": "85e92be1-ba67-4e1c-8490-76e74eb80821",
   "metadata": {
    "jp-MarkdownHeadingCollapsed": true,
    "tags": []
   },
   "source": [
    "# __ init __"
   ]
  },
  {
   "cell_type": "code",
   "execution_count": 10,
   "id": "c11ce47e-64ea-49a7-b5ea-7e7249d9a6f2",
   "metadata": {
    "tags": []
   },
   "outputs": [],
   "source": [
    "import pandas as pd\n",
    "import pickle\n",
    "import regex as re"
   ]
  },
  {
   "cell_type": "code",
   "execution_count": 5,
   "id": "064cc8ed-1a90-477c-b7bf-21c58bb14656",
   "metadata": {
    "tags": []
   },
   "outputs": [],
   "source": [
    "import pickle\n",
    "def load_data_from_pickle(filename):\n",
    "    \"\"\"\n",
    "    Load data from a pickle file.\n",
    "    \n",
    "    Parameters:\n",
    "        filename (str): The filename of the pickle file.\n",
    "        \n",
    "    Returns:\n",
    "        The loaded data.\n",
    "    \"\"\"\n",
    "    with open(filename, 'rb') as f:\n",
    "        data = pickle.load(f)\n",
    "    print(f\"Data loaded from {filename} successfully.\")\n",
    "    return data"
   ]
  },
  {
   "cell_type": "code",
   "execution_count": 6,
   "id": "0869372a-0a38-489d-a29c-3c0c23c89614",
   "metadata": {
    "tags": []
   },
   "outputs": [
    {
     "name": "stdout",
     "output_type": "stream",
     "text": [
      "Data loaded from train_data.pickle successfully.\n"
     ]
    }
   ],
   "source": [
    "train_data = load_data_from_pickle(\"train_data.pickle\")"
   ]
  },
  {
   "cell_type": "code",
   "execution_count": 21,
   "id": "65882bdb-6901-45a3-8f1f-9ee1c65a1087",
   "metadata": {
    "tags": []
   },
   "outputs": [
    {
     "name": "stdout",
     "output_type": "stream",
     "text": [
      "Data loaded from test_data.pickle successfully.\n"
     ]
    }
   ],
   "source": [
    "test_data = load_data_from_pickle(\"test_data.pickle\")"
   ]
  },
  {
   "cell_type": "markdown",
   "id": "500e1c96-6cfc-4593-80ec-b20a1e4337f2",
   "metadata": {
    "tags": []
   },
   "source": [
    "# Predictions (Live data)"
   ]
  },
  {
   "cell_type": "markdown",
   "id": "35c29a69-08b5-4332-a2ba-c1dc8edd1873",
   "metadata": {
    "jp-MarkdownHeadingCollapsed": true,
    "tags": []
   },
   "source": [
    "## Load Model"
   ]
  },
  {
   "cell_type": "code",
   "execution_count": 1,
   "id": "b02a7da9-cbf6-4dc7-ad32-b5faabf32851",
   "metadata": {
    "tags": []
   },
   "outputs": [],
   "source": [
    "import spacy\n",
    "test_nlp = spacy.load('./output/spacy/model-best')"
   ]
  },
  {
   "cell_type": "code",
   "execution_count": 2,
   "id": "92c4eed4-e7d7-4988-9a9c-98a3d99c51c7",
   "metadata": {
    "tags": []
   },
   "outputs": [
    {
     "data": {
      "text/plain": [
       "('AGE', 'FATALITIES', 'GENDER', 'INJURED', 'REASON', 'TIME', 'VEHICLE TYPE')"
      ]
     },
     "execution_count": 2,
     "metadata": {},
     "output_type": "execute_result"
    }
   ],
   "source": [
    "test_nlp.get_pipe('ner').labels"
   ]
  },
  {
   "cell_type": "markdown",
   "id": "5175ae9b-ba69-46c8-bf2c-14189f819b87",
   "metadata": {
    "jp-MarkdownHeadingCollapsed": true,
    "tags": []
   },
   "source": [
    "## Extract Live data and exclude test data"
   ]
  },
  {
   "cell_type": "code",
   "execution_count": 7,
   "id": "fff1e983-6031-44b8-8fb3-2ed934b75ea1",
   "metadata": {
    "tags": []
   },
   "outputs": [],
   "source": [
    "# Read the live data that needs to be classified\n",
    "df_livedata = pd.read_csv('raw_firstline.csv')"
   ]
  },
  {
   "cell_type": "code",
   "execution_count": 8,
   "id": "771e5af4-e686-49cb-9190-db4d1d1fe61e",
   "metadata": {
    "tags": []
   },
   "outputs": [],
   "source": [
    "def extract_article_id(url):\n",
    "    match = re.search(r'\\/(\\d+)\\.cms', url)\n",
    "    if match:\n",
    "        return int(match.group(1))\n",
    "    else:\n",
    "        return None"
   ]
  },
  {
   "cell_type": "code",
   "execution_count": 11,
   "id": "7ec72378-46d8-450d-a31f-6e8027db7ec1",
   "metadata": {
    "tags": []
   },
   "outputs": [],
   "source": [
    "df_livedata['id'] = df_livedata['Link'].apply(extract_article_id)"
   ]
  },
  {
   "cell_type": "code",
   "execution_count": 12,
   "id": "bc107020-7111-4d56-b665-00f3e6791a16",
   "metadata": {
    "tags": []
   },
   "outputs": [],
   "source": [
    "# File path where the annotated IDs are stored\n",
    "file_path = \"id_list_annotated.txt\"\n",
    "\n",
    "# Reading the contents of the text file into a list\n",
    "with open(file_path, 'r') as file:\n",
    "    id_list_read = file.readlines()\n",
    "\n",
    "# Removing newline characters from the elements of the list\n",
    "id_list_read = [item.strip() for item in id_list_read]\n",
    "\n",
    "# Converting the IDs from strings to integers\n",
    "id_list_read = [int(x) for x in id_list_read]\n",
    "\n",
    "# Creating a DataFrame from the list of IDs\n",
    "id_df = pd.DataFrame(id_list_read, columns=['id'])\n"
   ]
  },
  {
   "cell_type": "code",
   "execution_count": 14,
   "id": "cb9f8e6f-d9c7-4988-992a-38012b5974d6",
   "metadata": {
    "tags": []
   },
   "outputs": [],
   "source": [
    "#Filter out the ids that have been used for training\n",
    "df_livedata = df_livedata[~df_livedata['id'].isin(id_list_read)]\n",
    "\n",
    "df_livedata = df_livedata[['id','content','First_Line']]  # Only filter out the id and the first line"
   ]
  },
  {
   "cell_type": "markdown",
   "id": "5f844331-6527-4196-a756-b732a68a44f9",
   "metadata": {
    "jp-MarkdownHeadingCollapsed": true,
    "tags": []
   },
   "source": [
    "## Individual sentence predictions"
   ]
  },
  {
   "cell_type": "code",
   "execution_count": 15,
   "id": "68f86607-6c76-41db-a4ac-359c8257f54f",
   "metadata": {
    "tags": []
   },
   "outputs": [],
   "source": [
    "text = test_nlp(df_livedata.First_Line[2000])\n",
    "doc = test_nlp(df_livedata.First_Line[2000])"
   ]
  },
  {
   "cell_type": "code",
   "execution_count": 18,
   "id": "c4797737-418d-4938-9e49-eb291fadb126",
   "metadata": {
    "tags": []
   },
   "outputs": [],
   "source": [
    "light_colors = {\n",
    "    \"AGE\": \"#FFDDC1\",          # Light orange\n",
    "    \"VEHICLE TYPE\": \"#D0E1F9\", # Light blue\n",
    "    \"REASON\": \"#FFB6C1\",       # Light peach\n",
    "    \"FATALITIES\": \"#C8E6C9\",   # Light green\n",
    "    \"INJURED\": \"#FFE0B2\",      # Light amber\n",
    "    \"GENDER\": \"#F0F4C3\",       # Light yellow\n",
    "    \"TIME\": \"#E1BEE7\"          # Light purple\n",
    "}"
   ]
  },
  {
   "cell_type": "code",
   "execution_count": 19,
   "id": "b54f8359-a67a-45a2-a029-a4d170367f9a",
   "metadata": {
    "tags": []
   },
   "outputs": [
    {
     "data": {
      "text/html": [
       "<span class=\"tex2jax_ignore\"><div class=\"entities\" style=\"line-height: 2.5; direction: ltr\">A \n",
       "<mark class=\"entity\" style=\"background: #FFDDC1; padding: 0.45em 0.6em; margin: 0 0.25em; line-height: 1; border-radius: 0.35em;\">\n",
       "    30-year-old\n",
       "    <span style=\"font-size: 0.8em; font-weight: bold; line-height: 1; border-radius: 0.35em; vertical-align: middle; margin-left: 0.5rem\">AGE</span>\n",
       "</mark>\n",
       " \n",
       "<mark class=\"entity\" style=\"background: #F0F4C3; padding: 0.45em 0.6em; margin: 0 0.25em; line-height: 1; border-radius: 0.35em;\">\n",
       "    man\n",
       "    <span style=\"font-size: 0.8em; font-weight: bold; line-height: 1; border-radius: 0.35em; vertical-align: middle; margin-left: 0.5rem\">GENDER</span>\n",
       "</mark>\n",
       " was killed after a \n",
       "<mark class=\"entity\" style=\"background: #FFB6C1; padding: 0.45em 0.6em; margin: 0 0.25em; line-height: 1; border-radius: 0.35em;\">\n",
       "    speeding\n",
       "    <span style=\"font-size: 0.8em; font-weight: bold; line-height: 1; border-radius: 0.35em; vertical-align: middle; margin-left: 0.5rem\">REASON</span>\n",
       "</mark>\n",
       " \n",
       "<mark class=\"entity\" style=\"background: #D0E1F9; padding: 0.45em 0.6em; margin: 0 0.25em; line-height: 1; border-radius: 0.35em;\">\n",
       "    car\n",
       "    <span style=\"font-size: 0.8em; font-weight: bold; line-height: 1; border-radius: 0.35em; vertical-align: middle; margin-left: 0.5rem\">VEHICLE TYPE</span>\n",
       "</mark>\n",
       " rammed another \n",
       "<mark class=\"entity\" style=\"background: #D0E1F9; padding: 0.45em 0.6em; margin: 0 0.25em; line-height: 1; border-radius: 0.35em;\">\n",
       "    car\n",
       "    <span style=\"font-size: 0.8em; font-weight: bold; line-height: 1; border-radius: 0.35em; vertical-align: middle; margin-left: 0.5rem\">VEHICLE TYPE</span>\n",
       "</mark>\n",
       " on Barapullah flyover late on Friday \n",
       "<mark class=\"entity\" style=\"background: #E1BEE7; padding: 0.45em 0.6em; margin: 0 0.25em; line-height: 1; border-radius: 0.35em;\">\n",
       "    night\n",
       "    <span style=\"font-size: 0.8em; font-weight: bold; line-height: 1; border-radius: 0.35em; vertical-align: middle; margin-left: 0.5rem\">TIME</span>\n",
       "</mark>\n",
       "</div></span>"
      ],
      "text/plain": [
       "<IPython.core.display.HTML object>"
      ]
     },
     "metadata": {},
     "output_type": "display_data"
    }
   ],
   "source": [
    "spacy.displacy.render(doc, style=\"ent\", jupyter=True , options={\"colors\": light_colors})"
   ]
  },
  {
   "cell_type": "code",
   "execution_count": 20,
   "id": "b8bdc221-566b-4b9d-b7c1-2265ee593dc8",
   "metadata": {
    "tags": []
   },
   "outputs": [],
   "source": [
    "predicted_entities = {(ent.start_char, ent.end_char, ent.label_) for ent in doc.ents}"
   ]
  },
  {
   "cell_type": "code",
   "execution_count": 21,
   "id": "3ea9a824-85fb-4633-b16b-093113ee6a14",
   "metadata": {
    "tags": []
   },
   "outputs": [
    {
     "name": "stdout",
     "output_type": "stream",
     "text": [
      "Entity Label (AGE) ----------------- 30-year-old\n",
      "Entity Label (GENDER) -------------- man\n",
      "Entity Label (REASON) -------------- speeding\n",
      "Entity Label (VEHICLE TYPE) -------- car\n",
      "Entity Label (VEHICLE TYPE) -------- car\n",
      "Entity Label (TIME) ---------------- night\n"
     ]
    }
   ],
   "source": [
    "for ent in doc.ents:\n",
    "    print(f'Entity Label ({ent.label_}) {\"-\"*(20 - len(ent.label_))} {ent}')"
   ]
  },
  {
   "cell_type": "markdown",
   "id": "1d146fe3-38d9-4799-a9cb-958f9e8f51de",
   "metadata": {
    "jp-MarkdownHeadingCollapsed": true,
    "tags": []
   },
   "source": [
    "## Predictions for all live data"
   ]
  },
  {
   "cell_type": "code",
   "execution_count": 22,
   "id": "4d05fc51-8aee-4cdb-9645-9eace0f7d47e",
   "metadata": {
    "tags": []
   },
   "outputs": [
    {
     "name": "stderr",
     "output_type": "stream",
     "text": [
      "  0%|                                                   | 0/100 [00:00<?, ?it/s]huggingface/tokenizers: The current process just got forked, after parallelism has already been used. Disabling parallelism to avoid deadlocks...\n",
      "To disable this warning, you can either:\n",
      "\t- Avoid using `tokenizers` before the fork if possible\n",
      "\t- Explicitly set the environment variable TOKENIZERS_PARALLELISM=(true | false)\n",
      "100%|█████████████████████████████████████████| 100/100 [00:05<00:00, 16.82it/s]\n"
     ]
    }
   ],
   "source": [
    "from tqdm import tqdm  # Import tqdm for progress visualization\n",
    "import pandas as pd\n",
    "\n",
    "def transform_set_to_dict(input_set):\n",
    "    # Convert set of tuples to dictionary\n",
    "    transformed_dict = {}\n",
    "    for key, value in input_set:\n",
    "        transformed_dict.setdefault(key, []).append(value)\n",
    "    # Flatten dictionary if value lists have length 1\n",
    "    final_dict = {key: value[0] if len(value) == 1 else value for key, value in transformed_dict.items()}\n",
    "    return final_dict\n",
    "\n",
    "# Assuming df_livedata_ is already defined and populated\n",
    "df_livedata_ = df_livedata[1000:1100]\n",
    "\n",
    "# Iterate over DataFrame rows and collect results\n",
    "data = {\n",
    "    'ID': [],\n",
    "    'CONTENT': [],\n",
    "    'FIRST_LINE': [],\n",
    "    'PREDICTED_ENTITIES_DICT': []\n",
    "}\n",
    "\n",
    "for index, row in tqdm(df_livedata_.iterrows(), total=len(df_livedata_)):\n",
    "    text = row['First_Line']\n",
    "    doc = test_nlp(text)\n",
    "    \n",
    "    # Extract named entities and convert to dictionary\n",
    "    predicted_entities = {(ent.label_, ent) for ent in doc.ents}  # set\n",
    "    predicted_entities_dict = transform_set_to_dict(predicted_entities)  # dict\n",
    "    \n",
    "    # Append data to the dictionary\n",
    "    data['ID'].append(row['id'])\n",
    "    data['CONTENT'].append(row['content'])\n",
    "    data['FIRST_LINE'].append(row['First_Line'])\n",
    "    data['PREDICTED_ENTITIES_DICT'].append(predicted_entities_dict)\n",
    "\n",
    "# Create DataFrame\n",
    "df = pd.DataFrame(data)\n",
    "\n",
    "# Define keys and initialize lists\n",
    "keys = [\"AGE\", \"VEHICLE TYPE\", \"REASON\", \"FATALITIES\", \"INJURED\", \"GENDER\", \"TIME\"]\n",
    "empty_value = 'na'\n",
    "empty_data = {key: [] for key in keys}\n",
    "\n",
    "# Iterate through each dictionary in df.PREDICTED_ENTITIES_DICT\n",
    "for dictionary in df.PREDICTED_ENTITIES_DICT:\n",
    "    for key in keys:\n",
    "        # Append the value to the corresponding list, or 'na' if key doesn't exist\n",
    "        empty_data[key].append(dictionary.get(key, empty_value))\n",
    "\n",
    "# Create DataFrame from empty_data\n",
    "df_empty = pd.DataFrame(empty_data)\n",
    "\n",
    "# Merge DataFrames on index\n",
    "df = pd.concat([df, df_empty], axis=1)\n",
    "\n",
    "# Optionally, drop PREDICTED_ENTITIES_DICT column\n",
    "df.drop(columns=['PREDICTED_ENTITIES_DICT'], inplace=True)\n"
   ]
  },
  {
   "cell_type": "code",
   "execution_count": 23,
   "id": "c2586249-b7c1-4d91-9596-9bf5b46fb38f",
   "metadata": {
    "tags": []
   },
   "outputs": [
    {
     "data": {
      "text/html": [
       "<div>\n",
       "<style scoped>\n",
       "    .dataframe tbody tr th:only-of-type {\n",
       "        vertical-align: middle;\n",
       "    }\n",
       "\n",
       "    .dataframe tbody tr th {\n",
       "        vertical-align: top;\n",
       "    }\n",
       "\n",
       "    .dataframe thead th {\n",
       "        text-align: right;\n",
       "    }\n",
       "</style>\n",
       "<table border=\"1\" class=\"dataframe\">\n",
       "  <thead>\n",
       "    <tr style=\"text-align: right;\">\n",
       "      <th></th>\n",
       "      <th>ID</th>\n",
       "      <th>CONTENT</th>\n",
       "      <th>FIRST_LINE</th>\n",
       "      <th>AGE</th>\n",
       "      <th>VEHICLE TYPE</th>\n",
       "      <th>REASON</th>\n",
       "      <th>FATALITIES</th>\n",
       "      <th>INJURED</th>\n",
       "      <th>GENDER</th>\n",
       "      <th>TIME</th>\n",
       "    </tr>\n",
       "  </thead>\n",
       "  <tbody>\n",
       "    <tr>\n",
       "      <th>0</th>\n",
       "      <td>83674834</td>\n",
       "      <td>New Delhi: A 30-year-old man was killed after ...</td>\n",
       "      <td>A 30-year-old man was killed after a speeding ...</td>\n",
       "      <td>(30, -, year, -, old)</td>\n",
       "      <td>[(car), (car)]</td>\n",
       "      <td>(speeding)</td>\n",
       "      <td>na</td>\n",
       "      <td>na</td>\n",
       "      <td>(man)</td>\n",
       "      <td>(night)</td>\n",
       "    </tr>\n",
       "    <tr>\n",
       "      <th>1</th>\n",
       "      <td>96313089</td>\n",
       "      <td>Bhopal: A 61-year-old man, who was injured in ...</td>\n",
       "      <td>A 61-year-old man, who was injured in a car-SU...</td>\n",
       "      <td>(61, -, year, -, old)</td>\n",
       "      <td>[(SUV), (car)]</td>\n",
       "      <td>na</td>\n",
       "      <td>na</td>\n",
       "      <td>na</td>\n",
       "      <td>(man)</td>\n",
       "      <td>na</td>\n",
       "    </tr>\n",
       "    <tr>\n",
       "      <th>2</th>\n",
       "      <td>79997626</td>\n",
       "      <td>KOTA : Five people were killed and seven injur...</td>\n",
       "      <td>Five people were killed and seven injured afte...</td>\n",
       "      <td>na</td>\n",
       "      <td>(car)</td>\n",
       "      <td>na</td>\n",
       "      <td>(Five)</td>\n",
       "      <td>(seven)</td>\n",
       "      <td>na</td>\n",
       "      <td>na</td>\n",
       "    </tr>\n",
       "    <tr>\n",
       "      <th>3</th>\n",
       "      <td>94161346</td>\n",
       "      <td>Panaji: Porvorim police on Monday registered a...</td>\n",
       "      <td>Porvorim police on Monday registered a case of...</td>\n",
       "      <td>na</td>\n",
       "      <td>(car)</td>\n",
       "      <td>[(negligent), (rash)]</td>\n",
       "      <td>na</td>\n",
       "      <td>na</td>\n",
       "      <td>na</td>\n",
       "      <td>na</td>\n",
       "    </tr>\n",
       "    <tr>\n",
       "      <th>4</th>\n",
       "      <td>79880005</td>\n",
       "      <td>PALANPUR: Three teachers including a woman wer...</td>\n",
       "      <td>Three teachers including a woman were killed w...</td>\n",
       "      <td>na</td>\n",
       "      <td>(car)</td>\n",
       "      <td>na</td>\n",
       "      <td>(Three)</td>\n",
       "      <td>na</td>\n",
       "      <td>(woman)</td>\n",
       "      <td>(morning)</td>\n",
       "    </tr>\n",
       "  </tbody>\n",
       "</table>\n",
       "</div>"
      ],
      "text/plain": [
       "         ID                                            CONTENT  \\\n",
       "0  83674834  New Delhi: A 30-year-old man was killed after ...   \n",
       "1  96313089  Bhopal: A 61-year-old man, who was injured in ...   \n",
       "2  79997626  KOTA : Five people were killed and seven injur...   \n",
       "3  94161346  Panaji: Porvorim police on Monday registered a...   \n",
       "4  79880005  PALANPUR: Three teachers including a woman wer...   \n",
       "\n",
       "                                          FIRST_LINE                    AGE  \\\n",
       "0  A 30-year-old man was killed after a speeding ...  (30, -, year, -, old)   \n",
       "1  A 61-year-old man, who was injured in a car-SU...  (61, -, year, -, old)   \n",
       "2  Five people were killed and seven injured afte...                     na   \n",
       "3  Porvorim police on Monday registered a case of...                     na   \n",
       "4  Three teachers including a woman were killed w...                     na   \n",
       "\n",
       "     VEHICLE TYPE                 REASON FATALITIES  INJURED   GENDER  \\\n",
       "0  [(car), (car)]             (speeding)         na       na    (man)   \n",
       "1  [(SUV), (car)]                     na         na       na    (man)   \n",
       "2           (car)                     na     (Five)  (seven)       na   \n",
       "3           (car)  [(negligent), (rash)]         na       na       na   \n",
       "4           (car)                     na    (Three)       na  (woman)   \n",
       "\n",
       "        TIME  \n",
       "0    (night)  \n",
       "1         na  \n",
       "2         na  \n",
       "3         na  \n",
       "4  (morning)  "
      ]
     },
     "execution_count": 23,
     "metadata": {},
     "output_type": "execute_result"
    }
   ],
   "source": [
    "df.head()"
   ]
  },
  {
   "cell_type": "markdown",
   "id": "742a808d-41b3-40c3-bad9-40c86c67a277",
   "metadata": {
    "jp-MarkdownHeadingCollapsed": true,
    "tags": []
   },
   "source": [
    "## Save to csv"
   ]
  },
  {
   "cell_type": "code",
   "execution_count": null,
   "id": "aa4f3f32-dd33-4521-8fe4-44b524fd8f8a",
   "metadata": {},
   "outputs": [],
   "source": [
    "df.to_csv('predicted.csv')"
   ]
  }
 ],
 "metadata": {
  "kernelspec": {
   "display_name": "Python 3 (ipykernel)",
   "language": "python",
   "name": "python3"
  },
  "language_info": {
   "codemirror_mode": {
    "name": "ipython",
    "version": 3
   },
   "file_extension": ".py",
   "mimetype": "text/x-python",
   "name": "python",
   "nbconvert_exporter": "python",
   "pygments_lexer": "ipython3",
   "version": "3.11.5"
  }
 },
 "nbformat": 4,
 "nbformat_minor": 5
}
