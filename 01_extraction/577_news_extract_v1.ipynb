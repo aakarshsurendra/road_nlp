{
  "cells": [
    {
      "cell_type": "code",
      "execution_count": 1,
      "metadata": {
        "colab": {
          "base_uri": "https://localhost:8080/"
        },
        "id": "k-gmWKA2azcJ",
        "outputId": "d65519bf-26dc-4823-a633-93bfae9b3c9e"
      },
      "outputs": [
        {
          "ename": "NameError",
          "evalue": "name 'scrape_links' is not defined",
          "output_type": "error",
          "traceback": [
            "\u001b[0;31m---------------------------------------------------------------------------\u001b[0m",
            "\u001b[0;31mNameError\u001b[0m                                 Traceback (most recent call last)",
            "\u001b[1;32m/Users/aakarshsurendra/Desktop/Project/CSUF Projects/ISDS 577/Group Project/NLP/Code/577_news_extract_v1.ipynb Cell 1\u001b[0m line \u001b[0;36m3\n\u001b[1;32m      <a href='vscode-notebook-cell:/Users/aakarshsurendra/Desktop/Project/CSUF%20Projects/ISDS%20577/Group%20Project/NLP/Code/577_news_extract_v1.ipynb#W0sZmlsZQ%3D%3D?line=0'>1</a>\u001b[0m \u001b[39m# Example usage:\u001b[39;00m\n\u001b[1;32m      <a href='vscode-notebook-cell:/Users/aakarshsurendra/Desktop/Project/CSUF%20Projects/ISDS%20577/Group%20Project/NLP/Code/577_news_extract_v1.ipynb#W0sZmlsZQ%3D%3D?line=1'>2</a>\u001b[0m \u001b[39m# Scrape links from page 1 to page 4\u001b[39;00m\n\u001b[0;32m----> <a href='vscode-notebook-cell:/Users/aakarshsurendra/Desktop/Project/CSUF%20Projects/ISDS%20577/Group%20Project/NLP/Code/577_news_extract_v1.ipynb#W0sZmlsZQ%3D%3D?line=2'>3</a>\u001b[0m scrape_links(\u001b[39m1\u001b[39m, \u001b[39m500\u001b[39m, \u001b[39mFalse\u001b[39;00m)\n\u001b[1;32m      <a href='vscode-notebook-cell:/Users/aakarshsurendra/Desktop/Project/CSUF%20Projects/ISDS%20577/Group%20Project/NLP/Code/577_news_extract_v1.ipynb#W0sZmlsZQ%3D%3D?line=4'>5</a>\u001b[0m \u001b[39m# Scrape links from page 1 to all available pages\u001b[39;00m\n\u001b[1;32m      <a href='vscode-notebook-cell:/Users/aakarshsurendra/Desktop/Project/CSUF%20Projects/ISDS%20577/Group%20Project/NLP/Code/577_news_extract_v1.ipynb#W0sZmlsZQ%3D%3D?line=5'>6</a>\u001b[0m \u001b[39m# scrape_links(1, 20, loop_all=True)\u001b[39;00m\n",
            "\u001b[0;31mNameError\u001b[0m: name 'scrape_links' is not defined"
          ]
        }
      ],
      "source": [
        "# Example usage:\n",
        "# Scrape links from page 1 to page 4\n",
        "scrape_links(1, 500, False)\n",
        "\n",
        "# Scrape links from page 1 to all available pages\n",
        "# scrape_links(1, 20, loop_all=True)"
      ]
    },
    {
      "cell_type": "code",
      "execution_count": 111,
      "metadata": {
        "id": "_GxEzNNDW3Y-"
      },
      "outputs": [],
      "source": [
        "df = pd.read_csv('link_list.csv')\n",
        "link_list = df.iloc[:,0]"
      ]
    },
    {
      "cell_type": "code",
      "execution_count": 112,
      "metadata": {
        "colab": {
          "base_uri": "https://localhost:8080/"
        },
        "id": "eEpaX1RtW4bG",
        "outputId": "f181792e-1f9e-4b26-a493-42b78d0c7fde"
      },
      "outputs": [
        {
          "data": {
            "text/plain": [
              "9968"
            ]
          },
          "execution_count": 112,
          "metadata": {},
          "output_type": "execute_result"
        }
      ],
      "source": [
        "len(link_list)"
      ]
    },
    {
      "cell_type": "code",
      "execution_count": null,
      "metadata": {
        "colab": {
          "base_uri": "https://localhost:8080/"
        },
        "id": "w2eRKyK5w6fm",
        "outputId": "a62ff4d4-1eae-4780-bed8-2686430f51af"
      },
      "outputs": [
        {
          "name": "stderr",
          "output_type": "stream",
          "text": [
            "Processing links:   1%|          | 117/9968 [01:30<5:25:03,  1.98s/it]"
          ]
        }
      ],
      "source": [
        "import pandas as pd\n",
        "import requests\n",
        "from bs4 import BeautifulSoup\n",
        "from tqdm import tqdm\n",
        "import re\n",
        "\n",
        "# Assuming News_list contains the extracted news content as per your provided code\n",
        "# I'm assuming you have already initialized News_list as an empty list before using it in your code.\n",
        "\n",
        "News_list = []\n",
        "News_date = []\n",
        "\n",
        "df = pd.read_csv('link_list.csv')\n",
        "link_list = df.iloc[:,0]\n",
        "\n",
        "# Your provided code for extracting news content from links\n",
        "for link_href in tqdm(link_list, desc=\"Processing links\"):\n",
        "  # soup\n",
        "  try:\n",
        "    article_request = requests.get(link_href)\n",
        "    article_status_code = article_request.status_code\n",
        "    article_soup = BeautifulSoup(article_request.content, \"html.parser\")\n",
        "  except:\n",
        "    News_date.append(\"NA\")\n",
        "    News_list.append(\"NA\")\n",
        "    continue\n",
        "\n",
        "  # news content\n",
        "  class_content = article_soup.select_one('._s30J.clearfix')\n",
        "\n",
        "  if class_content:\n",
        "    news_content = ' '.join(class_content.stripped_strings).replace('\\xa0', ' ')\n",
        "    News_list.append(news_content)\n",
        "  else:\n",
        "    News_list.append(\"NA\")  # Append empty element to the list\n",
        "\n",
        "  # # News date\n",
        "  date_element = article_soup.find(class_=\"xf8Pm byline\")\n",
        "  try:\n",
        "    date_updated = date_element.span.text\n",
        "    # pattern = r'Updated:\\s+([A-Za-z]+)\\s+(\\d+),\\s+(\\d{4}),\\s+(\\d+:\\d+)\\s+IST'\n",
        "    # date_updated = re.match(pattern, date_updated)\n",
        "    # news_date = date_updated[0]\n",
        "    News_date.append(date_updated)\n",
        "  except:\n",
        "    news_date = 'NA'\n",
        "    News_date.append(news_date)"
      ]
    },
    {
      "cell_type": "code",
      "execution_count": null,
      "metadata": {
        "id": "TF4H2MyfW8a5"
      },
      "outputs": [],
      "source": [
        "print(f'News_list: {len(News_list)}')\n",
        "print(f'News_date: {len(News_date)}')"
      ]
    },
    {
      "cell_type": "code",
      "execution_count": null,
      "metadata": {
        "id": "kjNPwDT8WlS2"
      },
      "outputs": [],
      "source": [
        "data = create_dataframe([link_list,News_list,News_date],['Link','content','News_date'])"
      ]
    },
    {
      "cell_type": "code",
      "execution_count": null,
      "metadata": {
        "id": "gxQxR__Rw66T"
      },
      "outputs": [],
      "source": [
        "data.to_csv('data_road.csv', index=True)"
      ]
    },
    {
      "cell_type": "markdown",
      "metadata": {
        "id": "rFvnNU2vZHzW"
      },
      "source": [
        "# Testing date"
      ]
    },
    {
      "cell_type": "code",
      "execution_count": 86,
      "metadata": {
        "id": "s2XxX_sKZGBj"
      },
      "outputs": [],
      "source": [
        "link = 'https://timesofindia.indiatimes.com/city/delhi/3-die-in-road-accidents-in-delhi-hitandrun-cases/articleshow/107540044.cms'"
      ]
    },
    {
      "cell_type": "code",
      "execution_count": 88,
      "metadata": {
        "id": "gPzC0tKPZPcx"
      },
      "outputs": [],
      "source": [
        "article_request = requests.get(link)\n",
        "article_status_code = article_request.status_code\n",
        "article_soup = BeautifulSoup(article_request.content, \"html.parser\")"
      ]
    },
    {
      "cell_type": "code",
      "execution_count": 97,
      "metadata": {
        "id": "bFPtUX_PZPfB"
      },
      "outputs": [],
      "source": [
        "date_element = article_soup.find(class_=\"xf8Pm byline\")\n",
        "\n",
        "date_updated = date_element.span.text\n",
        "pattern = r'Updated:\\s+([A-Za-z]+)\\s+(\\d+),\\s+(\\d{4}),\\s+(\\d+:\\d+)\\s+IST'\n",
        "date_updated = re.match(pattern, date_updated)\n",
        "# news_date = date_updated[0]\n",
        "# News_date.append(news_date)"
      ]
    },
    {
      "cell_type": "code",
      "execution_count": 98,
      "metadata": {
        "id": "oHHfdliQZPhX"
      },
      "outputs": [],
      "source": [
        "date_updated"
      ]
    },
    {
      "cell_type": "code",
      "execution_count": 92,
      "metadata": {
        "id": "w1CmVRS7Zk3N"
      },
      "outputs": [],
      "source": [
        "date_updated = date_element.span.text"
      ]
    },
    {
      "cell_type": "markdown",
      "metadata": {
        "id": "wmrVOUT6Xf4L"
      },
      "source": [
        "# Functions - Do not delete"
      ]
    },
    {
      "cell_type": "code",
      "execution_count": 104,
      "metadata": {
        "id": "PfTbEH3qVNOf"
      },
      "outputs": [],
      "source": [
        "def create_dataframe(data_lists, column_names):\n",
        "    \"\"\"\n",
        "    Create a DataFrame from lists of data and column names.\n",
        "\n",
        "    Args:\n",
        "    - data_lists (list of lists): Lists containing data for each column.\n",
        "    - column_names (list of str): Names of the columns.\n",
        "\n",
        "    Returns:\n",
        "    - df (DataFrame): Created DataFrame.\n",
        "    \"\"\"\n",
        "    # Create a dictionary with column names as keys and lists as values\n",
        "    data_dict = {col: data for col, data in zip(column_names, data_lists)}\n",
        "\n",
        "    # Create DataFrame from the dictionary\n",
        "    df = pd.DataFrame(data_dict)\n",
        "\n",
        "    return df\n"
      ]
    },
    {
      "cell_type": "code",
      "execution_count": 107,
      "metadata": {
        "id": "1SH-daGUa4Tk"
      },
      "outputs": [],
      "source": [
        "# Get links\n",
        "\n",
        "import requests\n",
        "from bs4 import BeautifulSoup\n",
        "import csv\n",
        "from tqdm import tqdm\n",
        "import pandas as pd\n",
        "\n",
        "def create_csv_if_not_exists(filename):\n",
        "    try:\n",
        "        with open(filename, 'x') as file:\n",
        "            pass\n",
        "    except FileExistsError:\n",
        "        pass\n",
        "\n",
        "def scrape_links(start_page, end_page, loop_all=False):\n",
        "    # base_url = \"https://timesofindia.indiatimes.com/topic/Accident\"\n",
        "    base_url = 'https://m.timesofindia.com/topic/car-accident'\n",
        "    links_set = set()  # Use a set to store unique links\n",
        "    links_new = []\n",
        "    create_csv_if_not_exists('link_list.csv')\n",
        "\n",
        "    with open('link_list.csv', 'r', newline='', encoding='utf-8') as file:\n",
        "        reader = csv.reader(file)\n",
        "        for row in reader:\n",
        "            links_set.add(row[0])\n",
        "\n",
        "    print(f'length of links_set => {len(links_set)}')\n",
        "    # Determine the range of pages\n",
        "    if loop_all:\n",
        "        end_page = 155000  # Set a large number to loop infinitely\n",
        "        max_value = end_page\n",
        "    else:\n",
        "        max_value = end_page\n",
        "\n",
        "    page_num = start_page\n",
        "\n",
        "    # Loop until the page number exceeds the end_page\n",
        "\n",
        "    with tqdm(total=max_value) as pbar:\n",
        "        # Start the loop\n",
        "        while page_num <= end_page:\n",
        "            pbar.update(1)\n",
        "            url = f\"{base_url}/{page_num}\"\n",
        "\n",
        "            try:\n",
        "                page_request = requests.get(url)\n",
        "                page_request.raise_for_status()  # Raise an error for HTTP errors\n",
        "                soup = BeautifulSoup(page_request.content, \"html.parser\")\n",
        "                a_tags = soup.select('div.uwU81 a[href]')\n",
        "                for a_tag in a_tags:\n",
        "                    link_href = a_tag['href']\n",
        "                    if link_href not in links_set:  # Check if the link is not already present\n",
        "                        links_new.append([link_href])  # Add the link to the set\n",
        "                        links_set.add(link_href)\n",
        "            except requests.exceptions.RequestException as e:\n",
        "                print(\"Error:\", e)\n",
        "                break  # Break the loop if an error occurs\n",
        "\n",
        "            page_num += 1  # Move to the next page\n",
        "\n",
        "    print(f'found {len(links_new)} number of links that are new and need to be added')\n",
        "\n",
        "    # Write new links to CSV file\n",
        "    with open('link_list.csv', 'a', newline='', encoding='utf-8') as file:\n",
        "        writer = csv.writer(file)\n",
        "        writer.writerows(links_new)\n",
        "\n",
        "    print(\"Links scraped and saved successfully!\")\n",
        "\n",
        "# # Example usage:\n",
        "# # Scrape links from page 1 to page 4\n",
        "# scrape_links(1, 10, False)\n",
        "\n",
        "# # Scrape links from page 1 to all available pages\n",
        "# # scrape_links(1, 20, loop_all=True)\n"
      ]
    }
  ],
  "metadata": {
    "colab": {
      "provenance": []
    },
    "kernelspec": {
      "display_name": "Python 3",
      "name": "python3"
    },
    "language_info": {
      "codemirror_mode": {
        "name": "ipython",
        "version": 3
      },
      "file_extension": ".py",
      "mimetype": "text/x-python",
      "name": "python",
      "nbconvert_exporter": "python",
      "pygments_lexer": "ipython3",
      "version": "3.11.1"
    }
  },
  "nbformat": 4,
  "nbformat_minor": 0
}
