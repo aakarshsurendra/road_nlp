{
 "cells": [
  {
   "cell_type": "markdown",
   "id": "3a5e8985-0036-49cc-9912-d2e736b86371",
   "metadata": {
    "tags": []
   },
   "source": [
    "# Install packages"
   ]
  },
  {
   "cell_type": "code",
   "execution_count": 1,
   "id": "249829be-53f7-4b19-b2b2-bfb17d62b568",
   "metadata": {
    "tags": []
   },
   "outputs": [],
   "source": [
    "# !pip install -q openai"
   ]
  },
  {
   "cell_type": "markdown",
   "id": "ce041c19-e250-4a62-a1ed-62321bbaac3a",
   "metadata": {
    "tags": []
   },
   "source": [
    "# Import packages"
   ]
  },
  {
   "cell_type": "code",
   "execution_count": 292,
   "id": "50d86fdd-8646-431e-9d0a-00cfb19debf9",
   "metadata": {
    "tags": []
   },
   "outputs": [],
   "source": [
    "from openai import OpenAI\n",
    "import openai\n",
    "import os"
   ]
  },
  {
   "cell_type": "markdown",
   "id": "3f40d3b7-aff5-4a38-a04d-86b14ea099cb",
   "metadata": {
    "tags": []
   },
   "source": [
    "# Point to API Key"
   ]
  },
  {
   "cell_type": "code",
   "execution_count": null,
   "id": "5c7eec73-2ae7-4366-8435-37645e1698cb",
   "metadata": {
    "tags": []
   },
   "outputs": [],
   "source": [
    "api_key='placeholder'\n",
    "\n",
    "client = OpenAI(\n",
    "    # This is the default and can be omitted\n",
    "    api_key='placeholder',\n",
    ")"
   ]
  },
  {
   "cell_type": "markdown",
   "id": "43383b27-5728-463f-bdb3-07d79258dd83",
   "metadata": {
    "jp-MarkdownHeadingCollapsed": true,
    "tags": []
   },
   "source": [
    "# tester code"
   ]
  },
  {
   "cell_type": "markdown",
   "id": "ab56809a-778f-4c01-bdc4-7de1161a5737",
   "metadata": {
    "jp-MarkdownHeadingCollapsed": true,
    "tags": []
   },
   "source": [
    "## Run tester code"
   ]
  },
  {
   "cell_type": "code",
   "execution_count": 8,
   "id": "80cf4817-51f0-4d66-bf54-b9cddacb6d78",
   "metadata": {
    "tags": []
   },
   "outputs": [
    {
     "name": "stdout",
     "output_type": "stream",
     "text": [
      "This is a test"
     ]
    }
   ],
   "source": [
    "stream = client.chat.completions.create(\n",
    "    model=\"gpt-3.5-turbo-0125\",\n",
    "    messages=[{\"role\": \"user\", \"content\": \"Say this is a test\"}],\n",
    "    stream=True,\n",
    ")\n",
    "for chunk in stream:\n",
    "    if chunk.choices[0].delta.content is not None:\n",
    "        print(chunk.choices[0].delta.content, end=\"\")"
   ]
  },
  {
   "cell_type": "markdown",
   "id": "3dc898f9-ce81-49bb-99b1-bf2715acc78d",
   "metadata": {
    "tags": []
   },
   "source": [
    "## Test completetio"
   ]
  },
  {
   "cell_type": "code",
   "execution_count": 11,
   "id": "28f655b8-4d9c-4fab-b535-0f1c5f07c395",
   "metadata": {
    "tags": []
   },
   "outputs": [
    {
     "name": "stdout",
     "output_type": "stream",
     "text": [
      "The World Series in 2020 was played at Globe Life Field in Arlington, Texas.\n"
     ]
    }
   ],
   "source": [
    "\n",
    "response = client.chat.completions.create(\n",
    "    model=\"gpt-3.5-turbo-0125\",\n",
    "    # response_format={ \"type\": \"json_object\" },\n",
    "    messages=[\n",
    "        {\"role\": \"system\", \"content\": \"You are a helpful assistant.\"},\n",
    "        {\"role\": \"user\", \"content\": \"Who won the world series in 2020?\"},\n",
    "        {\"role\": \"assistant\", \"content\": \"The Los Angeles Dodgers won the World Series in 2020.\"},\n",
    "        {\"role\": \"user\", \"content\": \"Where was it played?\"}\n",
    "  ]\n",
    ")\n",
    "print(response.choices[0].message.content)"
   ]
  },
  {
   "cell_type": "code",
   "execution_count": 12,
   "id": "8db09b4d-c59c-4109-9033-c1a83ec346f3",
   "metadata": {
    "tags": []
   },
   "outputs": [
    {
     "name": "stdout",
     "output_type": "stream",
     "text": [
      "{\n",
      "    \"winner\": \"Los Angeles Dodgers\",\n",
      "    \"year\": 2020\n",
      "}\n"
     ]
    }
   ],
   "source": [
    "response = client.chat.completions.create(\n",
    "  model=\"gpt-3.5-turbo-0125\",\n",
    "  response_format={ \"type\": \"json_object\" },\n",
    "  messages=[\n",
    "    {\"role\": \"system\", \"content\": \"You are a helpful assistant designed to output JSON.\"},\n",
    "    {\"role\": \"user\", \"content\": \"Who won the world series in 2020?\"}\n",
    "  ]\n",
    ")\n",
    "print(response.choices[0].message.content)"
   ]
  },
  {
   "cell_type": "markdown",
   "id": "adb68503-9d28-4afa-bca8-1396b1c385d5",
   "metadata": {
    "jp-MarkdownHeadingCollapsed": true,
    "tags": []
   },
   "source": [
    "# Prompt Engineering Base Code"
   ]
  },
  {
   "cell_type": "code",
   "execution_count": 87,
   "id": "95cfe006-4871-46d9-a098-8af7e9e37de6",
   "metadata": {
    "tags": []
   },
   "outputs": [],
   "source": [
    "from openai import OpenAI\n",
    "client = OpenAI(api_key = api_key)\n",
    "\n",
    "response = client.chat.completions.create(\n",
    "    model=\"gpt-3.5-turbo-0125\",\n",
    "    response_format={ \"type\": \"json_object\" },\n",
    "    messages=[\n",
    "    {\n",
    "      \"role\": \"system\",\n",
    "      \"content\": \"You will extract information from a news article in json format.\"\n",
    "    },\n",
    "    {\n",
    "      \"role\": \"assistant\",\n",
    "      \"content\": \"'New Delhi: Two students were injured after a speeding car rammed into the footpath they were walking on in central Delhi’s Ranjit Nagar. The errant driver has been booked, police said. The accident took place in the early hours of Tuesday and the students, in their early 20s, were discharged after treatment, a police officer said. “The driver who received some injuries was also rushed to the hospital. A case under sections 279 (rash driving), 337 (hurt due to negligence) and 338 (Punishment for grievous hurt) has been registered,” said the officer. The driver has been identified and the offending vehicle has been seized, police said. The purported CCTV footage of the incident started making rounds on social media on Thursday. In the video, a man and a woman can be seen walking on the footpath when a speeding car banged into the duo walking on the footpath. Explore Your Financial Landscape with Personalized Credit Insights.'\"\n",
    "    },\n",
    "    {\n",
    "      \"role\": \"user\",\n",
    "      \"content\": \"output:{\\\"fatalities\\\": 0,\\\"injured\\\":2,\\\"victim_gender\\\":[\\\"Male\\\",\\\"Female\\\"],\\\"vehicles\\\":[\\\"car\\\"],\\\"child_involved\\\":0,\\\"names_ages\\\":[(\\\"unknown_name\\\",20),(\\\"unknown_name\\\",20)]}/\"\n",
    "    },\n",
    "    {\n",
    "      \"role\": \"assistant\",\n",
    "      \"content\": \"'AGRA: At least 15 people including 8 children were killed in the Kasganj district of Uttar Pradesh after a tractor-trolley carrying around 40 villagers fell into a pond. The villagers, comprising mostly women and children, were on their way to the river Ganga for a holy bath on the auspicious occasion of Magh Purnima on Saturday. According to IG Aligarh Shalabh Mathur, the driver of the tractor lost control while attempting to avoid a collision with a car on the road. The tractor-trolley, carrying the villagers, overturned into the pond, which was filled with mud. Expressing profound sorrow over the incident, chief minister Yogi Adityanath extended his condolences to the families of the victims. The chief minister directed officials in Kasganj district to ensure the prompt and adequate treatment of those injured in the accident. He also ordered a swift response in terms of rescue operations and urged officials to mobilise resources for immediate assistance at the site which comes under the Patiali police station in Kasganj district. The victims are from the Etah district. Explore Your Financial Landscape with Personalized Credit Insights.'\"\n",
    "    },\n",
    "    {\n",
    "      \"role\": \"user\",\n",
    "      \"content\": \"output:{\\\"fatalities\\\": 15,\\\"injured\\\":0,\\\"victim_gender\\\":[\\\"Female\\\",\\\"Male\\\"],\\\"vehicles\\\":[\\\"tractor-trolley\\\",\\\"car\\\"],\\\"child_involved\\\":8,\\\"names_ages\\\":[]}/\"\n",
    "    },\n",
    "    {\n",
    "      \"role\": \"assistant\",\n",
    "      \"content\": \"\\\"JAIPUR: Four persons died while one was injured in an accident between a car and a private bus in Rajasthan's Dungarpur district, police said on Saturday. The incident occurred late Friday night on NH 48 in Bichhiwada when the car, traveling in the wrong direction, collided with a private bus heading towards Dungarpur. The impact of the collision was so severe that it left the car's front end completely demolished, police said. The four young individuals who died have been identified as Satish Bhai (25), Ankit Ninama (25), Ravi (23), and Kaushik (21). All of them hailed from Shamlaji in Gujarat, according to the police. The bodies of the deceased have been placed in the district hospital's mortuary, and their family members have been notified of the accident. Once their relatives arrive, post-mortem examinations will be conducted, police said. (With inputs from PTI) Explore Your Financial Landscape with Personalized Credit Insights.\\\"\"\n",
    "    },\n",
    "    {\n",
    "      \"role\": \"user\",\n",
    "      \"content\": \"output:{\\\"fatalities\\\": 4,\\\"injured\\\":1,\\\"victim_gender\\\":[\\\"Female\\\",\\\"Male\\\"],\\\"vehicles\\\":[\\\"tractor-trolley\\\",\\\"car\\\"],\\\"child_involved\\\":0,\\\"names_ages\\\":[(\\\"Satish Bhai\\\",25),(\\\"Ankit Ninama\\\",25),(\\\"Ravi\\\",23),(\\\"Kaushik\\\",21)]}/\"\n",
    "    },\n",
    "    {\n",
    "      \"role\": \"assistant\",\n",
    "      \"content\": \"\\\"KHARGONE: Three policemen, including two sub-inspectors died, and two critically injured when their car rammed into a parked truck in MP 's Khragone district early Saturday morning. The victims were returning to Sanawad town, 70km from the district headquarters, after completing their duties at the annual fair in Shivdola, another 70km away, said police. At 5.30am near Badud village, just 4km short of destination, their hatchback slammed into the rear of a truck parked on the roadside, Sanawad police station in charge Nirmal Kumar Shrivas said. SIs Vimal Tiwari and Ramesh Chandra Bhaskare and constable Manoj Kumawat died on the spot, he said. Constables Raghuveer Rawat and civic defence personnel Komal Dangode were severely injured. They have been shifted to Indore, 70km away. Tiwari was a resident of Indore, Kumrawat from Simrol, and Bhaskere, who owned the car, was from Burhanpur. Rescuers had hard time extricating victims from the wreckage The 108 ambulance drivers, Yuvraj Dhodle and Ritesh Mandloi, who took the victims to hospital said that the car was mangled in the collision and they had a hard time extricating them from the wreckage. The bodies have been handed over to their families after autopsy. Nimar Range DIG Chandrashekhar Solanki told TOI that he has ordered an investigation and asked for a report. CCTV footage shows the car hitting the rear of a truck parked near a petrol pump, he said, adding that why the accident happened is being investigated. The families of the deceased police personnel are being provided assistance as per the rules, he said. Explore Your Financial Landscape with Personalized Credit Insights.\\\"\"\n",
    "    }\n",
    "  ],\n",
    "  temperature=1,\n",
    "  max_tokens=256,\n",
    "  top_p=1,\n",
    "  frequency_penalty=0,\n",
    "  presence_penalty=0\n",
    ")"
   ]
  },
  {
   "cell_type": "code",
   "execution_count": 88,
   "id": "ce712fcc-c7ab-45f2-acbe-1c9a60a1f631",
   "metadata": {
    "tags": []
   },
   "outputs": [
    {
     "name": "stdout",
     "output_type": "stream",
     "text": [
      "{\n",
      "    \"fatalities\": 3,\n",
      "    \"injured\": 2,\n",
      "    \"victim_gender\": [\"Male\"],\n",
      "    \"vehicles\": [\"car\", \"truck\"],\n",
      "    \"child_involved\": 0,\n",
      "    \"names_ages\": [\n",
      "        {\"name\": \"Vimal Tiwari\", \"age\": \"Unknown\"},\n",
      "        {\"name\": \"Ramesh Chandra Bhaskare\", \"age\": \"Unknown\"},\n",
      "        {\"name\": \"Manoj Kumawat\", \"age\": \"Unknown\"}\n",
      "    ]\n",
      "}\n"
     ]
    }
   ],
   "source": [
    "print(response.choices[0].message.content)"
   ]
  },
  {
   "cell_type": "markdown",
   "id": "4557cbdb-ee81-4a9b-bd12-e7b66e67f3f1",
   "metadata": {
    "jp-MarkdownHeadingCollapsed": true,
    "tags": []
   },
   "source": [
    "# Prompt Engineering : Prompt Trials and results"
   ]
  },
  {
   "cell_type": "markdown",
   "id": "1ddba6a3-e6fd-411c-916f-b9f00b466081",
   "metadata": {
    "tags": []
   },
   "source": [
    "### Module: Message"
   ]
  },
  {
   "cell_type": "code",
   "execution_count": 294,
   "id": "8b070bc2-f41f-437f-8a29-a7825227cfa0",
   "metadata": {
    "tags": []
   },
   "outputs": [],
   "source": [
    "class MessageInitializer:\n",
    "    def __init__(self,option):\n",
    "        if option == 1:\n",
    "                self.message_history = [\n",
    "            {\n",
    "              \"role\": \"system\",\n",
    "              \"content\": \"You will extract information from a news article and give me the output in json format\"\n",
    "            },\n",
    "            {\n",
    "              \"role\": \"user\",\n",
    "              \"content\": \"'New Delhi: Two students were injured after a speeding car rammed into the footpath they were walking on in central Delhi’s Ranjit Nagar. The errant driver has been booked, police said. The accident took place in the early hours of Tuesday and the students, in their early 20s, were discharged after treatment, a police officer said. “The driver who received some injuries was also rushed to the hospital. A case under sections 279 (rash driving), 337 (hurt due to negligence) and 338 (Punishment for grievous hurt) has been registered,” said the officer. The driver has been identified and the offending vehicle has been seized, police said. The purported CCTV footage of the incident started making rounds on social media on Thursday. In the video, a man and a woman can be seen walking on the footpath when a speeding car banged into the duo walking on the footpath. Explore Your Financial Landscape with Personalized Credit Insights.'\"\n",
    "            },\n",
    "            {\n",
    "              \"role\": \"assistant\",\n",
    "              \"content\": \"output:{\\\"fatalities\\\": 0,\\\"injured\\\":2,\\\"victim_gender\\\":[\\\"Male\\\",\\\"Female\\\"],\\\"vehicles\\\":[\\\"car\\\"],\\\"child_involved\\\":0,\\\"names_ages\\\":[(\\\"unknown_name\\\",20),(\\\"unknown_name\\\",20)]}/\"\n",
    "            }\n",
    "          ]\n",
    "        if option == 2:\n",
    "                self.message_history = [\n",
    "            {\n",
    "              \"role\": \"system\",\n",
    "              \"content\": \"You will extract information from a news article and give me the output in json format\"\n",
    "            },\n",
    "            {\n",
    "              \"role\": \"user\",\n",
    "              \"content\": \"\\\"KHARGONE: Three policemen, including two sub-inspectors died, and two critically injured when their car rammed into a parked truck in MP 's Khragone district early Saturday morning. The victims were returning to Sanawad town, 70km from the district headquarters, after completing their duties at the annual fair in Shivdola, another 70km away, said police. At 5.30am near Badud village, just 4km short of destination, their hatchback slammed into the rear of a truck parked on the roadside, Sanawad police station in charge Nirmal Kumar Shrivas said. SIs Vimal Tiwari and Ramesh Chandra Bhaskare and constable Manoj Kumawat died on the spot, he said. Constables Raghuveer Rawat and civic defence personnel Komal Dangode were severely injured. They have been shifted to Indore, 70km away. Tiwari was a resident of Indore, Kumrawat from Simrol, and Bhaskere, who owned the car, was from Burhanpur. Rescuers had hard time extricating victims from the wreckage The 108 ambulance drivers, Yuvraj Dhodle and Ritesh Mandloi, who took the victims to hospital said that the car was mangled in the collision and they had a hard time extricating them from the wreckage. The bodies have been handed over to their families after autopsy. Nimar Range DIG Chandrashekhar Solanki told TOI that he has ordered an investigation and asked for a report. CCTV footage shows the car hitting the rear of a truck parked near a petrol pump, he said, adding that why the accident happened is being investigated. The families of the deceased police personnel are being provided assistance as per the rules, he said. Explore Your Financial Landscape with Personalized Credit Insights.\\\"\"\n",
    "            },\n",
    "            {\n",
    "              \"role\": \"assistant\",\n",
    "              \"content\": \"output:{\\\"fatalities\\\": 3,\\\"injured\\\":2,\\\"victim_gender\\\":[\\\"male\\\"],\\\"time_of_day\\\":\\\"early morning\\\",\\\"reason\\\":\\\"NA\\\",\\\"vehicles\\\":[\\\"tractor-trolley\\\",\\\"car\\\"],\\\"child_involved\\\":0,\\\"names_ages\\\":[(\\\"Raghuveer Rawat\\\",\\\"na\\\"),(\\\"Komal Dangode\\\",\\\"na\\\"),(\\\"Vimal Tiwari\\\",\\\"na\\\"),(\\\"Ramesh Chandra Bhaskare\\\",\\\"na\\\"),(\\\"Manoj Kumawat\\\",\\\"na\\\")]}/\"\n",
    "            },\n",
    "            {\n",
    "              \"role\": \"user\",\n",
    "              \"content\": \"'NEW DELHI: Four people were injured after being struck by a car, allegedly driven by the wife of a Delhi Police inspector outside AIIMS, officials said on Wednesday. Security guards at AIIMS promptly alerted the authorities regarding the accident near gate number 6A and 6B. Upon arriving at the scene, the police found a Ford Ecosport car, driven by Vipin Singh, who is identified as the wife of an inspector currently serving in the Delhi Police. Later, police visited the AIIMS Trauma Centre where injured persons — Gaurav (22), his wife Ritika (21), residents of Trilokpuri, Nishant (27), a resident of Lal Kuan, and Ranveer (57), a resident of Noida — were being treated, a senior police officer said. The medico-legal cases of the injured persons were collected and everyone was found fit for the statement. Later, a PCR call was also made in this regard, police said. However, none of the victims gave any statement. Further, on getting no statement from the injured persons, a case has been registered in this regard under sections 279 (rash driving or riding on a public way) and 337 (causing hurt by act endangering life or personal safety of others) of the IPC on the DD entry of the information, police added. (With inputs from PTI) Explore Your Financial Landscape with Personalized Credit Insights.'\"\n",
    "            },\n",
    "            {\n",
    "              \"role\": \"assistant\",\n",
    "              \"content\": \"output:{\\\"fatalities\\\": 0,\\\"injured\\\":4,\\\"time_of_day\\\":\\\"NA\\\",\\\"reason\\\":\\\"NA\\\",\\\"victim_gender\\\":[\\\"Male\\\",\\\"Female\\\"],\\\"vehicles\\\":[\\\"car\\\"],\\\"child_involved\\\":0,\\\"names_ages\\\":[(\\\"Gaurav\\\",22),(\\\"Ritika\\\",21),(\\\"Nishant\\\",27),(\\\"Ranveer\\\",57)]}/\"\n",
    "            },\n",
    "            {\n",
    "              \"role\": \"user\",\n",
    "              \"content\": \"'JAIPUR: A head-on collision between a car and a speeding truck left seven of a family, including three children, dead and two others injured in Rajasthan\\\\'s Hanumangarh late Saturday. According to police, the truck loaded with cement was overtaking recklessly when it rammed into the car on the Hanumangarh-Sardarshahar highway around 10pm. The family members were returning from a birthday party and the accident occurred barely four kilometres before their home in Naurangdesar. The truck driver fled. The crash was so severe that the front portion of the car was completely mangled, and the cops had to take help from locals to extricate the victims. For Gurbachan Singh Majbi, the bedridden family patriarch who did not attend the party, the accident snatched away his wife and children, leaving only a grandson and granddaughter alive. Both kids are in hospital. \\\"The relatives of the deceased have filed a case against the truck driver,\\\" Hanumangarh circle inspector Vedpal Sheoran said on Sunday. Explore Your Financial Landscape with Personalized Credit Insights.'\"\n",
    "            },\n",
    "            {\n",
    "              \"role\": \"assistant\",\n",
    "              \"content\": \"output:{\\\"fatalities\\\": 7,\\\"injured\\\":2,\\\"time_of_day\\\":\\\"Night\\\",\\\"reason\\\":[\\\"speeding\\\"],\\\"victim_gender\\\":[\\\"Male\\\",\\\"Female\\\"],\\\"vehicles\\\":[\\\"car\\\",\\\"truck\\\"],\\\"child_involved\\\":1,\\\"names_ages\\\":[]}/\"\n",
    "            }\n",
    "          ]\n",
    "    \n",
    "    def add_user_input(self, role, content):\n",
    "        self.user_input = {\"role\": role, \"content\": content}\n",
    "        self.prompt = self.message_history\n",
    "        self.prompt.append(self.user_input)\n",
    "        return (self.prompt)"
   ]
  },
  {
   "cell_type": "code",
   "execution_count": 296,
   "id": "3eb939fc-b4e0-4f38-aa4d-f7e03ef8f427",
   "metadata": {
    "tags": []
   },
   "outputs": [],
   "source": [
    "def cleanup_json(filename):\n",
    "    \"\"\"\n",
    "    Read a JSON file, filter out entries with value 'error:llm',\n",
    "    and update the file with the cleaned data.\n",
    "\n",
    "    Args:\n",
    "    - filename (str): The name of the JSON file to clean up.\n",
    "    \"\"\"\n",
    "    if os.path.exists(filename):\n",
    "        with open(filename, \"r\") as file:\n",
    "            data = json.load(file)\n",
    "    else:\n",
    "        data = {}\n",
    "\n",
    "    # Filter out entries with 'error:llm'\n",
    "    cleaned_data = {key: value for key, value in data.items() if value != 'error:llm'}\n",
    "\n",
    "    # Write cleaned data back to the JSON file\n",
    "    with open(filename, \"w\") as file:\n",
    "        json.dump(cleaned_data, file)\n",
    "        \n",
    "        \n",
    "# example\n",
    "# cleanup_json('extraction_progress.json')"
   ]
  },
  {
   "cell_type": "code",
   "execution_count": 297,
   "id": "d7c6211c-e4c8-4847-9fc7-5623e7640c6c",
   "metadata": {
    "tags": []
   },
   "outputs": [
    {
     "name": "stdout",
     "output_type": "stream",
     "text": [
      "{'role': 'user', 'content': \"'New Delhi: A man sustained injuries after his SUV was hit by a DTC electric bus who was drunk in west Delhi’s Moti Nagar at 6.30 am on Wednesday. The victim was undergoing treatment at a hospital. Police have not made any arrest in the case yet. The SUV driver was identified as Malkeet Singh, a resident of Rohini. He was returning home from a marriage function in Gurgaon when the accident occurred. Police said after they received a call about the accident, a team was sent to the spot. The cops found the two damaged vehicles there, along with glass pieces scattered on the road. A video of the incident showed the car’s front-end as completely mangled. The bus also sustained some damage. A tree and several metal objects were lying nearby. Recently, four people were hurt after a DTC electric bus collided with a stationary truck on the Naraina flyover. tnn Explore Your Financial Landscape with Personalized Credit Insights.'\"}\n",
      "--------------------------------------------------\n",
      "{\"fatalities\": 0,\"injured\":1,\"time_of_day\":\"Morning\",\"reason\":\"drunk driving\",\"victim_gender\":[\"Male\"],\"vehicles\":[\"SUV\",\"DTC electric bus\"],\"child_involved\":0,\"names_ages\":[[\"Malkeet Singh\",\"na\"]]}\n",
      "--------------------------------------------------\n",
      "~~~~~ Output ~~~~~\n",
      "type --> <class 'str'>\n",
      "total tokens --> 1449\n",
      "prompt_tokens -  1391 response_tokens -  58\n"
     ]
    }
   ],
   "source": [
    "m = MessageInitializer(2)\n",
    "message = m.add_user_input(\"user\",\"'New Delhi: A man sustained injuries after his SUV was hit by a DTC electric bus who was drunk in west Delhi’s Moti Nagar at 6.30 am on Wednesday. The victim was undergoing treatment at a hospital. Police have not made any arrest in the case yet. The SUV driver was identified as Malkeet Singh, a resident of Rohini. He was returning home from a marriage function in Gurgaon when the accident occurred. Police said after they received a call about the accident, a team was sent to the spot. The cops found the two damaged vehicles there, along with glass pieces scattered on the road. A video of the incident showed the car’s front-end as completely mangled. The bus also sustained some damage. A tree and several metal objects were lying nearby. Recently, four people were hurt after a DTC electric bus collided with a stationary truck on the Naraina flyover. tnn Explore Your Financial Landscape with Personalized Credit Insights.'\")\n",
    "\n",
    "response = client.chat.completions.create(\n",
    "    response_format = { \"type\": \"json_object\" },\n",
    "    model=\"gpt-3.5-turbo-0125\",\n",
    "    messages = message,\n",
    "  temperature=0.5,\n",
    "  max_tokens=256,\n",
    "  top_p=0.5,\n",
    "  frequency_penalty=0,\n",
    "  presence_penalty=0,\n",
    "    stop = '/'\n",
    ")\n",
    "\n",
    "print(m.user_input)\n",
    "print(\"-\"*50)\n",
    "print(response.choices[0].message.content)\n",
    "print(\"-\"*50)\n",
    "print(\"~\"*5,\"Output\",\"~\"*5)\n",
    "print('type -->',type(response.choices[0].message.content))\n",
    "print('total tokens -->',str(response.usage.total_tokens))\n",
    "print('prompt_tokens - ',response.usage.prompt_tokens,'response_tokens - ',response.usage.completion_tokens)"
   ]
  },
  {
   "cell_type": "markdown",
   "id": "0083d557-9193-467c-8634-f4d4d5d5273f",
   "metadata": {
    "tags": []
   },
   "source": [
    "# Looping through news articles"
   ]
  },
  {
   "cell_type": "code",
   "execution_count": 298,
   "id": "1f46586f-4179-456e-8656-e3333b189b3e",
   "metadata": {
    "tags": []
   },
   "outputs": [],
   "source": [
    "from datetime import datetime\n",
    "import pandas as pd\n",
    "import numpy as np\n",
    "from word2number import w2n\n",
    "import re\n",
    "from tqdm import tqdm\n",
    "import ast\n",
    "import time\n",
    "import json\n",
    "import os\n",
    "from datetime import datetime"
   ]
  },
  {
   "cell_type": "markdown",
   "id": "4ec9bb60-e12f-4b14-bf16-f734b4911a22",
   "metadata": {
    "tags": []
   },
   "source": [
    "## Load data to be extracted"
   ]
  },
  {
   "cell_type": "code",
   "execution_count": 299,
   "id": "58a127be-c418-430f-9d7c-740ff6aa897c",
   "metadata": {
    "tags": []
   },
   "outputs": [],
   "source": [
    "# Load the data to be predicted\n",
    "df_livedata=pd.read_csv(\"filtered_news.csv\")\n",
    "df_livedata.reset_index(inplace = True)"
   ]
  },
  {
   "cell_type": "code",
   "execution_count": 300,
   "id": "510575e2-4964-4d04-adc9-704c33a8a47b",
   "metadata": {
    "tags": []
   },
   "outputs": [],
   "source": [
    "df_livedata = df_livedata\n",
    "df_livedata = df_livedata[['id','content']]\n",
    "df_livedata['llm_completion_dict']=''\n",
    "# df_livedata = df_livedata.head(100)"
   ]
  },
  {
   "cell_type": "code",
   "execution_count": 301,
   "id": "16c2c082-964f-4014-a81c-c2d0559d5740",
   "metadata": {
    "tags": []
   },
   "outputs": [
    {
     "data": {
      "text/plain": [
       "(9978, 3)"
      ]
     },
     "execution_count": 301,
     "metadata": {},
     "output_type": "execute_result"
    }
   ],
   "source": [
    "df_livedata.shape"
   ]
  },
  {
   "cell_type": "markdown",
   "id": "5d21855a-dce7-4058-9e38-9a2205fd2bae",
   "metadata": {
    "tags": []
   },
   "source": [
    "## Loop"
   ]
  },
  {
   "cell_type": "code",
   "execution_count": 274,
   "id": "4b980926-6d0a-4a06-98bc-094166a22667",
   "metadata": {
    "tags": []
   },
   "outputs": [
    {
     "name": "stderr",
     "output_type": "stream",
     "text": [
      "  4%|█▎                                    | 321/8884 [02:23<2:44:57,  1.16s/it]"
     ]
    },
    {
     "name": "stdin",
     "output_type": "stream",
     "text": [
      "Continue (y/n)?  n\n"
     ]
    },
    {
     "name": "stderr",
     "output_type": "stream",
     "text": [
      "  4%|█▎                                    | 321/8884 [02:27<1:05:21,  2.18it/s]"
     ]
    },
    {
     "name": "stdout",
     "output_type": "stream",
     "text": [
      "CPU times: user 2.62 s, sys: 339 ms, total: 2.96 s\n",
      "Wall time: 2min 27s\n"
     ]
    },
    {
     "name": "stderr",
     "output_type": "stream",
     "text": [
      "\n"
     ]
    }
   ],
   "source": [
    "%%time\n",
    "\n",
    "print_outout = False\n",
    "\n",
    "# Check if extraction_progress.json exists\n",
    "if os.path.exists(\"extraction_progress.json\"):\n",
    "    with open(\"extraction_progress.json\", \"r\") as file:\n",
    "        extraction_progress = json.load(file)\n",
    "else:\n",
    "    extraction_progress = {}\n",
    "\n",
    "# Filter out ids that have already been processed\n",
    "processed_ids = list(map(int, extraction_progress.keys()))\n",
    "\n",
    "remaining_ids = df_livedata[~df_livedata['id'].isin(processed_ids)]\n",
    "\n",
    "count = 1\n",
    "\n",
    "for index, row in tqdm(remaining_ids.iterrows(), total=remaining_ids.shape[0]):\n",
    "    \n",
    "    #protect token explosion\n",
    "    if len(str(row['content'])) > 2500:\n",
    "        # print(\"***********Skipped***********\")\n",
    "        continue\n",
    "        \n",
    "    m = MessageInitializer(2)\n",
    "    message = m.add_user_input(\"user\",row['content'])\n",
    "    \n",
    "    try:\n",
    "        response = client.chat.completions.create(\n",
    "                    model=\"gpt-3.5-turbo-0125\",\n",
    "                    messages = message,\n",
    "                    temperature=0.5,\n",
    "                    max_tokens=256,\n",
    "                    top_p=0.5,\n",
    "                    frequency_penalty=0,\n",
    "                    presence_penalty=0,\n",
    "                    stop = '/'\n",
    "                                                    )\n",
    "    except:\n",
    "        continue\n",
    "        \n",
    "    if print_outout == True:\n",
    "        print('\\n')\n",
    "        print(m.user_input)\n",
    "        print(\"-\"*50)\n",
    "        print(response.choices[0].message.content)\n",
    "        print(\"-\"*15)\n",
    "        print(\"~\"*5,\"Output\",\"~\"*5)\n",
    "        print('type -->',type(response.choices[0].message.content))\n",
    "        print('total tokens -->',str(response.usage.total_tokens))\n",
    "        print('prompt_tokens - ',response.usage.prompt_tokens,'response_tokens - ',response.usage.completion_tokens)\n",
    "        print(\"--x\"*15,'\\n')\n",
    "    try:\n",
    "        extraction_progress[row['id']] = (response.choices[0].message.content)\n",
    "    except:\n",
    "        extraction_progress[row['id']] = 'error_openai'\n",
    "        \n",
    "    with open(\"extraction_progress.json\", \"w\") as file:\n",
    "        json.dump(extraction_progress, file)\n",
    "    \n",
    "    count += 1\n",
    "    if count % 1000 == 0:\n",
    "        user_input = input(\"Continue (y/n)? \")\n",
    "        if user_input.lower() != 'y':\n",
    "            break\n",
    "\n",
    "    time.sleep(0.2)\n",
    "    \n",
    "# # Get current date and time\n",
    "# current_datetime = datetime.now()\n",
    "\n",
    "# # Format date and time to get ymdhm (year-month-day-hour-minute)\n",
    "# unique_id = current_datetime.strftime(\"%Y%m%d%H%M\")"
   ]
  },
  {
   "cell_type": "markdown",
   "id": "e631495b-9336-438a-8c80-9d38e91a50a6",
   "metadata": {
    "tags": []
   },
   "source": [
    "## Clean up json dump"
   ]
  },
  {
   "cell_type": "code",
   "execution_count": 275,
   "id": "d76d64bc-af29-4dca-beae-ad96a89d71a5",
   "metadata": {
    "tags": []
   },
   "outputs": [],
   "source": [
    "cleanup_json(\"extraction_progress.json\")"
   ]
  },
  {
   "cell_type": "markdown",
   "id": "16618290-d751-45b6-ab29-9c0c86e0f826",
   "metadata": {
    "tags": []
   },
   "source": [
    "# JSON to CSV"
   ]
  },
  {
   "cell_type": "code",
   "execution_count": 276,
   "id": "3f9df3a2-901d-4d5b-815a-f978c131e956",
   "metadata": {
    "tags": []
   },
   "outputs": [],
   "source": [
    "import json\n",
    "import pandas as pd\n",
    "import os\n",
    "import ast  # Add this import statement\n",
    "\n",
    "# Check if extraction_progress.json exists\n",
    "if os.path.exists(\"extraction_progress.json\"):\n",
    "    with open(\"extraction_progress.json\", \"r\") as file:\n",
    "        data = json.load(file)"
   ]
  },
  {
   "cell_type": "code",
   "execution_count": 277,
   "id": "fc4c56ce-d79b-46e2-8d2f-b3c084699739",
   "metadata": {
    "tags": []
   },
   "outputs": [
    {
     "name": "stdout",
     "output_type": "stream",
     "text": [
      "(1193, 2)\n"
     ]
    },
    {
     "data": {
      "text/html": [
       "<div>\n",
       "<style scoped>\n",
       "    .dataframe tbody tr th:only-of-type {\n",
       "        vertical-align: middle;\n",
       "    }\n",
       "\n",
       "    .dataframe tbody tr th {\n",
       "        vertical-align: top;\n",
       "    }\n",
       "\n",
       "    .dataframe thead th {\n",
       "        text-align: right;\n",
       "    }\n",
       "</style>\n",
       "<table border=\"1\" class=\"dataframe\">\n",
       "  <thead>\n",
       "    <tr style=\"text-align: right;\">\n",
       "      <th></th>\n",
       "      <th>ID</th>\n",
       "      <th>JSON_String</th>\n",
       "    </tr>\n",
       "  </thead>\n",
       "  <tbody>\n",
       "    <tr>\n",
       "      <th>0</th>\n",
       "      <td>107938160</td>\n",
       "      <td>output:{\"fatalities\": 3,\"injured\":1,\"time_of_d...</td>\n",
       "    </tr>\n",
       "    <tr>\n",
       "      <th>1</th>\n",
       "      <td>107821301</td>\n",
       "      <td>output:{\"fatalities\": 3,\"injured\":0,\"time_of_d...</td>\n",
       "    </tr>\n",
       "  </tbody>\n",
       "</table>\n",
       "</div>"
      ],
      "text/plain": [
       "          ID                                        JSON_String\n",
       "0  107938160  output:{\"fatalities\": 3,\"injured\":1,\"time_of_d...\n",
       "1  107821301  output:{\"fatalities\": 3,\"injured\":0,\"time_of_d..."
      ]
     },
     "execution_count": 277,
     "metadata": {},
     "output_type": "execute_result"
    }
   ],
   "source": [
    "df_json = pd.DataFrame(list(data.items()), columns=['ID', 'JSON_String'])\n",
    "print(df_json.shape)\n",
    "df_json.head(2)"
   ]
  },
  {
   "cell_type": "code",
   "execution_count": 326,
   "id": "0c032ad8-1e30-4f72-ad99-eab1b97a98ac",
   "metadata": {
    "tags": []
   },
   "outputs": [
    {
     "name": "stdout",
     "output_type": "stream",
     "text": [
      "Extraction complete\n"
     ]
    }
   ],
   "source": [
    "import json\n",
    "import pandas as pd\n",
    "import os\n",
    "import ast  # Add this import statement\n",
    "\n",
    "# Check if extraction_progress.json exists\n",
    "if os.path.exists(\"extraction_progress.json\"):\n",
    "    with open(\"extraction_progress.json\", \"r\") as file:\n",
    "        data = json.load(file)\n",
    "\n",
    "    # Create DataFrame with keys and entire JSON string values\n",
    "    df_json = pd.DataFrame(list(data.items()), columns=['ID', 'JSON_String'])\n",
    "\n",
    "    # Function to convert JSON string to dictionary\n",
    "    def json_str_to_dict(json_str):\n",
    "        try:\n",
    "            json_str = json_str.replace('output:', '')\n",
    "            return ast.literal_eval(json_str)\n",
    "        except:\n",
    "            return \"error:incorrect_format\"\n",
    "\n",
    "    # Convert JSON strings to dictionaries\n",
    "    df_json['JSON_Dict'] = df_json['JSON_String'].apply(json_str_to_dict)\n",
    "\n",
    "    # Convert dictionaries to DataFrame\n",
    "    df = pd.json_normalize(df_json['JSON_Dict'])\n",
    "\n",
    "    # Concatenate df_json and df\n",
    "    df_extacted = pd.concat([df_json, df], axis=1)\n",
    "    \n",
    "    print('Extraction complete')\n",
    "else:\n",
    "    print(\"extraction_progress.json file does not exist.\")"
   ]
  },
  {
   "cell_type": "code",
   "execution_count": 325,
   "id": "49067576-5a83-43d0-a9e6-de0a92e78695",
   "metadata": {
    "tags": []
   },
   "outputs": [
    {
     "data": {
      "text/plain": [
       "(1193, 10)"
      ]
     },
     "execution_count": 325,
     "metadata": {},
     "output_type": "execute_result"
    }
   ],
   "source": [
    "# Clean up the JSON_String\n",
    "\n",
    "df_extacted['ID'] = df_extacted['ID'].astype(int)\n",
    "\n",
    "df_extacted['JSON_String'] = df_extacted['JSON_String'].str.replace(',na)', ',\"na\")')\n",
    "\n",
    "df_extacted = df_extacted[['ID','JSON_String','JSON_Dict','fatalities','injured','reason','victim_gender','vehicles','child_involved','names_ages']]\n",
    "df_extacted.shape"
   ]
  },
  {
   "cell_type": "code",
   "execution_count": 311,
   "id": "123ed985-0ac9-4775-8619-cf75b025c005",
   "metadata": {
    "tags": []
   },
   "outputs": [
    {
     "data": {
      "text/html": [
       "<div>\n",
       "<style scoped>\n",
       "    .dataframe tbody tr th:only-of-type {\n",
       "        vertical-align: middle;\n",
       "    }\n",
       "\n",
       "    .dataframe tbody tr th {\n",
       "        vertical-align: top;\n",
       "    }\n",
       "\n",
       "    .dataframe thead th {\n",
       "        text-align: right;\n",
       "    }\n",
       "</style>\n",
       "<table border=\"1\" class=\"dataframe\">\n",
       "  <thead>\n",
       "    <tr style=\"text-align: right;\">\n",
       "      <th></th>\n",
       "      <th>content</th>\n",
       "      <th>JSON_String</th>\n",
       "      <th>JSON_Dict</th>\n",
       "      <th>fatalities</th>\n",
       "      <th>injured</th>\n",
       "      <th>reason</th>\n",
       "      <th>victim_gender</th>\n",
       "      <th>vehicles</th>\n",
       "      <th>child_involved</th>\n",
       "      <th>names_ages</th>\n",
       "      <th>id</th>\n",
       "    </tr>\n",
       "  </thead>\n",
       "  <tbody>\n",
       "    <tr>\n",
       "      <th>561</th>\n",
       "      <td>Ludhiana: A 4-year-old child was killed while ...</td>\n",
       "      <td>output:{\"fatalities\": 1,\"injured\":4,\"time_of_d...</td>\n",
       "      <td>{'fatalities': 1, 'injured': 4, 'time_of_day':...</td>\n",
       "      <td>1</td>\n",
       "      <td>4</td>\n",
       "      <td>hit by car</td>\n",
       "      <td>[Male, Female]</td>\n",
       "      <td>[motorcycle, car]</td>\n",
       "      <td>1.0</td>\n",
       "      <td>[(Bipanjot Singh, 4), (Uttam Deep Singh, na)]</td>\n",
       "      <td>101231051</td>\n",
       "    </tr>\n",
       "    <tr>\n",
       "      <th>191</th>\n",
       "      <td>SHIMLA: A tourist from Tamil Nadu was injured,...</td>\n",
       "      <td>output:{\"fatalities\": 1,\"injured\":1,\"time_of_d...</td>\n",
       "      <td>{'fatalities': 1, 'injured': 1, 'time_of_day':...</td>\n",
       "      <td>1</td>\n",
       "      <td>1</td>\n",
       "      <td>driver lost control</td>\n",
       "      <td>[Male]</td>\n",
       "      <td>[car]</td>\n",
       "      <td>0.0</td>\n",
       "      <td>[(Gopi Nath, 32), (Vetri Duraisamy, 45)]</td>\n",
       "      <td>107424000</td>\n",
       "    </tr>\n",
       "  </tbody>\n",
       "</table>\n",
       "</div>"
      ],
      "text/plain": [
       "                                               content  \\\n",
       "561  Ludhiana: A 4-year-old child was killed while ...   \n",
       "191  SHIMLA: A tourist from Tamil Nadu was injured,...   \n",
       "\n",
       "                                           JSON_String  \\\n",
       "561  output:{\"fatalities\": 1,\"injured\":4,\"time_of_d...   \n",
       "191  output:{\"fatalities\": 1,\"injured\":1,\"time_of_d...   \n",
       "\n",
       "                                             JSON_Dict fatalities injured  \\\n",
       "561  {'fatalities': 1, 'injured': 4, 'time_of_day':...          1       4   \n",
       "191  {'fatalities': 1, 'injured': 1, 'time_of_day':...          1       1   \n",
       "\n",
       "                  reason   victim_gender           vehicles  child_involved  \\\n",
       "561           hit by car  [Male, Female]  [motorcycle, car]             1.0   \n",
       "191  driver lost control          [Male]              [car]             0.0   \n",
       "\n",
       "                                        names_ages         id  \n",
       "561  [(Bipanjot Singh, 4), (Uttam Deep Singh, na)]  101231051  \n",
       "191       [(Gopi Nath, 32), (Vetri Duraisamy, 45)]  107424000  "
      ]
     },
     "execution_count": 311,
     "metadata": {},
     "output_type": "execute_result"
    }
   ],
   "source": [
    "merged_df = pd.merge(df_extacted, df_livedata, left_on='ID', right_on='id')\n",
    "merged_df.drop(columns = 'ID', inplace = True)\n",
    "\n",
    "merged_df = merged_df[['content','JSON_String', 'JSON_Dict','fatalities', 'injured', 'reason',\n",
    "       'victim_gender', 'vehicles', 'child_involved', 'names_ages', 'id']]\n",
    "\n",
    "\n",
    "merged_df.sample(2)"
   ]
  },
  {
   "cell_type": "markdown",
   "id": "68e1d09c-f93f-41ce-99c5-0b09555f5d17",
   "metadata": {
    "tags": []
   },
   "source": [
    "# SAVE TO CSV"
   ]
  },
  {
   "cell_type": "code",
   "execution_count": 291,
   "id": "0b0ffe61-8e81-4104-99f8-63c65be1d2ef",
   "metadata": {
    "tags": []
   },
   "outputs": [],
   "source": [
    "merged_df.to_csv('data_extracted_llm_openai.csv')"
   ]
  },
  {
   "cell_type": "code",
   "execution_count": 302,
   "id": "fa331ef1-d65b-4c1d-bdf5-25fd47bbeb50",
   "metadata": {
    "tags": []
   },
   "outputs": [
    {
     "data": {
      "text/plain": [
       "(1193, 11)"
      ]
     },
     "execution_count": 302,
     "metadata": {},
     "output_type": "execute_result"
    }
   ],
   "source": [
    "merged_df.shape"
   ]
  },
  {
   "cell_type": "markdown",
   "id": "b3b6099f-8f45-4a59-aed5-754d065dfa1c",
   "metadata": {},
   "source": [
    "# Analytics"
   ]
  },
  {
   "cell_type": "code",
   "execution_count": 303,
   "id": "71637cd6-5b16-456d-8e38-0fc4007757f8",
   "metadata": {
    "tags": []
   },
   "outputs": [
    {
     "data": {
      "text/html": [
       "<div>\n",
       "<style scoped>\n",
       "    .dataframe tbody tr th:only-of-type {\n",
       "        vertical-align: middle;\n",
       "    }\n",
       "\n",
       "    .dataframe tbody tr th {\n",
       "        vertical-align: top;\n",
       "    }\n",
       "\n",
       "    .dataframe thead th {\n",
       "        text-align: right;\n",
       "    }\n",
       "</style>\n",
       "<table border=\"1\" class=\"dataframe\">\n",
       "  <thead>\n",
       "    <tr style=\"text-align: right;\">\n",
       "      <th></th>\n",
       "      <th>content</th>\n",
       "      <th>JSON_String</th>\n",
       "      <th>JSON_Dict</th>\n",
       "      <th>fatalities</th>\n",
       "      <th>injured</th>\n",
       "      <th>reason</th>\n",
       "      <th>victim_gender</th>\n",
       "      <th>vehicles</th>\n",
       "      <th>child_involved</th>\n",
       "      <th>names_ages</th>\n",
       "      <th>id</th>\n",
       "    </tr>\n",
       "  </thead>\n",
       "  <tbody>\n",
       "    <tr>\n",
       "      <th>0</th>\n",
       "      <td>SULTANPUR : Three people lost their lives on F...</td>\n",
       "      <td>output:{\"fatalities\": 3,\"injured\":1,\"time_of_d...</td>\n",
       "      <td>{'fatalities': 3, 'injured': 1, 'time_of_day':...</td>\n",
       "      <td>3</td>\n",
       "      <td>1</td>\n",
       "      <td>rash driving</td>\n",
       "      <td>[Male, Female]</td>\n",
       "      <td>[car]</td>\n",
       "      <td>0.0</td>\n",
       "      <td>[(Chinta Devi, 51), (Ram Chandra Gupta, 55), (...</td>\n",
       "      <td>107938160</td>\n",
       "    </tr>\n",
       "    <tr>\n",
       "      <th>1</th>\n",
       "      <td>JAIPUR: Three people died in a car accident in...</td>\n",
       "      <td>output:{\"fatalities\": 3,\"injured\":0,\"time_of_d...</td>\n",
       "      <td>{'fatalities': 3, 'injured': 0, 'time_of_day':...</td>\n",
       "      <td>3</td>\n",
       "      <td>0</td>\n",
       "      <td>sudden braking</td>\n",
       "      <td>[Male]</td>\n",
       "      <td>[car, truck]</td>\n",
       "      <td>0.0</td>\n",
       "      <td>[(Ravinder Kumar, na), (Subhash Kumar, na), (A...</td>\n",
       "      <td>107821301</td>\n",
       "    </tr>\n",
       "    <tr>\n",
       "      <th>2</th>\n",
       "      <td>RAICHUR: Two women killed and five others were...</td>\n",
       "      <td>output:{\"fatalities\": 2,\"injured\":5,\"time_of_d...</td>\n",
       "      <td>{'fatalities': 2, 'injured': 5, 'time_of_day':...</td>\n",
       "      <td>2</td>\n",
       "      <td>5</td>\n",
       "      <td>NA</td>\n",
       "      <td>[Female]</td>\n",
       "      <td>[car, bus]</td>\n",
       "      <td>0.0</td>\n",
       "      <td>[]</td>\n",
       "      <td>107790964</td>\n",
       "    </tr>\n",
       "  </tbody>\n",
       "</table>\n",
       "</div>"
      ],
      "text/plain": [
       "                                             content  \\\n",
       "0  SULTANPUR : Three people lost their lives on F...   \n",
       "1  JAIPUR: Three people died in a car accident in...   \n",
       "2  RAICHUR: Two women killed and five others were...   \n",
       "\n",
       "                                         JSON_String  \\\n",
       "0  output:{\"fatalities\": 3,\"injured\":1,\"time_of_d...   \n",
       "1  output:{\"fatalities\": 3,\"injured\":0,\"time_of_d...   \n",
       "2  output:{\"fatalities\": 2,\"injured\":5,\"time_of_d...   \n",
       "\n",
       "                                           JSON_Dict fatalities injured  \\\n",
       "0  {'fatalities': 3, 'injured': 1, 'time_of_day':...          3       1   \n",
       "1  {'fatalities': 3, 'injured': 0, 'time_of_day':...          3       0   \n",
       "2  {'fatalities': 2, 'injured': 5, 'time_of_day':...          2       5   \n",
       "\n",
       "           reason   victim_gender      vehicles  child_involved  \\\n",
       "0    rash driving  [Male, Female]         [car]             0.0   \n",
       "1  sudden braking          [Male]  [car, truck]             0.0   \n",
       "2              NA        [Female]    [car, bus]             0.0   \n",
       "\n",
       "                                          names_ages         id  \n",
       "0  [(Chinta Devi, 51), (Ram Chandra Gupta, 55), (...  107938160  \n",
       "1  [(Ravinder Kumar, na), (Subhash Kumar, na), (A...  107821301  \n",
       "2                                                 []  107790964  "
      ]
     },
     "execution_count": 303,
     "metadata": {},
     "output_type": "execute_result"
    }
   ],
   "source": [
    "merged_df.head(3)"
   ]
  },
  {
   "cell_type": "code",
   "execution_count": 304,
   "id": "51194e12-b380-4bc7-a899-ffaaa930bc30",
   "metadata": {
    "tags": []
   },
   "outputs": [],
   "source": [
    "merged_df = merged_df[merged_df['JSON_Dict'] == 'error:incorrect_format']"
   ]
  },
  {
   "cell_type": "code",
   "execution_count": 305,
   "id": "e93af878-1b1a-4738-a829-2c2830e19f8e",
   "metadata": {
    "tags": []
   },
   "outputs": [
    {
     "data": {
      "text/plain": [
       "(187, 11)"
      ]
     },
     "execution_count": 305,
     "metadata": {},
     "output_type": "execute_result"
    }
   ],
   "source": [
    "merged_df.shape"
   ]
  },
  {
   "cell_type": "code",
   "execution_count": 272,
   "id": "8c4e1b8b-8ee6-45a8-8650-d0e183ce4ab4",
   "metadata": {
    "tags": []
   },
   "outputs": [
    {
     "ename": "JSONDecodeError",
     "evalue": "Expecting value: line 1 column 150 (char 149)",
     "output_type": "error",
     "traceback": [
      "\u001b[0;31m---------------------------------------------------------------------------\u001b[0m",
      "\u001b[0;31mJSONDecodeError\u001b[0m                           Traceback (most recent call last)",
      "Cell \u001b[0;32mIn[272], line 9\u001b[0m\n\u001b[1;32m      6\u001b[0m json_text \u001b[38;5;241m=\u001b[39m text\u001b[38;5;241m.\u001b[39msplit(\u001b[38;5;124m'\u001b[39m\u001b[38;5;124m:\u001b[39m\u001b[38;5;124m'\u001b[39m, \u001b[38;5;241m1\u001b[39m)[\u001b[38;5;241m1\u001b[39m]\n\u001b[1;32m      8\u001b[0m \u001b[38;5;66;03m# Converting the JSON string to a dictionary\u001b[39;00m\n\u001b[0;32m----> 9\u001b[0m data_dict \u001b[38;5;241m=\u001b[39m json\u001b[38;5;241m.\u001b[39mloads(json_text)\n\u001b[1;32m     11\u001b[0m \u001b[38;5;28mprint\u001b[39m(data_dict)\n",
      "File \u001b[0;32m~/anaconda3/lib/python3.11/json/__init__.py:346\u001b[0m, in \u001b[0;36mloads\u001b[0;34m(s, cls, object_hook, parse_float, parse_int, parse_constant, object_pairs_hook, **kw)\u001b[0m\n\u001b[1;32m    341\u001b[0m     s \u001b[38;5;241m=\u001b[39m s\u001b[38;5;241m.\u001b[39mdecode(detect_encoding(s), \u001b[38;5;124m'\u001b[39m\u001b[38;5;124msurrogatepass\u001b[39m\u001b[38;5;124m'\u001b[39m)\n\u001b[1;32m    343\u001b[0m \u001b[38;5;28;01mif\u001b[39;00m (\u001b[38;5;28mcls\u001b[39m \u001b[38;5;129;01mis\u001b[39;00m \u001b[38;5;28;01mNone\u001b[39;00m \u001b[38;5;129;01mand\u001b[39;00m object_hook \u001b[38;5;129;01mis\u001b[39;00m \u001b[38;5;28;01mNone\u001b[39;00m \u001b[38;5;129;01mand\u001b[39;00m\n\u001b[1;32m    344\u001b[0m         parse_int \u001b[38;5;129;01mis\u001b[39;00m \u001b[38;5;28;01mNone\u001b[39;00m \u001b[38;5;129;01mand\u001b[39;00m parse_float \u001b[38;5;129;01mis\u001b[39;00m \u001b[38;5;28;01mNone\u001b[39;00m \u001b[38;5;129;01mand\u001b[39;00m\n\u001b[1;32m    345\u001b[0m         parse_constant \u001b[38;5;129;01mis\u001b[39;00m \u001b[38;5;28;01mNone\u001b[39;00m \u001b[38;5;129;01mand\u001b[39;00m object_pairs_hook \u001b[38;5;129;01mis\u001b[39;00m \u001b[38;5;28;01mNone\u001b[39;00m \u001b[38;5;129;01mand\u001b[39;00m \u001b[38;5;129;01mnot\u001b[39;00m kw):\n\u001b[0;32m--> 346\u001b[0m     \u001b[38;5;28;01mreturn\u001b[39;00m _default_decoder\u001b[38;5;241m.\u001b[39mdecode(s)\n\u001b[1;32m    347\u001b[0m \u001b[38;5;28;01mif\u001b[39;00m \u001b[38;5;28mcls\u001b[39m \u001b[38;5;129;01mis\u001b[39;00m \u001b[38;5;28;01mNone\u001b[39;00m:\n\u001b[1;32m    348\u001b[0m     \u001b[38;5;28mcls\u001b[39m \u001b[38;5;241m=\u001b[39m JSONDecoder\n",
      "File \u001b[0;32m~/anaconda3/lib/python3.11/json/decoder.py:337\u001b[0m, in \u001b[0;36mJSONDecoder.decode\u001b[0;34m(self, s, _w)\u001b[0m\n\u001b[1;32m    332\u001b[0m \u001b[38;5;28;01mdef\u001b[39;00m \u001b[38;5;21mdecode\u001b[39m(\u001b[38;5;28mself\u001b[39m, s, _w\u001b[38;5;241m=\u001b[39mWHITESPACE\u001b[38;5;241m.\u001b[39mmatch):\n\u001b[1;32m    333\u001b[0m \u001b[38;5;250m    \u001b[39m\u001b[38;5;124;03m\"\"\"Return the Python representation of ``s`` (a ``str`` instance\u001b[39;00m\n\u001b[1;32m    334\u001b[0m \u001b[38;5;124;03m    containing a JSON document).\u001b[39;00m\n\u001b[1;32m    335\u001b[0m \n\u001b[1;32m    336\u001b[0m \u001b[38;5;124;03m    \"\"\"\u001b[39;00m\n\u001b[0;32m--> 337\u001b[0m     obj, end \u001b[38;5;241m=\u001b[39m \u001b[38;5;28mself\u001b[39m\u001b[38;5;241m.\u001b[39mraw_decode(s, idx\u001b[38;5;241m=\u001b[39m_w(s, \u001b[38;5;241m0\u001b[39m)\u001b[38;5;241m.\u001b[39mend())\n\u001b[1;32m    338\u001b[0m     end \u001b[38;5;241m=\u001b[39m _w(s, end)\u001b[38;5;241m.\u001b[39mend()\n\u001b[1;32m    339\u001b[0m     \u001b[38;5;28;01mif\u001b[39;00m end \u001b[38;5;241m!=\u001b[39m \u001b[38;5;28mlen\u001b[39m(s):\n",
      "File \u001b[0;32m~/anaconda3/lib/python3.11/json/decoder.py:355\u001b[0m, in \u001b[0;36mJSONDecoder.raw_decode\u001b[0;34m(self, s, idx)\u001b[0m\n\u001b[1;32m    353\u001b[0m     obj, end \u001b[38;5;241m=\u001b[39m \u001b[38;5;28mself\u001b[39m\u001b[38;5;241m.\u001b[39mscan_once(s, idx)\n\u001b[1;32m    354\u001b[0m \u001b[38;5;28;01mexcept\u001b[39;00m \u001b[38;5;167;01mStopIteration\u001b[39;00m \u001b[38;5;28;01mas\u001b[39;00m err:\n\u001b[0;32m--> 355\u001b[0m     \u001b[38;5;28;01mraise\u001b[39;00m JSONDecodeError(\u001b[38;5;124m\"\u001b[39m\u001b[38;5;124mExpecting value\u001b[39m\u001b[38;5;124m\"\u001b[39m, s, err\u001b[38;5;241m.\u001b[39mvalue) \u001b[38;5;28;01mfrom\u001b[39;00m \u001b[38;5;28;01mNone\u001b[39;00m\n\u001b[1;32m    356\u001b[0m \u001b[38;5;28;01mreturn\u001b[39;00m obj, end\n",
      "\u001b[0;31mJSONDecodeError\u001b[0m: Expecting value: line 1 column 150 (char 149)"
     ]
    }
   ],
   "source": [
    "import json\n",
    "\n",
    "text = 'output:{\"fatalities\": 0,\"injured\":1,\"time_of_day\":\"NA\",\"reason\":\"car accident\",\"victim_gender\":[\"Male\"],\"vehicles\":[\"car\"],\"child_involved\":0,\"names_ages\":[(\"Rishabh Pant\",\"na\")]}'\n",
    "\n",
    "# Extracting the JSON part\n",
    "json_text = text.split(':', 1)[1]\n",
    "\n",
    "# Converting the JSON string to a dictionary\n",
    "data_dict = json.loads(json_text)\n",
    "\n",
    "print(data_dict)\n"
   ]
  },
  {
   "cell_type": "code",
   "execution_count": null,
   "id": "e78b357c-cb74-42d1-91f0-ea075ba3f162",
   "metadata": {},
   "outputs": [],
   "source": []
  }
 ],
 "metadata": {
  "kernelspec": {
   "display_name": "Python 3 (ipykernel)",
   "language": "python",
   "name": "python3"
  },
  "language_info": {
   "codemirror_mode": {
    "name": "ipython",
    "version": 3
   },
   "file_extension": ".py",
   "mimetype": "text/x-python",
   "name": "python",
   "nbconvert_exporter": "python",
   "pygments_lexer": "ipython3",
   "version": "3.11.5"
  }
 },
 "nbformat": 4,
 "nbformat_minor": 5
}
