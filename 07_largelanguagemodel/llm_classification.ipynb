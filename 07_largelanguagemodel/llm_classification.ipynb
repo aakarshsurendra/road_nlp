{
 "cells": [
  {
   "cell_type": "markdown",
   "id": "98138da8-1126-42df-a162-2542a9bd0eb7",
   "metadata": {
    "tags": []
   },
   "source": [
    "# __init__"
   ]
  },
  {
   "cell_type": "code",
   "execution_count": 87,
   "id": "d2ef5ae2-647c-46cb-9b18-9eb7dcc6b1a9",
   "metadata": {
    "tags": []
   },
   "outputs": [
    {
     "data": {
      "text/plain": [
       "True"
      ]
     },
     "execution_count": 87,
     "metadata": {},
     "output_type": "execute_result"
    }
   ],
   "source": [
    "from openai import OpenAI\n",
    "import openai\n",
    "from dotenv import load_dotenv\n",
    "import os\n",
    "from tqdm import tqdm\n",
    "import json\n",
    "import time\n",
    "\n",
    "import pandas as pd\n",
    "import numpy as np\n",
    "import ast\n",
    "import re\n",
    "\n",
    "from datetime import datetime\n",
    "import pandas as pd\n",
    "import numpy as np\n",
    "from word2number import w2n\n",
    "import re\n",
    "import numpy as np\n",
    "\n",
    "# Load environment variables from .env file in current directory\n",
    "load_dotenv()"
   ]
  },
  {
   "cell_type": "markdown",
   "id": "0893c15b-a876-4876-8cde-461fc06ee8c6",
   "metadata": {
    "tags": []
   },
   "source": [
    "# Point to API Key"
   ]
  },
  {
   "cell_type": "code",
   "execution_count": 88,
   "id": "d8c0ae10-28ee-43d5-bd97-00fde453abe1",
   "metadata": {
    "tags": []
   },
   "outputs": [],
   "source": [
    "api_key = os.getenv(\"API_KEY\")"
   ]
  },
  {
   "cell_type": "code",
   "execution_count": 89,
   "id": "9453ac59-77d2-4ae1-89bb-6181aca94d52",
   "metadata": {
    "tags": []
   },
   "outputs": [],
   "source": [
    "if api_key:\n",
    "    client = OpenAI(api_key=api_key)\n",
    "else:\n",
    "    print(\"API key not found. Please set your API key as an environment variable.\")"
   ]
  },
  {
   "cell_type": "markdown",
   "id": "6828219a-5a5c-4590-8de8-577955413ebe",
   "metadata": {
    "tags": []
   },
   "source": [
    "# Load data (openai - responses)"
   ]
  },
  {
   "cell_type": "code",
   "execution_count": 90,
   "id": "91c3ba9b-3c27-4bb4-81a7-a16dd1dcdf41",
   "metadata": {
    "tags": []
   },
   "outputs": [],
   "source": [
    "df = pd.read_csv('data_extracted_llm_openai.csv')"
   ]
  },
  {
   "cell_type": "markdown",
   "id": "d5c1b92e-9818-440c-91ba-c743ed5ed89f",
   "metadata": {
    "tags": []
   },
   "source": [
    "# Functions"
   ]
  },
  {
   "cell_type": "code",
   "execution_count": null,
   "id": "71c6a678-b529-446e-9b5e-ad32579641e8",
   "metadata": {},
   "outputs": [],
   "source": [
    "## Clean up functions"
   ]
  },
  {
   "cell_type": "code",
   "execution_count": 91,
   "id": "79f7c06c-2a23-4c26-8227-be7a57757652",
   "metadata": {
    "tags": []
   },
   "outputs": [],
   "source": [
    "def get_only_reasontimevehicle(d):\n",
    "    filtered_dict = {}\n",
    "    keys_to_keep = ['time_of_day', 'reason', 'vehicles']\n",
    "\n",
    "    for key in keys_to_keep:\n",
    "        if key in d:\n",
    "            filtered_dict[key] = d[key]\n",
    "\n",
    "    return filtered_dict\n",
    "\n",
    "def dict_to_string(d):\n",
    "    string_representation = '{'\n",
    "    for key, value in d.items():\n",
    "        if isinstance(value, str):\n",
    "            string_representation += f\"'{key}': '{value}', \"\n",
    "        else:\n",
    "            string_representation += f\"'{key}': {value}, \"\n",
    "    string_representation = string_representation.rstrip(', ') + '}'\n",
    "    return string_representation\n",
    "\n",
    "\n",
    "# Function to convert JSON string to dictionary\n",
    "def json_str_to_dict(json_str):\n",
    "    try:\n",
    "        json_str = json_str.replace('output:', '')\n",
    "        return ast.literal_eval(json_str)\n",
    "    except:\n",
    "        return \"error:incorrect_format\""
   ]
  },
  {
   "cell_type": "markdown",
   "id": "faa283b7-cdb5-470f-807d-25099b05f7c5",
   "metadata": {
    "jp-MarkdownHeadingCollapsed": true,
    "tags": []
   },
   "source": [
    "# LLM classification\n",
    "[time_of_day,reason,vehicles]"
   ]
  },
  {
   "cell_type": "code",
   "execution_count": 96,
   "id": "943010bf-0cb5-4586-b6b9-363147713a5a",
   "metadata": {
    "tags": []
   },
   "outputs": [],
   "source": [
    "class MessageInitializer:\n",
    "    def __init__(self,option):\n",
    "        if option == 1:\n",
    "                self.message_history = [\n",
    "            {\n",
    "              \"role\": \"system\",\n",
    "              \"content\":'''You will extract information from a news article and give me the output in json format.'''\n",
    "            },\n",
    "            {\n",
    "              \"role\": \"user\",\n",
    "              \"content\": \"'New Delhi: Two students were injured after a speeding car rammed into the footpath they were walking on in central Delhi’s Ranjit Nagar. The errant driver has been booked, police said. The accident took place in the early hours of Tuesday and the students, in their early 20s, were discharged after treatment, a police officer said. “The driver who received some injuries was also rushed to the hospital. A case under sections 279 (rash driving), 337 (hurt due to negligence) and 338 (Punishment for grievous hurt) has been registered,” said the officer. The driver has been identified and the offending vehicle has been seized, police said. The purported CCTV footage of the incident started making rounds on social media on Thursday. In the video, a man and a woman can be seen walking on the footpath when a speeding car banged into the duo walking on the footpath. Explore Your Financial Landscape with Personalized Credit Insights.'\"\n",
    "            },\n",
    "            {\n",
    "              \"role\": \"assistant\",\n",
    "              \"content\": \"output:{\\\"fatalities\\\": 0,\\\"injured\\\":2,\\\"victim_gender\\\":[\\\"Male\\\",\\\"Female\\\"],\\\"vehicles\\\":[\\\"truck\\\",\\\"car\\\"],\\\"child_involved\\\":0,\\\"names_ages\\\":[(\\\"unknown_name\\\",20),(\\\"unknown_name\\\",20)]}/\"\n",
    "            }\n",
    "          ]\n",
    "        if option == 2:\n",
    "                self.message_history = [\n",
    "        {\n",
    "          \"role\": \"system\",\n",
    "          \"content\": \"Input is a dict type.\\n\\nFor key value \\\"time_of_day\\\" classify and replace individual value to the following categories ['morning','afternoon','evening','night']\\n\\nFor key value \\\"reason\\\" classify and replace individual value to the following categories ['Speed','Driving Under Influence','Collision','Visibility','Negligence','External influences']\\n\\nFor key value \\\"vehicles\\\" classify and replace individual value to the following categories ['Car','Two-Wheeler','Commercial Vehicle','Special Vehicle']\"\n",
    "        },\n",
    "        {\n",
    "          \"role\": \"user\",\n",
    "          \"content\": \"'{\\\"time_of_day\\\":\\\"early morning\\\",\\\"reason\\\":\\\"rash driving\\\",\\\"vehicles\\\":[\\\"car\\\",\\\"tractor-trolly\\\"]}'\"\n",
    "        },\n",
    "        {\n",
    "          \"role\": \"assistant\",\n",
    "          \"content\": \"'{\\\"time_of_day\\\":\\\"morning\\\",\\\"reason\\\":\\\"Negligence\\\",\\\"vehicles\\\":[\\\"car\\\",\\\"'Special Vehicle'\\\"]}'\"\n",
    "        },\n",
    "        {\n",
    "          \"role\": \"user\",\n",
    "          \"content\": \"'{\\\"time_of_day\\\":\\\"early morning\\\",\\\"reason\\\":\\\"speeding\\\",\\\"vehicles\\\":[\\\"car\\\"]}'\"\n",
    "        },\n",
    "        {\n",
    "          \"role\": \"assistant\",\n",
    "          \"content\": \"'{\\\"time_of_day\\\":\\\"morning\\\",\\\"reason\\\":\\\"Speed\\\",\\\"vehicles\\\":[\\\"Car\\\"]}'\"\n",
    "        },\n",
    "        {\n",
    "          \"role\": \"user\",\n",
    "          \"content\": \"'{\\\"time_of_day\\\":\\\"wee hours\\\",\\\"reason\\\":\\\"Lost control over vehicle\\\",\\\"vehicles\\\":[\\\"BMW\\\",\\\"Truck\\\",\\\"scooty\\\"]}'\"\n",
    "        },\n",
    "        {\n",
    "          \"role\": \"assistant\",\n",
    "          \"content\": \"'{\\\"time_of_day\\\":\\\"night\\\",\\\"reason\\\":\\\"Negligence\\\",\\\"vehicles\\\":[\\\"Car\\\",\\\"Commercial Vehicle\\\",\\\"Two-Wheeler\\\"]}'\"\n",
    "        }\n",
    "  ]\n",
    "    \n",
    "    def add_user_input(self, role, content):\n",
    "        self.user_input = {\"role\": role, \"content\": content}\n",
    "        self.prompt = self.message_history\n",
    "        self.prompt.append(self.user_input)\n",
    "        return (self.prompt)"
   ]
  },
  {
   "cell_type": "markdown",
   "id": "632b49d2-9d5f-49ac-af8b-ca2663a22928",
   "metadata": {
    "tags": []
   },
   "source": [
    "# Applying cleanup functions \n",
    "[fatalities, injured, victim_gender]"
   ]
  },
  {
   "cell_type": "code",
   "execution_count": 95,
   "id": "84034207-8f5f-4ac2-be4f-97d54d9d26e8",
   "metadata": {
    "tags": []
   },
   "outputs": [],
   "source": [
    "df['fatalities'] = df['fatalities'].astype(str).apply(text_to_single_number)\n",
    "df['injured'] = df['injured'].astype(str).apply(text_to_single_number)\n",
    "df['victim_gender_t'] = df['victim_gender'].astype(str).apply(classify_gender)"
   ]
  },
  {
   "cell_type": "markdown",
   "id": "4184d48e-3729-4532-9511-6505e25935bd",
   "metadata": {
    "tags": []
   },
   "source": [
    "# Individual test"
   ]
  },
  {
   "cell_type": "code",
   "execution_count": 97,
   "id": "015fd34f-bc04-4528-b82a-17998856e33b",
   "metadata": {
    "tags": []
   },
   "outputs": [
    {
     "data": {
      "text/plain": [
       "\"{'time_of_day': 'night', 'reason': 'Collision', 'vehicles': ['Car', 'Special Vehicle', 'Commercial Vehicle', 'Two-Wheeler']}\""
      ]
     },
     "execution_count": 97,
     "metadata": {},
     "output_type": "execute_result"
    }
   ],
   "source": [
    "# m = MessageInitializer(2)\n",
    "\n",
    "# message = m.add_user_input(\"user\",\"'{\\\"time_of_day\\\":\\\"night\\\",\\\"reason\\\":\\\"snorting drugs\\\",\\\"vehicles\\\":[\\\"Car\\\",\\\"Commercial Vehicle\\\",\\\"Two-Wheeler\\\"]}'\")\n",
    "\n",
    "\n",
    "response = client.chat.completions.create(\n",
    "            model=\"gpt-3.5-turbo-0125\",\n",
    "            messages = message,\n",
    "            temperature=0.5,\n",
    "            max_tokens=256,\n",
    "            top_p=0.5,\n",
    "            frequency_penalty=0,\n",
    "            presence_penalty=0\n",
    "                                            )\n",
    "\n",
    "response.choices[0].message.content"
   ]
  },
  {
   "cell_type": "code",
   "execution_count": 98,
   "id": "e35b6605-140a-47d2-adb1-c6bf02af7941",
   "metadata": {
    "tags": []
   },
   "outputs": [
    {
     "name": "stdout",
     "output_type": "stream",
     "text": [
      "[{'role': 'system', 'content': 'Input is a dict type.\\n\\nFor key value \"time_of_day\" classify and replace individual value to the following categories [\\'morning\\',\\'afternoon\\',\\'evening\\',\\'night\\']\\n\\nFor key value \"reason\" classify and replace individual value to the following categories [\\'Speed\\',\\'Driving Under Influence\\',\\'Collision\\',\\'Visibility\\',\\'Negligence\\',\\'External influences\\']\\n\\nFor key value \"vehicles\" classify and replace individual value to the following categories [\\'Car\\',\\'Two-Wheeler\\',\\'Commercial Vehicle\\',\\'Special Vehicle\\']'}, {'role': 'user', 'content': '\\'{\"time_of_day\":\"early morning\",\"reason\":\"rash driving\",\"vehicles\":[\"car\",\"tractor-trolly\"]}\\''}, {'role': 'assistant', 'content': '\\'{\"time_of_day\":\"morning\",\"reason\":\"Negligence\",\"vehicles\":[\"car\",\"\\'Special Vehicle\\'\"]}\\''}, {'role': 'user', 'content': '\\'{\"time_of_day\":\"early morning\",\"reason\":\"speeding\",\"vehicles\":[\"car\"]}\\''}, {'role': 'assistant', 'content': '\\'{\"time_of_day\":\"morning\",\"reason\":\"Speed\",\"vehicles\":[\"Car\"]}\\''}, {'role': 'user', 'content': '\\'{\"time_of_day\":\"wee hours\",\"reason\":\"Lost control over vehicle\",\"vehicles\":[\"BMW\",\"Truck\",\"scooty\"]}\\''}, {'role': 'assistant', 'content': '\\'{\"time_of_day\":\"night\",\"reason\":\"Negligence\",\"vehicles\":[\"Car\",\"Commercial Vehicle\",\"Two-Wheeler\"]}\\''}, {'role': 'user', 'content': \"{'time_of_day': 'Night', 'reason': 'JCB machine rammed into car', 'vehicles': ['car', 'JCB machine', 'SUV', 'bike']}\"}]\n"
     ]
    }
   ],
   "source": [
    "print(message)"
   ]
  },
  {
   "cell_type": "markdown",
   "id": "e8effde4-d4bf-473e-889d-1dc50124a3a0",
   "metadata": {
    "tags": []
   },
   "source": [
    "# Preprocess the str for passing through the llm\n",
    "\n",
    "Workflow: str --> dict(filter) --> str"
   ]
  },
  {
   "cell_type": "code",
   "execution_count": 99,
   "id": "b260eebe-86b8-4c89-80d6-4e416f1d318b",
   "metadata": {
    "tags": []
   },
   "outputs": [],
   "source": [
    "df['JSON_Dict_filtered'] = df['JSON_Dict'].apply(json_str_to_dict)"
   ]
  },
  {
   "cell_type": "code",
   "execution_count": 100,
   "id": "6a046250-1105-4880-8a07-29b93157e7fe",
   "metadata": {
    "tags": []
   },
   "outputs": [],
   "source": [
    "df['JSON_Dict_filtered'] = df['JSON_Dict_filtered'].apply(get_only_reasontimevehicle)"
   ]
  },
  {
   "cell_type": "code",
   "execution_count": 101,
   "id": "581cded0-8066-4b41-b531-3bd614c8165b",
   "metadata": {
    "tags": []
   },
   "outputs": [],
   "source": [
    "df['JSON_Dict_filtered'] = df['JSON_Dict_filtered'].apply(dict_to_string)"
   ]
  },
  {
   "cell_type": "code",
   "execution_count": 104,
   "id": "65f92353-ef71-45c9-ba5d-a4b96db115aa",
   "metadata": {
    "tags": []
   },
   "outputs": [],
   "source": [
    "# "
   ]
  },
  {
   "cell_type": "code",
   "execution_count": 105,
   "id": "2efebddc-0371-481c-bd3d-2ba59e6f9cbb",
   "metadata": {
    "tags": []
   },
   "outputs": [
    {
     "name": "stderr",
     "output_type": "stream",
     "text": [
      " 23%|████████▌                            | 1998/8646 [30:45<1:36:20,  1.15it/s]"
     ]
    },
    {
     "name": "stdin",
     "output_type": "stream",
     "text": [
      "Continue (y/n)?  y\n"
     ]
    },
    {
     "name": "stderr",
     "output_type": "stream",
     "text": [
      " 46%|████████████████▏                  | 3998/8646 [1:03:14<1:13:27,  1.05it/s]"
     ]
    },
    {
     "name": "stdin",
     "output_type": "stream",
     "text": [
      "Continue (y/n)?  y\n"
     ]
    },
    {
     "name": "stderr",
     "output_type": "stream",
     "text": [
      " 69%|█████████████████████████▋           | 5998/8646 [1:36:49<45:11,  1.02s/it]"
     ]
    },
    {
     "name": "stdin",
     "output_type": "stream",
     "text": [
      "Continue (y/n)?  y\n"
     ]
    },
    {
     "name": "stderr",
     "output_type": "stream",
     "text": [
      " 93%|██████████████████████████████████▏  | 7998/8646 [2:10:52<14:40,  1.36s/it]"
     ]
    },
    {
     "name": "stdin",
     "output_type": "stream",
     "text": [
      "Continue (y/n)?  y\n"
     ]
    },
    {
     "name": "stderr",
     "output_type": "stream",
     "text": [
      "100%|█████████████████████████████████████| 8646/8646 [2:25:27<00:00,  1.01s/it]\n"
     ]
    }
   ],
   "source": [
    "# %%time\n",
    "\n",
    "print_outout = False\n",
    "\n",
    "# --------------------------------------------\n",
    "# --------------------------------------------\n",
    "\n",
    "file_path = \"classification_progress.json\"\n",
    "\n",
    "# Check if extraction_progress.json exists\n",
    "if os.path.exists(file_path):\n",
    "    with open(file_path, \"r\") as file:\n",
    "        extraction_progress = json.load(file)\n",
    "else:\n",
    "    extraction_progress = {}\n",
    "    with open(file_path, \"w\") as file:\n",
    "        json.dump(extraction_progress, file)\n",
    "        \n",
    "# --------------------------------------------\n",
    "# --------------------------------------------\n",
    "\n",
    "# Filter out ids that have already been processed\n",
    "processed_ids = list(map(int, extraction_progress.keys()))\n",
    "\n",
    "remaining_ids = df[~df['id'].isin(processed_ids)]\n",
    "\n",
    "count = 1\n",
    "\n",
    "for index, row in tqdm(remaining_ids.iterrows(), total=remaining_ids.shape[0]):\n",
    "        \n",
    "    # ---message---\n",
    "    m = MessageInitializer(2)\n",
    "    message = m.add_user_input(\"user\",row['JSON_Dict_filtered'])\n",
    "    \n",
    "    \n",
    "    # ---send_message---\n",
    "    try:\n",
    "        response = client.chat.completions.create(\n",
    "                    model=\"gpt-3.5-turbo-0125\",\n",
    "                    messages = message,\n",
    "                    temperature=0.5,\n",
    "                    max_tokens=256,\n",
    "                    top_p=0.5,\n",
    "                    frequency_penalty=0,\n",
    "                    presence_penalty=0\n",
    "                                                    )\n",
    "    except:\n",
    "        continue\n",
    "        \n",
    "    if print_outout == True:\n",
    "        print('\\n')\n",
    "        print(m.user_input)\n",
    "        print(\"-\"*50)\n",
    "        print(response.choices[0].message.content)\n",
    "        print(\"-\"*15)\n",
    "        print(\"~\"*5,\"Output\",\"~\"*5)\n",
    "        print('type -->',type(response.choices[0].message.content))\n",
    "        print('total tokens -->',str(response.usage.total_tokens))\n",
    "        print('prompt_tokens - ',response.usage.prompt_tokens,'response_tokens - ',response.usage.completion_tokens)\n",
    "        print(\"--x\"*15,'\\n')\n",
    "        \n",
    "        \n",
    "    try:\n",
    "        extraction_progress[row['id']] = (response.choices[0].message.content)\n",
    "    except:\n",
    "        extraction_progress[row['id']] = 'error_openai'\n",
    "        \n",
    "    with open(\"classification_progress.json\", \"w\") as file:\n",
    "        json.dump(extraction_progress, file)\n",
    "    \n",
    "    count += 1\n",
    "    \n",
    "    if count % 2000 == 0:\n",
    "        user_input = input(\"Continue (y/n)? \")\n",
    "        if user_input.lower() != 'y':\n",
    "            break\n",
    "        \n",
    "    \n",
    "    \n",
    "    time.sleep(0.2)\n",
    "        "
   ]
  },
  {
   "cell_type": "code",
   "execution_count": null,
   "id": "1c575223-41b1-46d0-af67-2bd491d725a5",
   "metadata": {},
   "outputs": [],
   "source": [
    "# This will extract from JSON "
   ]
  },
  {
   "cell_type": "code",
   "execution_count": 106,
   "id": "0730f0c7-7c9e-40ff-949b-7188ddb55171",
   "metadata": {
    "tags": []
   },
   "outputs": [
    {
     "name": "stdout",
     "output_type": "stream",
     "text": [
      "Extraction complete\n"
     ]
    }
   ],
   "source": [
    "import json\n",
    "import pandas as pd\n",
    "import os\n",
    "import ast  # Add this import statement\n",
    "\n",
    "# Check if extraction_progress.json exists\n",
    "if os.path.exists(\"classification_progress.json\"):\n",
    "    with open(\"classification_progress.json\", \"r\") as file:\n",
    "        data = json.load(file)\n",
    "\n",
    "    # Create DataFrame with keys and entire JSON string values\n",
    "    df_json = pd.DataFrame(list(data.items()), columns=['ID', 'JSON_String'])\n",
    "    df_json['ID'] = df_json['ID'].astype(int)\n",
    "    df_json['JSON_String'] = df_json['JSON_String'].str.replace(',na)', ',\"na\")')\n",
    "    \n",
    "\n",
    "    # Function to convert JSON string to dictionary\n",
    "    def json_str_to_dict(json_str):\n",
    "        try:\n",
    "            json_str = json_str.replace('output:', '')\n",
    "            return ast.literal_eval(json_str)\n",
    "        except:\n",
    "            return \"error:incorrect_format\"\n",
    "\n",
    "    # Convert JSON strings to dictionaries\n",
    "    df_json['JSON_Dict'] = df_json['JSON_String'].apply(json_str_to_dict)\n",
    "\n",
    "    # Convert dictionaries to DataFrame\n",
    "    df = pd.json_normalize(df_json['JSON_Dict'])\n",
    "\n",
    "    # Concatenate df_json and df\n",
    "    df_extacted = pd.concat([df_json, df], axis=1)\n",
    "    \n",
    "    print('Extraction complete')\n",
    "else:\n",
    "    print(\"extraction_progress.json file does not exist.\")"
   ]
  },
  {
   "cell_type": "code",
   "execution_count": 107,
   "id": "ec9bc96e-4658-43ae-9f05-bd700a4570cc",
   "metadata": {},
   "outputs": [
    {
     "data": {
      "text/html": [
       "<div>\n",
       "<style scoped>\n",
       "    .dataframe tbody tr th:only-of-type {\n",
       "        vertical-align: middle;\n",
       "    }\n",
       "\n",
       "    .dataframe tbody tr th {\n",
       "        vertical-align: top;\n",
       "    }\n",
       "\n",
       "    .dataframe thead th {\n",
       "        text-align: right;\n",
       "    }\n",
       "</style>\n",
       "<table border=\"1\" class=\"dataframe\">\n",
       "  <thead>\n",
       "    <tr style=\"text-align: right;\">\n",
       "      <th></th>\n",
       "      <th>ID</th>\n",
       "      <th>JSON_String</th>\n",
       "      <th>JSON_Dict</th>\n",
       "      <th>time_of_day</th>\n",
       "      <th>reason</th>\n",
       "      <th>vehicles</th>\n",
       "    </tr>\n",
       "  </thead>\n",
       "  <tbody>\n",
       "    <tr>\n",
       "      <th>0</th>\n",
       "      <td>107938160</td>\n",
       "      <td>{'time_of_day': 'NA', 'reason': 'Negligence', ...</td>\n",
       "      <td>{'time_of_day': 'NA', 'reason': 'Negligence', ...</td>\n",
       "      <td>NA</td>\n",
       "      <td>Negligence</td>\n",
       "      <td>[Car]</td>\n",
       "    </tr>\n",
       "    <tr>\n",
       "      <th>1</th>\n",
       "      <td>107821301</td>\n",
       "      <td>{'time_of_day': 'night', 'reason': 'Collision'...</td>\n",
       "      <td>{'time_of_day': 'night', 'reason': 'Collision'...</td>\n",
       "      <td>night</td>\n",
       "      <td>Collision</td>\n",
       "      <td>[Car, Commercial Vehicle]</td>\n",
       "    </tr>\n",
       "    <tr>\n",
       "      <th>2</th>\n",
       "      <td>107790964</td>\n",
       "      <td>{'time_of_day': 'morning', 'reason': 'External...</td>\n",
       "      <td>{'time_of_day': 'morning', 'reason': 'External...</td>\n",
       "      <td>morning</td>\n",
       "      <td>External influences</td>\n",
       "      <td>[Car, Commercial Vehicle]</td>\n",
       "    </tr>\n",
       "    <tr>\n",
       "      <th>3</th>\n",
       "      <td>107737101</td>\n",
       "      <td>{'time_of_day': 'morning', 'reason': 'Speed', ...</td>\n",
       "      <td>{'time_of_day': 'morning', 'reason': 'Speed', ...</td>\n",
       "      <td>morning</td>\n",
       "      <td>Speed</td>\n",
       "      <td>[Car]</td>\n",
       "    </tr>\n",
       "    <tr>\n",
       "      <th>4</th>\n",
       "      <td>107897709</td>\n",
       "      <td>{'time_of_day': 'night', 'reason': 'External i...</td>\n",
       "      <td>{'time_of_day': 'night', 'reason': 'External i...</td>\n",
       "      <td>night</td>\n",
       "      <td>External influences</td>\n",
       "      <td>[Car]</td>\n",
       "    </tr>\n",
       "    <tr>\n",
       "      <th>...</th>\n",
       "      <td>...</td>\n",
       "      <td>...</td>\n",
       "      <td>...</td>\n",
       "      <td>...</td>\n",
       "      <td>...</td>\n",
       "      <td>...</td>\n",
       "    </tr>\n",
       "    <tr>\n",
       "      <th>8740</th>\n",
       "      <td>72050326</td>\n",
       "      <td>{'time_of_day': 'NA', 'reason': 'NA', 'vehicle...</td>\n",
       "      <td>{'time_of_day': 'NA', 'reason': 'NA', 'vehicle...</td>\n",
       "      <td>NA</td>\n",
       "      <td>NA</td>\n",
       "      <td>[Car, Special Vehicle]</td>\n",
       "    </tr>\n",
       "    <tr>\n",
       "      <th>8741</th>\n",
       "      <td>72029018</td>\n",
       "      <td>{'time_of_day': 'afternoon', 'reason': 'Extern...</td>\n",
       "      <td>{'time_of_day': 'afternoon', 'reason': 'Extern...</td>\n",
       "      <td>afternoon</td>\n",
       "      <td>External influences</td>\n",
       "      <td>[Car]</td>\n",
       "    </tr>\n",
       "    <tr>\n",
       "      <th>8742</th>\n",
       "      <td>56742830</td>\n",
       "      <td>{'time_of_day': 'night', 'reason': 'Driving Un...</td>\n",
       "      <td>{'time_of_day': 'night', 'reason': 'Driving Un...</td>\n",
       "      <td>night</td>\n",
       "      <td>Driving Under Influence</td>\n",
       "      <td>[Two-Wheeler, Commercial Vehicle]</td>\n",
       "    </tr>\n",
       "    <tr>\n",
       "      <th>8743</th>\n",
       "      <td>67996026</td>\n",
       "      <td>{'time_of_day': 'NA', 'reason': 'NA', 'vehicle...</td>\n",
       "      <td>{'time_of_day': 'NA', 'reason': 'NA', 'vehicle...</td>\n",
       "      <td>NA</td>\n",
       "      <td>NA</td>\n",
       "      <td>[Car, Commercial Vehicle]</td>\n",
       "    </tr>\n",
       "    <tr>\n",
       "      <th>8744</th>\n",
       "      <td>15067853</td>\n",
       "      <td>{'time_of_day': 'afternoon', 'reason': 'Collis...</td>\n",
       "      <td>{'time_of_day': 'afternoon', 'reason': 'Collis...</td>\n",
       "      <td>afternoon</td>\n",
       "      <td>Collision</td>\n",
       "      <td>[Car, Commercial Vehicle]</td>\n",
       "    </tr>\n",
       "  </tbody>\n",
       "</table>\n",
       "<p>8745 rows × 6 columns</p>\n",
       "</div>"
      ],
      "text/plain": [
       "             ID                                        JSON_String  \\\n",
       "0     107938160  {'time_of_day': 'NA', 'reason': 'Negligence', ...   \n",
       "1     107821301  {'time_of_day': 'night', 'reason': 'Collision'...   \n",
       "2     107790964  {'time_of_day': 'morning', 'reason': 'External...   \n",
       "3     107737101  {'time_of_day': 'morning', 'reason': 'Speed', ...   \n",
       "4     107897709  {'time_of_day': 'night', 'reason': 'External i...   \n",
       "...         ...                                                ...   \n",
       "8740   72050326  {'time_of_day': 'NA', 'reason': 'NA', 'vehicle...   \n",
       "8741   72029018  {'time_of_day': 'afternoon', 'reason': 'Extern...   \n",
       "8742   56742830  {'time_of_day': 'night', 'reason': 'Driving Un...   \n",
       "8743   67996026  {'time_of_day': 'NA', 'reason': 'NA', 'vehicle...   \n",
       "8744   15067853  {'time_of_day': 'afternoon', 'reason': 'Collis...   \n",
       "\n",
       "                                              JSON_Dict time_of_day  \\\n",
       "0     {'time_of_day': 'NA', 'reason': 'Negligence', ...          NA   \n",
       "1     {'time_of_day': 'night', 'reason': 'Collision'...       night   \n",
       "2     {'time_of_day': 'morning', 'reason': 'External...     morning   \n",
       "3     {'time_of_day': 'morning', 'reason': 'Speed', ...     morning   \n",
       "4     {'time_of_day': 'night', 'reason': 'External i...       night   \n",
       "...                                                 ...         ...   \n",
       "8740  {'time_of_day': 'NA', 'reason': 'NA', 'vehicle...          NA   \n",
       "8741  {'time_of_day': 'afternoon', 'reason': 'Extern...   afternoon   \n",
       "8742  {'time_of_day': 'night', 'reason': 'Driving Un...       night   \n",
       "8743  {'time_of_day': 'NA', 'reason': 'NA', 'vehicle...          NA   \n",
       "8744  {'time_of_day': 'afternoon', 'reason': 'Collis...   afternoon   \n",
       "\n",
       "                       reason                           vehicles  \n",
       "0                  Negligence                              [Car]  \n",
       "1                   Collision          [Car, Commercial Vehicle]  \n",
       "2         External influences          [Car, Commercial Vehicle]  \n",
       "3                       Speed                              [Car]  \n",
       "4         External influences                              [Car]  \n",
       "...                       ...                                ...  \n",
       "8740                       NA             [Car, Special Vehicle]  \n",
       "8741      External influences                              [Car]  \n",
       "8742  Driving Under Influence  [Two-Wheeler, Commercial Vehicle]  \n",
       "8743                       NA          [Car, Commercial Vehicle]  \n",
       "8744                Collision          [Car, Commercial Vehicle]  \n",
       "\n",
       "[8745 rows x 6 columns]"
      ]
     },
     "execution_count": 107,
     "metadata": {},
     "output_type": "execute_result"
    }
   ],
   "source": [
    "df_extacted"
   ]
  },
  {
   "cell_type": "code",
   "execution_count": 109,
   "id": "a7526e37-d753-4f1f-ac1b-400db9c139e7",
   "metadata": {
    "tags": []
   },
   "outputs": [
    {
     "data": {
      "text/html": [
       "<div>\n",
       "<style scoped>\n",
       "    .dataframe tbody tr th:only-of-type {\n",
       "        vertical-align: middle;\n",
       "    }\n",
       "\n",
       "    .dataframe tbody tr th {\n",
       "        vertical-align: top;\n",
       "    }\n",
       "\n",
       "    .dataframe thead th {\n",
       "        text-align: right;\n",
       "    }\n",
       "</style>\n",
       "<table border=\"1\" class=\"dataframe\">\n",
       "  <thead>\n",
       "    <tr style=\"text-align: right;\">\n",
       "      <th></th>\n",
       "      <th>time_of_day</th>\n",
       "      <th>reason</th>\n",
       "      <th>vehicles</th>\n",
       "    </tr>\n",
       "  </thead>\n",
       "  <tbody>\n",
       "    <tr>\n",
       "      <th>0</th>\n",
       "      <td>NA</td>\n",
       "      <td>Negligence</td>\n",
       "      <td>[Car]</td>\n",
       "    </tr>\n",
       "    <tr>\n",
       "      <th>1</th>\n",
       "      <td>night</td>\n",
       "      <td>Collision</td>\n",
       "      <td>[Car, Commercial Vehicle]</td>\n",
       "    </tr>\n",
       "    <tr>\n",
       "      <th>2</th>\n",
       "      <td>morning</td>\n",
       "      <td>External influences</td>\n",
       "      <td>[Car, Commercial Vehicle]</td>\n",
       "    </tr>\n",
       "    <tr>\n",
       "      <th>3</th>\n",
       "      <td>morning</td>\n",
       "      <td>Speed</td>\n",
       "      <td>[Car]</td>\n",
       "    </tr>\n",
       "    <tr>\n",
       "      <th>4</th>\n",
       "      <td>night</td>\n",
       "      <td>External influences</td>\n",
       "      <td>[Car]</td>\n",
       "    </tr>\n",
       "    <tr>\n",
       "      <th>...</th>\n",
       "      <td>...</td>\n",
       "      <td>...</td>\n",
       "      <td>...</td>\n",
       "    </tr>\n",
       "    <tr>\n",
       "      <th>8740</th>\n",
       "      <td>NA</td>\n",
       "      <td>NA</td>\n",
       "      <td>[Car, Special Vehicle]</td>\n",
       "    </tr>\n",
       "    <tr>\n",
       "      <th>8741</th>\n",
       "      <td>afternoon</td>\n",
       "      <td>External influences</td>\n",
       "      <td>[Car]</td>\n",
       "    </tr>\n",
       "    <tr>\n",
       "      <th>8742</th>\n",
       "      <td>night</td>\n",
       "      <td>Driving Under Influence</td>\n",
       "      <td>[Two-Wheeler, Commercial Vehicle]</td>\n",
       "    </tr>\n",
       "    <tr>\n",
       "      <th>8743</th>\n",
       "      <td>NA</td>\n",
       "      <td>NA</td>\n",
       "      <td>[Car, Commercial Vehicle]</td>\n",
       "    </tr>\n",
       "    <tr>\n",
       "      <th>8744</th>\n",
       "      <td>afternoon</td>\n",
       "      <td>Collision</td>\n",
       "      <td>[Car, Commercial Vehicle]</td>\n",
       "    </tr>\n",
       "  </tbody>\n",
       "</table>\n",
       "<p>8745 rows × 3 columns</p>\n",
       "</div>"
      ],
      "text/plain": [
       "     time_of_day                   reason                           vehicles\n",
       "0             NA               Negligence                              [Car]\n",
       "1          night                Collision          [Car, Commercial Vehicle]\n",
       "2        morning      External influences          [Car, Commercial Vehicle]\n",
       "3        morning                    Speed                              [Car]\n",
       "4          night      External influences                              [Car]\n",
       "...          ...                      ...                                ...\n",
       "8740          NA                       NA             [Car, Special Vehicle]\n",
       "8741   afternoon      External influences                              [Car]\n",
       "8742       night  Driving Under Influence  [Two-Wheeler, Commercial Vehicle]\n",
       "8743          NA                       NA          [Car, Commercial Vehicle]\n",
       "8744   afternoon                Collision          [Car, Commercial Vehicle]\n",
       "\n",
       "[8745 rows x 3 columns]"
      ]
     },
     "execution_count": 109,
     "metadata": {},
     "output_type": "execute_result"
    }
   ],
   "source": [
    "df"
   ]
  },
  {
   "cell_type": "code",
   "execution_count": 108,
   "id": "8d167b92-6d01-4906-a9f0-87b01c527866",
   "metadata": {
    "tags": []
   },
   "outputs": [],
   "source": [
    "df_extacted.to_csv('reasontimevehicle_classification.csv')"
   ]
  },
  {
   "cell_type": "code",
   "execution_count": 17,
   "id": "b3f397e3-e5c6-45aa-b099-ec95dddd9553",
   "metadata": {
    "tags": []
   },
   "outputs": [
    {
     "name": "stdout",
     "output_type": "stream",
     "text": [
      "{'time_of_day': NA, 'reason': 'Negligence', 'vehicles': ['Car']}\n",
      "error:incorrect_format\n"
     ]
    }
   ],
   "source": [
    "print(df_extacted.JSON_String[0])\n"
   ]
  },
  {
   "cell_type": "code",
   "execution_count": 18,
   "id": "49440840-c018-4d74-855a-7eca4a766df2",
   "metadata": {
    "tags": []
   },
   "outputs": [
    {
     "name": "stdout",
     "output_type": "stream",
     "text": [
      "error:incorrect_format\n"
     ]
    }
   ],
   "source": [
    "\n",
    "print(df_extacted.JSON_Dict[0])"
   ]
  },
  {
   "cell_type": "markdown",
   "id": "0c6a90c8-4bdc-4137-9faf-9d0c6bf9673d",
   "metadata": {
    "jp-MarkdownHeadingCollapsed": true,
    "tags": []
   },
   "source": [
    "# Backup"
   ]
  },
  {
   "cell_type": "code",
   "execution_count": null,
   "id": "40dbc93e-b594-4fa1-b475-a9f508a8efea",
   "metadata": {},
   "outputs": [],
   "source": [
    "class MessageInitializer:\n",
    "    def __init__(self,option):\n",
    "        if option == 1:\n",
    "                self.message_history = [\n",
    "            {\n",
    "              \"role\": \"system\",\n",
    "              \"content\":'''You will extract information from a news article and give me the output in json format.'''\n",
    "            },\n",
    "            {\n",
    "              \"role\": \"user\",\n",
    "              \"content\": \"'New Delhi: Two students were injured after a speeding car rammed into the footpath they were walking on in central Delhi’s Ranjit Nagar. The errant driver has been booked, police said. The accident took place in the early hours of Tuesday and the students, in their early 20s, were discharged after treatment, a police officer said. “The driver who received some injuries was also rushed to the hospital. A case under sections 279 (rash driving), 337 (hurt due to negligence) and 338 (Punishment for grievous hurt) has been registered,” said the officer. The driver has been identified and the offending vehicle has been seized, police said. The purported CCTV footage of the incident started making rounds on social media on Thursday. In the video, a man and a woman can be seen walking on the footpath when a speeding car banged into the duo walking on the footpath. Explore Your Financial Landscape with Personalized Credit Insights.'\"\n",
    "            },\n",
    "            {\n",
    "              \"role\": \"assistant\",\n",
    "              \"content\": \"output:{\\\"fatalities\\\": 0,\\\"injured\\\":2,\\\"victim_gender\\\":[\\\"Male\\\",\\\"Female\\\"],\\\"vehicles\\\":[\\\"truck\\\",\\\"car\\\"],\\\"child_involved\\\":0,\\\"names_ages\\\":[(\\\"unknown_name\\\",20),(\\\"unknown_name\\\",20)]}/\"\n",
    "            }\n",
    "          ]\n",
    "        if option == 2:\n",
    "                self.message_history = [\n",
    "        {\n",
    "          \"role\": \"system\",\n",
    "          \"content\": \"Input is a dict type.\\n\\nFor key value \\\"time_of_day\\\" classify and replace individual value to the following categories ['morning','afternoon','evening','night']\\n\\nFor key value \\\"reason\\\" classify and replace individual value to the following categories ['Speed','Driving Under Influence','Collision','Visibility','Negligence','External influences']\\n\\nFor key value \\\"vehicles\\\" classify and replace individual value to the following categories ['Car','Two-Wheeler','Commercial Vehicle','Special Vehicle']\"\n",
    "        },\n",
    "        {\n",
    "          \"role\": \"user\",\n",
    "          \"content\": \"'{\\\"time_of_day\\\":\\\"early morning\\\",\\\"reason\\\":\\\"rash driving\\\",\\\"vehicles\\\":[\\\"car\\\",\\\"tractor-trolly\\\"]}'\"\n",
    "        },\n",
    "        {\n",
    "          \"role\": \"assistant\",\n",
    "          \"content\": \"'{\\\"time_of_day\\\":\\\"morning\\\",\\\"reason\\\":\\\"Negligence\\\",\\\"vehicles\\\":[\\\"car\\\",\\\"'Special Vehicle'\\\"]}'\"\n",
    "        },\n",
    "        {\n",
    "          \"role\": \"user\",\n",
    "          \"content\": \"'{\\\"time_of_day\\\":\\\"early morning\\\",\\\"reason\\\":\\\"speeding\\\",\\\"vehicles\\\":[\\\"car\\\"]}'\"\n",
    "        },\n",
    "        {\n",
    "          \"role\": \"assistant\",\n",
    "          \"content\": \"'{\\\"time_of_day\\\":\\\"morning\\\",\\\"reason\\\":\\\"Speed\\\",\\\"vehicles\\\":[\\\"Car\\\"]}'\"\n",
    "        },\n",
    "        {\n",
    "          \"role\": \"user\",\n",
    "          \"content\": \"'{\\\"time_of_day\\\":\\\"wee hours\\\",\\\"reason\\\":\\\"Lost control over vehicle\\\",\\\"vehicles\\\":[\\\"BMW\\\",\\\"Truck\\\",\\\"scooty\\\"]}'\"\n",
    "        },\n",
    "        {\n",
    "          \"role\": \"assistant\",\n",
    "          \"content\": \"'{\\\"time_of_day\\\":\\\"night\\\",\\\"reason\\\":\\\"Negligence\\\",\\\"vehicles\\\":[\\\"Car\\\",\\\"Commercial Vehicle\\\",\\\"Two-Wheeler\\\"]}'\"\n",
    "        },\n",
    "        {\n",
    "          \"role\": \"user\",\n",
    "          \"content\": \"'{\\\"time_of_day\\\":\\\"night\\\",\\\"reason\\\":\\\"snorting drugs\\\",\\\"vehicles\\\":[\\\"Car\\\",\\\"Commercial Vehicle\\\",\\\"Two-Wheeler\\\"]}'\"\n",
    "        }\n",
    "  ]\n",
    "    \n",
    "    def add_user_input(self, role, content):\n",
    "        self.user_input = {\"role\": role, \"content\": content}\n",
    "        self.prompt = self.message_history\n",
    "        self.prompt.append(self.user_input)\n",
    "        return (self.prompt)"
   ]
  },
  {
   "cell_type": "code",
   "execution_count": null,
   "id": "93f1fe5c-4235-410b-b156-143e0e187ba4",
   "metadata": {},
   "outputs": [],
   "source": []
  },
  {
   "cell_type": "code",
   "execution_count": null,
   "id": "55fafc20-96a6-46df-997f-eea56164ec95",
   "metadata": {},
   "outputs": [],
   "source": []
  },
  {
   "cell_type": "code",
   "execution_count": null,
   "id": "f43fc8ab-a2da-47d1-bf0a-16cb4ae7c48f",
   "metadata": {},
   "outputs": [],
   "source": [
    "def process_message(data):\n",
    "    \n",
    "    m = MessageInitializer(2)\n",
    "    message = m.add_user_input(\"user\",df['JSON_Dict_filtered'][991])\n",
    "\n",
    "    response = client.chat.completions.create(\n",
    "                model=\"gpt-3.5-turbo-0125\",\n",
    "                messages = message,\n",
    "                temperature=0.5,\n",
    "                max_tokens=256,\n",
    "                top_p=0.5,\n",
    "                frequency_penalty=0,\n",
    "                presence_penalty=0,\n",
    "                stop = '/'\n",
    "                                                )\n",
    "\n",
    "    return response.choices[0].message.content"
   ]
  }
 ],
 "metadata": {
  "kernelspec": {
   "display_name": "Python 3 (ipykernel)",
   "language": "python",
   "name": "python3"
  },
  "language_info": {
   "codemirror_mode": {
    "name": "ipython",
    "version": 3
   },
   "file_extension": ".py",
   "mimetype": "text/x-python",
   "name": "python",
   "nbconvert_exporter": "python",
   "pygments_lexer": "ipython3",
   "version": "3.11.5"
  }
 },
 "nbformat": 4,
 "nbformat_minor": 5
}
