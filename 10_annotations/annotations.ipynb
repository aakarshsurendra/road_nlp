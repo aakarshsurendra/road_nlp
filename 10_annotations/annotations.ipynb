{
 "cells": [
  {
   "cell_type": "code",
   "execution_count": 2,
   "id": "3003e7dd-5da4-4e51-b6b0-09338e89bf4b",
   "metadata": {
    "tags": []
   },
   "outputs": [],
   "source": [
    "import spacy\n",
    "import pandas as pd\n",
    "import json\n",
    "import spacy_transformers\n",
    "import pickle"
   ]
  },
  {
   "cell_type": "markdown",
   "id": "36961006-7ccc-4c9d-aba6-28c933a13f81",
   "metadata": {
    "jp-MarkdownHeadingCollapsed": true,
    "tags": []
   },
   "source": [
    "# INITIALIZE"
   ]
  },
  {
   "cell_type": "code",
   "execution_count": 2,
   "id": "4facaf47-93ce-4449-8fe2-705567f0ff15",
   "metadata": {
    "tags": []
   },
   "outputs": [],
   "source": [
    "import spacy\n",
    "import pandas as pd\n",
    "import json\n",
    "import spacy_transformers\n",
    "import pickle"
   ]
  },
  {
   "cell_type": "code",
   "execution_count": 4,
   "id": "7c182758-9682-4c86-8e16-6e5836f7cb88",
   "metadata": {
    "tags": []
   },
   "outputs": [],
   "source": [
    "# !python -m spacy download en_core_web_lg"
   ]
  },
  {
   "cell_type": "code",
   "execution_count": 5,
   "id": "50ef5a92-72c0-4689-bf46-622f98784939",
   "metadata": {
    "tags": []
   },
   "outputs": [],
   "source": [
    "def save_data_to_pickle(data, filename):\n",
    "    \"\"\"\n",
    "    Save data to a pickle file.\n",
    "    \n",
    "    Parameters:\n",
    "        data: The data to be saved.\n",
    "        filename (str): The filename of the pickle file.\n",
    "    \"\"\"\n",
    "    with open(filename, 'wb') as f:\n",
    "        pickle.dump(data, f)\n",
    "    print(f\"Data saved to {filename} successfully.\")\n",
    "\n",
    "def load_data_from_pickle(filename):\n",
    "    \"\"\"\n",
    "    Load data from a pickle file.\n",
    "    \n",
    "    Parameters:\n",
    "        filename (str): The filename of the pickle file.\n",
    "        \n",
    "    Returns:\n",
    "        The loaded data.\n",
    "    \"\"\"\n",
    "    with open(filename, 'rb') as f:\n",
    "        data = pickle.load(f)\n",
    "    print(f\"Data loaded from {filename} successfully.\")\n",
    "    return data"
   ]
  },
  {
   "cell_type": "markdown",
   "id": "5660e7db-ce7b-481f-8c5c-ce010b4e34e6",
   "metadata": {
    "id": "tjznNcLnDJ-r",
    "jp-MarkdownHeadingCollapsed": true,
    "tags": []
   },
   "source": [
    "# ANNOTATION"
   ]
  },
  {
   "cell_type": "markdown",
   "id": "ccc4d75b-59bd-4a63-85bb-efa68295754c",
   "metadata": {
    "id": "tjQ4YcB3DJ-r",
    "tags": []
   },
   "source": [
    "## Dividing Data for Team Members Annotation"
   ]
  },
  {
   "cell_type": "code",
   "execution_count": 25,
   "id": "b917240e-477f-4532-8812-88747792178a",
   "metadata": {
    "tags": []
   },
   "outputs": [],
   "source": [
    "filtered_dataset_oneliner = pd.read_csv('filtered_dataset_oneliner.csv')"
   ]
  },
  {
   "cell_type": "code",
   "execution_count": 26,
   "id": "751f768c-cec6-4e33-bbc1-001b1b1bd72e",
   "metadata": {
    "id": "U3upGnzUDJ-r",
    "tags": []
   },
   "outputs": [],
   "source": [
    "annotation_1000 = filtered_dataset_oneliner.head(1000)"
   ]
  },
  {
   "cell_type": "code",
   "execution_count": 33,
   "id": "e47a7ea2-2662-4871-a33f-1a4ac4682389",
   "metadata": {
    "tags": []
   },
   "outputs": [
    {
     "data": {
      "text/html": [
       "<div>\n",
       "<style scoped>\n",
       "    .dataframe tbody tr th:only-of-type {\n",
       "        vertical-align: middle;\n",
       "    }\n",
       "\n",
       "    .dataframe tbody tr th {\n",
       "        vertical-align: top;\n",
       "    }\n",
       "\n",
       "    .dataframe thead th {\n",
       "        text-align: right;\n",
       "    }\n",
       "</style>\n",
       "<table border=\"1\" class=\"dataframe\">\n",
       "  <thead>\n",
       "    <tr style=\"text-align: right;\">\n",
       "      <th></th>\n",
       "      <th>id</th>\n",
       "      <th>Link</th>\n",
       "      <th>content</th>\n",
       "      <th>News_date</th>\n",
       "      <th>First_Line</th>\n",
       "    </tr>\n",
       "  </thead>\n",
       "  <tbody>\n",
       "    <tr>\n",
       "      <th>0</th>\n",
       "      <td>107938160</td>\n",
       "      <td>https://timesofindia.indiatimes.com/city/allah...</td>\n",
       "      <td>SULTANPUR : Three people lost their lives on F...</td>\n",
       "      <td>Updated: Feb 23, 2024, 13:51 IST</td>\n",
       "      <td>Three people lost their lives on Friday in a c...</td>\n",
       "    </tr>\n",
       "    <tr>\n",
       "      <th>1</th>\n",
       "      <td>107821301</td>\n",
       "      <td>https://timesofindia.indiatimes.com/city/jaipu...</td>\n",
       "      <td>JAIPUR: Three people died in a car accident in...</td>\n",
       "      <td>Updated: Feb 19, 2024, 15:48 IST</td>\n",
       "      <td>Three people died in a car accident in Rajasth...</td>\n",
       "    </tr>\n",
       "    <tr>\n",
       "      <th>2</th>\n",
       "      <td>107790964</td>\n",
       "      <td>https://timesofindia.indiatimes.com/city/benga...</td>\n",
       "      <td>RAICHUR: Two women killed and five others were...</td>\n",
       "      <td>Updated: Feb 18, 2024, 11:34 IST</td>\n",
       "      <td>Two women killed and five others were seriousl...</td>\n",
       "    </tr>\n",
       "    <tr>\n",
       "      <th>3</th>\n",
       "      <td>107737101</td>\n",
       "      <td>https://timesofindia.indiatimes.com/city/delhi...</td>\n",
       "      <td>New Delhi: Two students were injured after a s...</td>\n",
       "      <td>Feb 16, 2024, 08:12 IST</td>\n",
       "      <td>Two students were injured after a speeding car...</td>\n",
       "    </tr>\n",
       "    <tr>\n",
       "      <th>4</th>\n",
       "      <td>107897709</td>\n",
       "      <td>https://timesofindia.indiatimes.com/city/hyder...</td>\n",
       "      <td>Hyderabad: A newlywed software engineer , his ...</td>\n",
       "      <td>Feb 22, 2024, 08:22 IST</td>\n",
       "      <td>A newlywed software engineer , his father-in-l...</td>\n",
       "    </tr>\n",
       "    <tr>\n",
       "      <th>...</th>\n",
       "      <td>...</td>\n",
       "      <td>...</td>\n",
       "      <td>...</td>\n",
       "      <td>...</td>\n",
       "      <td>...</td>\n",
       "    </tr>\n",
       "    <tr>\n",
       "      <th>995</th>\n",
       "      <td>101500586</td>\n",
       "      <td>https://timesofindia.indiatimes.com/city/gurga...</td>\n",
       "      <td>GURGAON: A 28-year-old pedestrian died at a ho...</td>\n",
       "      <td>Updated: Jul 5, 2023, 09:34 IST</td>\n",
       "      <td>A 28-year-old pedestrian died at a hospital af...</td>\n",
       "    </tr>\n",
       "    <tr>\n",
       "      <th>996</th>\n",
       "      <td>100172814</td>\n",
       "      <td>https://timesofindia.indiatimes.com/city/gurga...</td>\n",
       "      <td>GURGAON: A luxury car caught fire and was almo...</td>\n",
       "      <td>Updated: May 12, 2023, 12:08 IST</td>\n",
       "      <td>A luxury car caught fire and was almost comple...</td>\n",
       "    </tr>\n",
       "    <tr>\n",
       "      <th>997</th>\n",
       "      <td>101616677</td>\n",
       "      <td>https://timesofindia.indiatimes.com/city/amara...</td>\n",
       "      <td>TIRUPATI: Six persons were killed in a ghastly...</td>\n",
       "      <td>Jul 9, 2023, 19:42 IST</td>\n",
       "      <td>Six persons were killed in a ghastly road acci...</td>\n",
       "    </tr>\n",
       "    <tr>\n",
       "      <th>998</th>\n",
       "      <td>93356226</td>\n",
       "      <td>https://timesofindia.indiatimes.com/city/goa/c...</td>\n",
       "      <td>VASCO : A speeding rental car rammed into two ...</td>\n",
       "      <td>Updated: Aug 5, 2022, 08:06 IST</td>\n",
       "      <td>A speeding rental car rammed into two policeme...</td>\n",
       "    </tr>\n",
       "    <tr>\n",
       "      <th>999</th>\n",
       "      <td>92679611</td>\n",
       "      <td>https://timesofindia.indiatimes.com/city/jaipu...</td>\n",
       "      <td>JAIPUR: Four people were killed and three inju...</td>\n",
       "      <td>Updated: Jul 5, 2022, 17:53 IST</td>\n",
       "      <td>Four people were killed and three injured in a...</td>\n",
       "    </tr>\n",
       "  </tbody>\n",
       "</table>\n",
       "<p>1000 rows × 5 columns</p>\n",
       "</div>"
      ],
      "text/plain": [
       "            id                                               Link  \\\n",
       "0    107938160  https://timesofindia.indiatimes.com/city/allah...   \n",
       "1    107821301  https://timesofindia.indiatimes.com/city/jaipu...   \n",
       "2    107790964  https://timesofindia.indiatimes.com/city/benga...   \n",
       "3    107737101  https://timesofindia.indiatimes.com/city/delhi...   \n",
       "4    107897709  https://timesofindia.indiatimes.com/city/hyder...   \n",
       "..         ...                                                ...   \n",
       "995  101500586  https://timesofindia.indiatimes.com/city/gurga...   \n",
       "996  100172814  https://timesofindia.indiatimes.com/city/gurga...   \n",
       "997  101616677  https://timesofindia.indiatimes.com/city/amara...   \n",
       "998   93356226  https://timesofindia.indiatimes.com/city/goa/c...   \n",
       "999   92679611  https://timesofindia.indiatimes.com/city/jaipu...   \n",
       "\n",
       "                                               content  \\\n",
       "0    SULTANPUR : Three people lost their lives on F...   \n",
       "1    JAIPUR: Three people died in a car accident in...   \n",
       "2    RAICHUR: Two women killed and five others were...   \n",
       "3    New Delhi: Two students were injured after a s...   \n",
       "4    Hyderabad: A newlywed software engineer , his ...   \n",
       "..                                                 ...   \n",
       "995  GURGAON: A 28-year-old pedestrian died at a ho...   \n",
       "996  GURGAON: A luxury car caught fire and was almo...   \n",
       "997  TIRUPATI: Six persons were killed in a ghastly...   \n",
       "998  VASCO : A speeding rental car rammed into two ...   \n",
       "999  JAIPUR: Four people were killed and three inju...   \n",
       "\n",
       "                            News_date  \\\n",
       "0    Updated: Feb 23, 2024, 13:51 IST   \n",
       "1    Updated: Feb 19, 2024, 15:48 IST   \n",
       "2    Updated: Feb 18, 2024, 11:34 IST   \n",
       "3             Feb 16, 2024, 08:12 IST   \n",
       "4             Feb 22, 2024, 08:22 IST   \n",
       "..                                ...   \n",
       "995   Updated: Jul 5, 2023, 09:34 IST   \n",
       "996  Updated: May 12, 2023, 12:08 IST   \n",
       "997            Jul 9, 2023, 19:42 IST   \n",
       "998   Updated: Aug 5, 2022, 08:06 IST   \n",
       "999   Updated: Jul 5, 2022, 17:53 IST   \n",
       "\n",
       "                                            First_Line  \n",
       "0    Three people lost their lives on Friday in a c...  \n",
       "1    Three people died in a car accident in Rajasth...  \n",
       "2    Two women killed and five others were seriousl...  \n",
       "3    Two students were injured after a speeding car...  \n",
       "4    A newlywed software engineer , his father-in-l...  \n",
       "..                                                 ...  \n",
       "995  A 28-year-old pedestrian died at a hospital af...  \n",
       "996  A luxury car caught fire and was almost comple...  \n",
       "997  Six persons were killed in a ghastly road acci...  \n",
       "998  A speeding rental car rammed into two policeme...  \n",
       "999  Four people were killed and three injured in a...  \n",
       "\n",
       "[1000 rows x 5 columns]"
      ]
     },
     "execution_count": 33,
     "metadata": {},
     "output_type": "execute_result"
    }
   ],
   "source": [
    "annotation_1000"
   ]
  },
  {
   "cell_type": "code",
   "execution_count": 28,
   "id": "dbdc0a79-6ad3-4a62-8044-ba6cf0ec67da",
   "metadata": {
    "id": "16Co2XO1DJ-s",
    "outputId": "a217e984-d4b5-45b8-a777-9f564ac0d5be",
    "tags": []
   },
   "outputs": [
    {
     "data": {
      "text/plain": [
       "Index(['id', 'Link', 'content', 'News_date', 'First_Line'], dtype='object')"
      ]
     },
     "execution_count": 28,
     "metadata": {},
     "output_type": "execute_result"
    }
   ],
   "source": [
    "annotation_1000.columns"
   ]
  },
  {
   "cell_type": "markdown",
   "id": "817b4cb5-c4dc-443c-8502-664a842dfa36",
   "metadata": {
    "id": "f9WtxE0ADJ-s",
    "jp-MarkdownHeadingCollapsed": true,
    "tags": []
   },
   "source": [
    "#### Craig's File for Annotation"
   ]
  },
  {
   "cell_type": "code",
   "execution_count": null,
   "id": "1fae7f3a-c2da-43f9-a5ba-a6d901e36a5c",
   "metadata": {
    "id": "GKcXHkJaDJ-s"
   },
   "outputs": [],
   "source": [
    "craig_annotation3 = annotation_1000['First_Line'].iloc[0:100]"
   ]
  },
  {
   "cell_type": "code",
   "execution_count": null,
   "id": "04b4aeea-0087-4751-8d6b-4cf7cf5d4c5d",
   "metadata": {
    "id": "GotvyTpADJ-s"
   },
   "outputs": [],
   "source": [
    "craig_annotation2 = annotation_1000['First_Line'].iloc[600:700]"
   ]
  },
  {
   "cell_type": "code",
   "execution_count": null,
   "id": "ef72894a-2433-4cc8-a8f0-6d3ca7021993",
   "metadata": {
    "id": "WkF4qJn1DJ-s",
    "outputId": "24e410a0-637f-4bac-bcdc-2d9374b0a81f"
   },
   "outputs": [],
   "source": [
    "# Define the output file path\n",
    "output_file = 'craig_annotation3.txt'\n",
    "\n",
    "# Open the output file in write mode\n",
    "with open(output_file, 'w') as file:\n",
    "    # Iterate over each element in the Series\n",
    "    for sentence in craig_annotation3:\n",
    "        # Write the sentence to the file\n",
    "        file.write(sentence + '\\n')\n",
    "\n",
    "print(f\"Text file '{output_file}' has been created.\")\n"
   ]
  },
  {
   "cell_type": "markdown",
   "id": "33faeb21-2a31-41ae-99b1-d3e7eaeab5a3",
   "metadata": {
    "id": "eVv5YkXGDJ-s",
    "jp-MarkdownHeadingCollapsed": true,
    "tags": []
   },
   "source": [
    "#### Shirin's File for Annotation"
   ]
  },
  {
   "cell_type": "code",
   "execution_count": null,
   "id": "465adefd-791d-4837-a6b6-9a241cbf7381",
   "metadata": {
    "id": "Qa7Scq9BDJ-s"
   },
   "outputs": [],
   "source": [
    "shirin_annotation3 = annotation_1000['First_Line'].iloc[100:200]"
   ]
  },
  {
   "cell_type": "code",
   "execution_count": null,
   "id": "3763eddf-2bf3-459e-a5cc-52be484751e4",
   "metadata": {
    "id": "ktL99l1lDJ-s"
   },
   "outputs": [],
   "source": [
    "shirin_annotation2 = annotation_1000['First_Line'].iloc[700:800]"
   ]
  },
  {
   "cell_type": "code",
   "execution_count": null,
   "id": "6cf6c7db-660f-4f95-8268-e8743d7308d8",
   "metadata": {
    "id": "3HrugML3DJ-s",
    "outputId": "2ab85f85-33fb-4dfe-f687-3536c04ad10f"
   },
   "outputs": [],
   "source": [
    "# Define the output file path\n",
    "output_file = 'shirin_annotation3.txt'\n",
    "\n",
    "# Open the output file in write mode\n",
    "with open(output_file, 'w') as file:\n",
    "    # Iterate over each element in the Series\n",
    "    for sentence in shirin_annotation3:\n",
    "        # Write the sentence to the file\n",
    "        file.write(sentence + '\\n')\n",
    "\n",
    "print(f\"Text file '{output_file}' has been created.\")\n"
   ]
  },
  {
   "cell_type": "markdown",
   "id": "904f6bbb-9353-4547-81ff-126967a780cc",
   "metadata": {
    "id": "IYPOYMdvDJ-s",
    "jp-MarkdownHeadingCollapsed": true,
    "tags": []
   },
   "source": [
    "#### Gourav's File for Annotation"
   ]
  },
  {
   "cell_type": "code",
   "execution_count": null,
   "id": "273f6dee-58f8-4dd9-8dee-d3c1cc7ae627",
   "metadata": {
    "id": "xZmwZUXYDJ-s"
   },
   "outputs": [],
   "source": [
    "gourav_annotation3 = annotation_1000['First_Line'].iloc[200:300]"
   ]
  },
  {
   "cell_type": "code",
   "execution_count": null,
   "id": "fc52bac9-f8f1-45d4-8593-77ff103f9a61",
   "metadata": {
    "id": "2yjxydExDJ-s"
   },
   "outputs": [],
   "source": [
    "gourav_annotation2 = annotation_1000['First_Line'].iloc[500:600]"
   ]
  },
  {
   "cell_type": "code",
   "execution_count": null,
   "id": "d0286ee4-7a86-4895-8dd7-69f03bd9bd88",
   "metadata": {
    "id": "Ps8ML7zrDJ-s",
    "outputId": "7b39ae5c-50b1-42c0-9447-210066c63c0f"
   },
   "outputs": [],
   "source": [
    "# Define the output file path\n",
    "output_file = 'gourav_annotation3.txt'\n",
    "\n",
    "# Open the output file in write mode\n",
    "with open(output_file, 'w') as file:\n",
    "    # Iterate over each element in the Series\n",
    "    for sentence in gourav_annotation3:\n",
    "        # Write the sentence to the file\n",
    "        file.write(sentence + '\\n')\n",
    "\n",
    "print(f\"Text file '{output_file}' has been created.\")\n"
   ]
  },
  {
   "cell_type": "markdown",
   "id": "e286fd98-26a7-4bed-abe8-8a1e3ef9d334",
   "metadata": {
    "id": "SYz3lISsDJ-t",
    "jp-MarkdownHeadingCollapsed": true,
    "tags": []
   },
   "source": [
    "#### Aakarsh's File for Annotation"
   ]
  },
  {
   "cell_type": "code",
   "execution_count": null,
   "id": "2f271f50-61c3-4ef6-aea4-d8d901ae5358",
   "metadata": {
    "id": "dEWrh9CjDJ-t"
   },
   "outputs": [],
   "source": [
    "aakarsh_annotation3 = annotation_1000['First_Line'].iloc[300:400]"
   ]
  },
  {
   "cell_type": "code",
   "execution_count": null,
   "id": "4958aee2-8d5c-41a3-9fca-bd7286391a73",
   "metadata": {
    "id": "GFUn0sQ4DJ-t"
   },
   "outputs": [],
   "source": [
    "aakarsh_annotation2 = annotation_1000['First_Line'].iloc[800:900]"
   ]
  },
  {
   "cell_type": "code",
   "execution_count": null,
   "id": "fb045443-ba69-431d-95a1-bd11aaf0e687",
   "metadata": {
    "id": "vpBR1hQEDJ-t",
    "outputId": "41163c8a-a710-4190-8dc1-5e34231e6eb7"
   },
   "outputs": [],
   "source": [
    "# Define the output file path\n",
    "output_file = 'aakarsh_annotation3.txt'\n",
    "\n",
    "# Open the output file in write mode\n",
    "with open(output_file, 'w') as file:\n",
    "    # Iterate over each element in the Series\n",
    "    for sentence in aakarsh_annotation3:\n",
    "        # Write the sentence to the file\n",
    "        file.write(sentence + '\\n')\n",
    "\n",
    "print(f\"Text file '{output_file}' has been created.\")"
   ]
  },
  {
   "cell_type": "markdown",
   "id": "68a73538-996f-41c0-937c-b3a687df637d",
   "metadata": {
    "id": "CMJk5Vq7DJ-t",
    "tags": []
   },
   "source": [
    "#### Pallavi's File for Annotation"
   ]
  },
  {
   "cell_type": "code",
   "execution_count": null,
   "id": "5f2c866d-4db5-4de4-9269-c88271257bc1",
   "metadata": {
    "id": "V_ABqTnGDJ-t"
   },
   "outputs": [],
   "source": [
    "pallavi_annotation3 = annotation_1000['First_Line'].iloc[400:500]"
   ]
  },
  {
   "cell_type": "code",
   "execution_count": null,
   "id": "abc34282-4689-4a24-9830-f95fe86301a3",
   "metadata": {
    "id": "BpPvNwhQDJ-t",
    "outputId": "138f580e-d5d6-41c6-bb6e-d29b9a0b3abd"
   },
   "outputs": [],
   "source": [
    "# Define the output file path\n",
    "output_file = 'pallavi_annotation3.txt'\n",
    "\n",
    "# Open the output file in write mode\n",
    "with open(output_file, 'w') as file:\n",
    "    # Iterate over each element in the Series\n",
    "    for sentence in pallavi_annotation3:\n",
    "        # Write the sentence to the file\n",
    "        file.write(sentence + '\\n')\n",
    "\n",
    "print(f\"Text file '{output_file}' has been created.\")"
   ]
  },
  {
   "cell_type": "code",
   "execution_count": null,
   "id": "4b33c9f4-2650-4f3b-8ef7-679d746c7a69",
   "metadata": {
    "id": "XiepYGzmDJ-t"
   },
   "outputs": [],
   "source": [
    "pallavi_annotation2 = annotation_1000['First_Line'].iloc[900:1000]"
   ]
  },
  {
   "cell_type": "markdown",
   "id": "04097320-5ed5-47cc-acc6-ba13c3d18cd0",
   "metadata": {},
   "source": [
    "## Assigning the Annotated Data to Filtered Dataset"
   ]
  },
  {
   "cell_type": "code",
   "execution_count": 35,
   "id": "a690f390-483e-4b6d-9465-a21dda2683b8",
   "metadata": {
    "tags": []
   },
   "outputs": [],
   "source": [
    "import json\n",
    "\n",
    "#Specify the file path\n",
    "file_path = \"/Users/aakarshsurendra/Desktop/ROAD_NLP/01_annotations/annotations.json\"\n",
    "\n",
    "\n",
    "#Open the file and load its contents as JSON\n",
    "with open(file_path, 'r') as file:\n",
    "    data = json.load(file)\n",
    "annotations = data.get(\"annotations\", [])"
   ]
  },
  {
   "cell_type": "code",
   "execution_count": null,
   "id": "1e7004f0-d227-4ae7-a471-33b399c9e1de",
   "metadata": {
    "tags": []
   },
   "outputs": [],
   "source": [
    "annotation_1000['annotations'] = annotations"
   ]
  },
  {
   "cell_type": "code",
   "execution_count": 39,
   "id": "100d13fd-feaf-40e9-a849-a51fbcc7e652",
   "metadata": {
    "tags": []
   },
   "outputs": [],
   "source": [
    "annotation_1000 = annotation_1000[annotation_1000['annotations'] != 'None']"
   ]
  },
  {
   "cell_type": "code",
   "execution_count": 58,
   "id": "5b5d2ca4-24fa-4ed8-9988-44e4205b02bd",
   "metadata": {
    "tags": []
   },
   "outputs": [],
   "source": [
    "filtered_annotated = annotation_1000.rename(columns={'id': 'id', 'Link': 'link', 'content': 'content', 'News_date': 'news_date', 'First_Line': 'first_line', 'annotations': 'annotations'})"
   ]
  },
  {
   "cell_type": "code",
   "execution_count": 59,
   "id": "579c71fe-a3e6-489d-afc4-2bd84ebb63b9",
   "metadata": {
    "tags": []
   },
   "outputs": [],
   "source": [
    "filtered_annotated.to_csv('filtered_annotated.csv',index = False)"
   ]
  },
  {
   "cell_type": "markdown",
   "id": "2efc6156-264d-407b-889b-ce4d474bc7be",
   "metadata": {
    "jp-MarkdownHeadingCollapsed": true,
    "tags": []
   },
   "source": [
    "# CONVERTING ANNOTATIONS INTO SPACY FORMAT"
   ]
  },
  {
   "cell_type": "code",
   "execution_count": 27,
   "id": "45cd5fd7-6676-49be-b981-703e4fa277cf",
   "metadata": {
    "tags": []
   },
   "outputs": [],
   "source": [
    "train_data = filtered_annotated['annotations'][:800]\n",
    "test_data = filtered_annotated['annotations'][800:]"
   ]
  },
  {
   "cell_type": "code",
   "execution_count": 28,
   "id": "6e612a9d-3e61-4b15-ac25-d7c30f7272b2",
   "metadata": {
    "tags": []
   },
   "outputs": [],
   "source": [
    "N = 1\n",
    "train_data = pd.concat([train_data] * N, ignore_index=True)\n"
   ]
  },
  {
   "cell_type": "code",
   "execution_count": 29,
   "id": "7bfbfd66-9b2f-4d6a-8395-5c15e13f97f5",
   "metadata": {
    "tags": []
   },
   "outputs": [],
   "source": [
    "entity_names = [\"AGE\", \"VEHICLE TYPE\", \"REASON\", \"FATALITIES\", \"INJURED\", \"GENDER\", \"TIME\"]\n",
    "\n",
    "train_data = train_data.tolist()\n",
    "test_data = test_data.tolist()\n",
    "\n",
    "if train_data is not None:  # Check if 'train_data' is not None\n",
    "    train_data = [tuple(i) for i in train_data if i is not None]  # Convert 'train_data' to list of tuples, excluding any None values\n",
    "    # Further processing if needed\n",
    "else:\n",
    "    print(\"Annotations data is not available or is None \")\n",
    "    \n",
    "if test_data is not None:  # Check if 'test_data' is not None\n",
    "    test_data = [tuple(i) for i in test_data if i is not None]  # Convert 'test_data' to list of tuples, excluding any None values\n",
    "    # Further processing if needed\n",
    "else:\n",
    "    print(\"Annotations data is not available or is None.\")"
   ]
  },
  {
   "cell_type": "code",
   "execution_count": 30,
   "id": "f46d620f-cb22-4a48-a74b-bcaea431c639",
   "metadata": {
    "tags": []
   },
   "outputs": [],
   "source": [
    "# Loop through each item in the train_data list\n",
    "for i in train_data:\n",
    "    # Check if the 'entities' list in the current item is empty\n",
    "    if i[1]['entities'] == []:\n",
    "        # If it's empty, populate it with default tuples (0, 0, name) \n",
    "        # where 'name' is iterated over all elements in 'entity_names'\n",
    "        i[1]['entities'] = [(0, 0, name) for name in entity_names]\n",
    "    else:\n",
    "        # If 'entities' list is not empty, convert each element to a tuple\n",
    "        i[1]['entities'] = [tuple(entity) for entity in i[1]['entities']]\n",
    "\n",
    "# Loop through each item in the test_data list\n",
    "for i in test_data:\n",
    "    # Check if the 'entities' list in the current item is empty\n",
    "    if i[1]['entities'] == []:\n",
    "        # If it's empty, populate it with default tuples (0, 0, name) \n",
    "        # where 'name' is iterated over all elements in 'entity_names'\n",
    "        i[1]['entities'] = [(0, 0, name) for name in entity_names]\n",
    "    else:\n",
    "        # If 'entities' list is not empty, convert each element to a tuple\n",
    "        i[1]['entities'] = [tuple(entity) for entity in i[1]['entities']]\n"
   ]
  },
  {
   "cell_type": "code",
   "execution_count": 31,
   "id": "850b4e31-f62e-4821-87be-7734b3b065ee",
   "metadata": {
    "tags": []
   },
   "outputs": [
    {
     "name": "stdout",
     "output_type": "stream",
     "text": [
      "Length of train_data: 775\n",
      "Length of test_data: 186\n"
     ]
    }
   ],
   "source": [
    "print(f\"Length of train_data: {len(train_data)}\\nLength of test_data: {len(test_data)}\")"
   ]
  },
  {
   "cell_type": "markdown",
   "id": "0ca2b29b-590c-4f62-b750-454a473a4907",
   "metadata": {
    "jp-MarkdownHeadingCollapsed": true,
    "tags": []
   },
   "source": [
    "# DOCBIN"
   ]
  },
  {
   "cell_type": "markdown",
   "id": "1c3387b1-60af-4760-a42f-d4708067889b",
   "metadata": {
    "tags": []
   },
   "source": [
    "### Train Data to Doc bin"
   ]
  },
  {
   "cell_type": "code",
   "execution_count": 33,
   "id": "efafe924-2f26-43be-b662-d8b9e537070c",
   "metadata": {
    "tags": []
   },
   "outputs": [],
   "source": [
    "from spacy.tokens import DocBin\n",
    "from tqdm import tqdm\n",
    "nlp = spacy.blank(\"en\") # load a new spacy model"
   ]
  },
  {
   "cell_type": "code",
   "execution_count": 34,
   "id": "904cd8d0-ed4f-4c10-8616-f79a81845e23",
   "metadata": {
    "tags": []
   },
   "outputs": [
    {
     "data": {
      "text/plain": [
       "775"
      ]
     },
     "execution_count": 34,
     "metadata": {},
     "output_type": "execute_result"
    }
   ],
   "source": [
    "len(train_data)"
   ]
  },
  {
   "cell_type": "code",
   "execution_count": 35,
   "id": "93259e43-d4cc-4fe3-b55f-0c80d155145a",
   "metadata": {
    "tags": []
   },
   "outputs": [
    {
     "name": "stderr",
     "output_type": "stream",
     "text": [
      "Processing train_data: 100%|████████████████| 775/775 [00:00<00:00, 6732.79it/s]\n"
     ]
    }
   ],
   "source": [
    "db = DocBin()\n",
    "\n",
    "for data in tqdm(train_data, desc=\"Processing train_data\"):\n",
    "    if data is None:\n",
    "        print(\"Encountered a null value in train_data. Skipping...\")\n",
    "        continue\n",
    "    \n",
    "    text, annot = data\n",
    "    doc = nlp.make_doc(text)\n",
    "    ents = []\n",
    "\n",
    "    if annot is not None and \"entities\" in annot:  # Check if annot is not None and contains \"entities\" key\n",
    "        for start, end, label in annot[\"entities\"]:\n",
    "            span = doc.char_span(start, end, label=label, alignment_mode=\"contract\")\n",
    "            if span is None:\n",
    "                # print(\"Skipping entity\")\n",
    "                pass\n",
    "            else:\n",
    "                ents.append(span)\n",
    "    doc.ents = ents\n",
    "    db.add(doc)"
   ]
  },
  {
   "cell_type": "code",
   "execution_count": 36,
   "id": "419fc723-d04d-42a8-b497-d6b6eb87cb70",
   "metadata": {
    "tags": []
   },
   "outputs": [],
   "source": [
    "db.to_disk(\"train.spacy\") # save the docbin object"
   ]
  },
  {
   "cell_type": "markdown",
   "id": "51d4214c-a1f9-40ef-8890-61fbd348ce13",
   "metadata": {
    "tags": []
   },
   "source": [
    "### TEST Data to Doc bin"
   ]
  },
  {
   "cell_type": "code",
   "execution_count": 38,
   "id": "8599fc60-ef0c-44cf-94f4-b4fbc3f1ac56",
   "metadata": {
    "tags": []
   },
   "outputs": [],
   "source": [
    "db_test = DocBin()\n",
    "\n",
    "for data in test_data:\n",
    "    if data is None:\n",
    "        print(\"Encountered a null value in train_data. Skipping...\")\n",
    "        continue\n",
    "    \n",
    "    text, annot = data\n",
    "    doc = nlp.make_doc(text)\n",
    "    ents = []\n",
    "\n",
    "    if annot is not None and \"entities\" in annot:  # Check if annot is not None and contains \"entities\" key\n",
    "        for start, end, label in annot[\"entities\"]:\n",
    "            span = doc.char_span(start, end, label=label, alignment_mode=\"contract\")\n",
    "            if span is None:\n",
    "                # print(\"Skipping entity\")\n",
    "                pass\n",
    "            else:\n",
    "                ents.append(span)\n",
    "    doc.ents = ents\n",
    "    db_test.add(doc)"
   ]
  },
  {
   "cell_type": "code",
   "execution_count": 39,
   "id": "1aeb739f-7e29-4e29-b41d-de37fc7f4c56",
   "metadata": {
    "tags": []
   },
   "outputs": [],
   "source": [
    "db_test.to_disk(\"test.spacy\") # save the docbin object"
   ]
  },
  {
   "cell_type": "markdown",
   "id": "768557ae-a560-4068-825b-3620eda40fb2",
   "metadata": {
    "jp-MarkdownHeadingCollapsed": true,
    "tags": []
   },
   "source": [
    "# SAVE TO A PICKLE FILE"
   ]
  },
  {
   "cell_type": "code",
   "execution_count": 41,
   "id": "b62e59a6-2855-4da7-afda-eeb62d058d61",
   "metadata": {
    "tags": []
   },
   "outputs": [
    {
     "name": "stdout",
     "output_type": "stream",
     "text": [
      "Data saved to train_data.pickle successfully.\n",
      "Data saved to test_data.pickle successfully.\n"
     ]
    }
   ],
   "source": [
    "# Save train_data to a pickle file\n",
    "save_data_to_pickle(train_data, \"train_data.pickle\")\n",
    "save_data_to_pickle(test_data, \"test_data.pickle\")"
   ]
  }
 ],
 "metadata": {
  "kernelspec": {
   "display_name": "Python 3 (ipykernel)",
   "language": "python",
   "name": "python3"
  },
  "language_info": {
   "codemirror_mode": {
    "name": "ipython",
    "version": 3
   },
   "file_extension": ".py",
   "mimetype": "text/x-python",
   "name": "python",
   "nbconvert_exporter": "python",
   "pygments_lexer": "ipython3",
   "version": "3.11.3"
  }
 },
 "nbformat": 4,
 "nbformat_minor": 5
}
