{
 "cells": [
  {
   "cell_type": "code",
   "execution_count": 1,
   "id": "a400a6dc-f30b-44ed-9202-cc7ce147ef43",
   "metadata": {
    "tags": []
   },
   "outputs": [],
   "source": [
    "import pickle\n",
    "def load_data_from_pickle(filename):\n",
    "    \"\"\"\n",
    "    Load data from a pickle file.\n",
    "    \n",
    "    Parameters:\n",
    "        filename (str): The filename of the pickle file.\n",
    "        \n",
    "    Returns:\n",
    "        The loaded data.\n",
    "    \"\"\"\n",
    "    with open(filename, 'rb') as f:\n",
    "        data = pickle.load(f)\n",
    "    print(f\"Data loaded from {filename} successfully.\")\n",
    "    return data"
   ]
  },
  {
   "cell_type": "code",
   "execution_count": 3,
   "id": "c6c77a36-c40a-4aca-bee2-8a1575fa0b90",
   "metadata": {
    "tags": []
   },
   "outputs": [
    {
     "ename": "NameError",
     "evalue": "name 'DocBin' is not defined",
     "output_type": "error",
     "traceback": [
      "\u001b[0;31m---------------------------------------------------------------------------\u001b[0m",
      "\u001b[0;31mNameError\u001b[0m                                 Traceback (most recent call last)",
      "Cell \u001b[0;32mIn[3], line 7\u001b[0m\n\u001b[1;32m      4\u001b[0m \u001b[38;5;28;01mimport\u001b[39;00m \u001b[38;5;21;01mspacy_transformers\u001b[39;00m\n\u001b[1;32m      5\u001b[0m \u001b[38;5;28;01mimport\u001b[39;00m \u001b[38;5;21;01mpickle\u001b[39;00m\n\u001b[0;32m----> 7\u001b[0m db \u001b[38;5;241m=\u001b[39m DocBin()\n\u001b[1;32m     11\u001b[0m train_data\u001b[38;5;241m=\u001b[39m load_data_from_pickle(\u001b[38;5;124m'\u001b[39m\u001b[38;5;124mtrain_data_400.pickle\u001b[39m\u001b[38;5;124m'\u001b[39m)\n\u001b[1;32m     13\u001b[0m \u001b[38;5;28;01mfor\u001b[39;00m data \u001b[38;5;129;01min\u001b[39;00m tqdm(train_data, desc\u001b[38;5;241m=\u001b[39m\u001b[38;5;124m\"\u001b[39m\u001b[38;5;124mProcessing train_data\u001b[39m\u001b[38;5;124m\"\u001b[39m):\n",
      "\u001b[0;31mNameError\u001b[0m: name 'DocBin' is not defined"
     ]
    }
   ],
   "source": [
    "import spacy\n",
    "import pandas as pd\n",
    "import json\n",
    "import spacy_transformers\n",
    "import pickle\n",
    "\n",
    "db = DocBin()\n",
    "\n",
    "\n",
    "\n",
    "train_data= load_data_from_pickle('train_data_400.pickle')\n",
    "\n",
    "for data in tqdm(train_data, desc=\"Processing train_data\"):\n",
    "    if data is None:\n",
    "        print(\"Encountered a null value in train_data. Skipping...\")\n",
    "        continue\n",
    "    \n",
    "    text, annot = data\n",
    "    doc = nlp.make_doc(text)\n",
    "    ents = []\n",
    "\n",
    "    if annot is not None and \"entities\" in annot:  # Check if annot is not None and contains \"entities\" key\n",
    "        for start, end, label in annot[\"entities\"]:\n",
    "            span = doc.char_span(start, end, label=label, alignment_mode=\"contract\")\n",
    "            if span is None:\n",
    "                # print(\"Skipping entity\")\n",
    "                pass\n",
    "            else:\n",
    "                ents.append(span)\n",
    "    doc.ents = ents\n",
    "    db.add(doc)"
   ]
  },
  {
   "cell_type": "code",
   "execution_count": null,
   "id": "ee72b56d-6be8-4d63-a079-ffeb406cf4c1",
   "metadata": {},
   "outputs": [],
   "source": [
    "db.to_disk(\"train.spacy\") # save the docbin object"
   ]
  }
 ],
 "metadata": {
  "kernelspec": {
   "display_name": "Python 3 (ipykernel)",
   "language": "python",
   "name": "python3"
  },
  "language_info": {
   "codemirror_mode": {
    "name": "ipython",
    "version": 3
   },
   "file_extension": ".py",
   "mimetype": "text/x-python",
   "name": "python",
   "nbconvert_exporter": "python",
   "pygments_lexer": "ipython3",
   "version": "3.11.5"
  }
 },
 "nbformat": 4,
 "nbformat_minor": 5
}
